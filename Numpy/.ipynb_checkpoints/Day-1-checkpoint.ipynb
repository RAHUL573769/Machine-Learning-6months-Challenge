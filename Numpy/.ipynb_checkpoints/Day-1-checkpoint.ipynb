{
 "cells": [
  {
   "cell_type": "code",
   "execution_count": 1,
   "id": "f03448d3-5901-4592-8b22-3418657da3ec",
   "metadata": {},
   "outputs": [
    {
     "name": "stdout",
     "output_type": "stream",
     "text": [
      "[1 2 3 4 5]\n",
      "<class 'numpy.ndarray'>\n"
     ]
    }
   ],
   "source": [
    "import numpy as np\n",
    "\n",
    "arr = np.array([1, 2, 3, 4, 5])\n",
    "\n",
    "print(arr)\n",
    "\n",
    "print(type(arr))"
   ]
  },
  {
   "cell_type": "code",
   "execution_count": 4,
   "id": "98ef88a1-19e8-4ad5-ac23-33aff1a49076",
   "metadata": {},
   "outputs": [
    {
     "name": "stdout",
     "output_type": "stream",
     "text": [
      "[[0 0 4 3 0 0 2 0 9]\n",
      " [0 0 5 0 0 9 0 0 1]\n",
      " [0 7 0 0 6 0 0 4 3]\n",
      " [0 0 6 0 0 2 0 8 7]\n",
      " [1 9 0 0 0 7 4 0 0]\n",
      " [0 5 0 0 8 3 0 0 0]\n",
      " [6 0 0 0 0 0 1 0 5]\n",
      " [0 0 3 5 0 8 6 9 0]\n",
      " [0 4 2 9 1 0 3 0 0]]\n",
      "<class 'numpy.ndarray'>\n"
     ]
    }
   ],
   "source": [
    "# Import NumPy\n",
    "import numpy as np\n",
    "\n",
    "# Convert sudoku_list into an array\n",
    "\n",
    "sudoku_list=[[0, 0, 4, 3, 0, 0, 2, 0, 9],\n",
    " [0, 0, 5, 0, 0, 9, 0, 0, 1],\n",
    " [0, 7, 0, 0, 6, 0, 0, 4, 3],\n",
    " [0, 0, 6, 0, 0, 2, 0, 8, 7],\n",
    " [1, 9, 0, 0, 0, 7, 4, 0, 0],\n",
    " [0, 5, 0, 0, 8, 3, 0, 0, 0],\n",
    " [6, 0, 0, 0, 0, 0, 1, 0, 5],\n",
    " [0, 0, 3, 5, 0, 8, 6, 9, 0],\n",
    " [0, 4, 2, 9, 1, 0, 3, 0, 0]]\n",
    "sudoku_array = np.array(sudoku_list)\n",
    "\n",
    "# Print the type of sudoku_array \n",
    "print(sudoku_array)\n",
    "print(type(sudoku_array))"
   ]
  },
  {
   "cell_type": "code",
   "execution_count": 5,
   "id": "a945fabe-3a5b-4be0-8554-5587f6faaeb9",
   "metadata": {},
   "outputs": [
    {
     "name": "stdout",
     "output_type": "stream",
     "text": [
      "[[0. 0. 0. 0.]\n",
      " [0. 0. 0. 0.]]\n"
     ]
    }
   ],
   "source": [
    "# Create an array of zeros which has four columns and two rows\n",
    "\n",
    "\n",
    "\n",
    "import numpy as np\n",
    "\n",
    "# Create a 2x4 array filled with zeros\n",
    "zero_array = np.zeros((2, 4))\n",
    "\n",
    "# Print the array\n",
    "print(zero_array)\n"
   ]
  },
  {
   "cell_type": "code",
   "execution_count": 6,
   "id": "65883368-06e0-4213-a7a5-2cb8707c659b",
   "metadata": {},
   "outputs": [
    {
     "name": "stdout",
     "output_type": "stream",
     "text": [
      "[[0.97304296 0.90528976 0.75054582 0.98672941 0.17399683 0.55651784]\n",
      " [0.31830215 0.27493114 0.60144977 0.0622876  0.4177873  0.29235838]\n",
      " [0.76991965 0.78587257 0.78571048 0.7288843  0.77251211 0.12085092]]\n"
     ]
    }
   ],
   "source": [
    "# Create an array of random floats which has six columns and three rows\n",
    "\n",
    "import numpy as np\n",
    "\n",
    "# Create an array of random floats between 0 and 1\n",
    "# with 3 rows and 6 columns.\n",
    "random_array = np.random.rand(3, 6)\n",
    "\n",
    "# Print the created array.\n",
    "print(random_array)"
   ]
  },
  {
   "cell_type": "code",
   "execution_count": 7,
   "id": "58294df0-c296-4988-8d6a-0d3092385c49",
   "metadata": {},
   "outputs": [
    {
     "ename": "ModuleNotFoundError",
     "evalue": "No module named 'matplotlib'",
     "output_type": "error",
     "traceback": [
      "\u001b[31m---------------------------------------------------------------------------\u001b[39m",
      "\u001b[31mModuleNotFoundError\u001b[39m                       Traceback (most recent call last)",
      "\u001b[36mCell\u001b[39m\u001b[36m \u001b[39m\u001b[32mIn[7]\u001b[39m\u001b[32m, line 2\u001b[39m\n\u001b[32m      1\u001b[39m \u001b[38;5;66;03m# Create an array of integers from one to ten\u001b[39;00m\n\u001b[32m----> \u001b[39m\u001b[32m2\u001b[39m \u001b[38;5;28;01mimport\u001b[39;00m\u001b[38;5;250m \u001b[39m\u001b[34;01mmatplotlib\u001b[39;00m\u001b[34;01m.\u001b[39;00m\u001b[34;01mpyplot\u001b[39;00m\u001b[38;5;250m \u001b[39m\u001b[38;5;28;01mas\u001b[39;00m\u001b[38;5;250m \u001b[39m\u001b[34;01mplt\u001b[39;00m\n\u001b[32m      3\u001b[39m doubling_array = [\u001b[32m1\u001b[39m, \u001b[32m2\u001b[39m, \u001b[32m4\u001b[39m, \u001b[32m8\u001b[39m, \u001b[32m16\u001b[39m, \u001b[32m32\u001b[39m, \u001b[32m64\u001b[39m, \u001b[32m128\u001b[39m, \u001b[32m256\u001b[39m, \u001b[32m512\u001b[39m]\n\u001b[32m      5\u001b[39m one_to_ten = np.arange(\u001b[32m1\u001b[39m, \u001b[32m11\u001b[39m)\n",
      "\u001b[31mModuleNotFoundError\u001b[39m: No module named 'matplotlib'"
     ]
    }
   ],
   "source": [
    "# Create an array of integers from one to ten\n",
    "import matplotlib.pyplot as plt\n",
    "doubling_array = [1, 2, 4, 8, 16, 32, 64, 128, 256, 512]\n",
    "\n",
    "one_to_ten = np.arange(1, 11)\n",
    "\n",
    "# Create your scatterplot\n",
    "plt.scatter(one_to_ten, doubling_array)\n",
    "plt.show()"
   ]
  },
  {
   "cell_type": "code",
   "execution_count": 9,
   "id": "4210c918-89d3-4cdd-bb28-d139887e3b09",
   "metadata": {},
   "outputs": [
    {
     "ename": "ModuleNotFoundError",
     "evalue": "No module named 'matplotlib'",
     "output_type": "error",
     "traceback": [
      "\u001b[31m---------------------------------------------------------------------------\u001b[39m",
      "\u001b[31mModuleNotFoundError\u001b[39m                       Traceback (most recent call last)",
      "\u001b[36mCell\u001b[39m\u001b[36m \u001b[39m\u001b[32mIn[9]\u001b[39m\u001b[32m, line 2\u001b[39m\n\u001b[32m      1\u001b[39m \u001b[38;5;28;01mimport\u001b[39;00m\u001b[38;5;250m \u001b[39m\u001b[34;01mnumpy\u001b[39;00m\u001b[38;5;250m \u001b[39m\u001b[38;5;28;01mas\u001b[39;00m\u001b[38;5;250m \u001b[39m\u001b[34;01mnp\u001b[39;00m\n\u001b[32m----> \u001b[39m\u001b[32m2\u001b[39m \u001b[38;5;28;01mimport\u001b[39;00m\u001b[38;5;250m \u001b[39m\u001b[34;01mmatplotlib\u001b[39;00m\u001b[34;01m.\u001b[39;00m\u001b[34;01mpyplot\u001b[39;00m\u001b[38;5;250m \u001b[39m\u001b[38;5;28;01mas\u001b[39;00m\u001b[38;5;250m \u001b[39m\u001b[34;01mplt\u001b[39;00m\n\u001b[32m      4\u001b[39m doubling_array = [\u001b[32m1\u001b[39m, \u001b[32m2\u001b[39m, \u001b[32m4\u001b[39m, \u001b[32m8\u001b[39m, \u001b[32m16\u001b[39m, \u001b[32m32\u001b[39m, \u001b[32m64\u001b[39m, \u001b[32m128\u001b[39m, \u001b[32m256\u001b[39m, \u001b[32m512\u001b[39m]\n\u001b[32m      6\u001b[39m one_to_ten = np.arange(\u001b[32m1\u001b[39m, \u001b[32m11\u001b[39m)\n",
      "\u001b[31mModuleNotFoundError\u001b[39m: No module named 'matplotlib'"
     ]
    }
   ],
   "source": [
    "import numpy as np\n",
    "import matplotlib.pyplot as plt\n",
    "\n",
    "doubling_array = [1, 2, 4, 8, 16, 32, 64, 128, 256, 512]\n",
    "\n",
    "one_to_ten = np.arange(1, 11)\n",
    "\n",
    "plt.scatter(one_to_ten, doubling_array)\n",
    "plt.show()\n"
   ]
  },
  {
   "cell_type": "code",
   "execution_count": 10,
   "id": "fc9697f3-ef12-4801-bdba-5b8da78f6d53",
   "metadata": {},
   "outputs": [
    {
     "name": "stdout",
     "output_type": "stream",
     "text": [
      "Collecting matplotlib\n",
      "  Downloading matplotlib-3.10.5-cp312-cp312-win_amd64.whl.metadata (11 kB)\n",
      "Collecting contourpy>=1.0.1 (from matplotlib)\n",
      "  Downloading contourpy-1.3.3-cp312-cp312-win_amd64.whl.metadata (5.5 kB)\n",
      "Collecting cycler>=0.10 (from matplotlib)\n",
      "  Downloading cycler-0.12.1-py3-none-any.whl.metadata (3.8 kB)\n",
      "Collecting fonttools>=4.22.0 (from matplotlib)\n",
      "  Downloading fonttools-4.59.1-cp312-cp312-win_amd64.whl.metadata (111 kB)\n",
      "     ---------------------------------------- 0.0/111.1 kB ? eta -:--:--\n",
      "     --- ------------------------------------ 10.2/111.1 kB ? eta -:--:--\n",
      "     ------------- ----------------------- 41.0/111.1 kB 495.5 kB/s eta 0:00:01\n",
      "     ------------------------------ ------ 92.2/111.1 kB 751.6 kB/s eta 0:00:01\n",
      "     ------------------------------------ 111.1/111.1 kB 720.5 kB/s eta 0:00:00\n",
      "Collecting kiwisolver>=1.3.1 (from matplotlib)\n",
      "  Downloading kiwisolver-1.4.9-cp312-cp312-win_amd64.whl.metadata (6.4 kB)\n",
      "Requirement already satisfied: numpy>=1.23 in c:\\python312\\lib\\site-packages (from matplotlib) (2.3.2)\n",
      "Requirement already satisfied: packaging>=20.0 in c:\\users\\rahul rudra\\appdata\\roaming\\python\\python312\\site-packages (from matplotlib) (25.0)\n",
      "Collecting pillow>=8 (from matplotlib)\n",
      "  Downloading pillow-11.3.0-cp312-cp312-win_amd64.whl.metadata (9.2 kB)\n",
      "Collecting pyparsing>=2.3.1 (from matplotlib)\n",
      "  Downloading pyparsing-3.2.3-py3-none-any.whl.metadata (5.0 kB)\n",
      "Requirement already satisfied: python-dateutil>=2.7 in c:\\users\\rahul rudra\\appdata\\roaming\\python\\python312\\site-packages (from matplotlib) (2.9.0.post0)\n",
      "Requirement already satisfied: six>=1.5 in c:\\users\\rahul rudra\\appdata\\roaming\\python\\python312\\site-packages (from python-dateutil>=2.7->matplotlib) (1.17.0)\n",
      "Downloading matplotlib-3.10.5-cp312-cp312-win_amd64.whl (8.1 MB)\n",
      "   ---------------------------------------- 0.0/8.1 MB ? eta -:--:--\n",
      "    --------------------------------------- 0.1/8.1 MB 3.3 MB/s eta 0:00:03\n",
      "    --------------------------------------- 0.2/8.1 MB 2.0 MB/s eta 0:00:05\n",
      "   - -------------------------------------- 0.3/8.1 MB 1.9 MB/s eta 0:00:05\n",
      "   -- ------------------------------------- 0.4/8.1 MB 2.3 MB/s eta 0:00:04\n",
      "   -- ------------------------------------- 0.5/8.1 MB 2.2 MB/s eta 0:00:04\n",
      "   --- ------------------------------------ 0.7/8.1 MB 2.1 MB/s eta 0:00:04\n",
      "   ----- ---------------------------------- 1.1/8.1 MB 2.0 MB/s eta 0:00:04\n",
      "   ------ --------------------------------- 1.3/8.1 MB 2.0 MB/s eta 0:00:04\n",
      "   ------- -------------------------------- 1.6/8.1 MB 2.1 MB/s eta 0:00:04\n",
      "   -------- ------------------------------- 1.8/8.1 MB 2.1 MB/s eta 0:00:04\n",
      "   ------------ --------------------------- 2.4/8.1 MB 2.2 MB/s eta 0:00:03\n",
      "   ---------------- ----------------------- 3.3/8.1 MB 2.2 MB/s eta 0:00:03\n",
      "   ---------------- ----------------------- 3.4/8.1 MB 2.2 MB/s eta 0:00:03\n",
      "   ----------------- ---------------------- 3.5/8.1 MB 2.2 MB/s eta 0:00:03\n",
      "   ------------------ --------------------- 3.8/8.1 MB 2.3 MB/s eta 0:00:02\n",
      "   -------------------- ------------------- 4.1/8.1 MB 2.3 MB/s eta 0:00:02\n",
      "   -------------------- ------------------- 4.2/8.1 MB 2.3 MB/s eta 0:00:02\n",
      "   ----------------------- ---------------- 4.8/8.1 MB 2.4 MB/s eta 0:00:02\n",
      "   ------------------------ --------------- 5.1/8.1 MB 2.4 MB/s eta 0:00:02\n",
      "   ------------------------- -------------- 5.1/8.1 MB 2.4 MB/s eta 0:00:02\n",
      "   -------------------------- ------------- 5.3/8.1 MB 2.5 MB/s eta 0:00:02\n",
      "   -------------------------- ------------- 5.4/8.1 MB 2.4 MB/s eta 0:00:02\n",
      "   --------------------------- ------------ 5.6/8.1 MB 2.5 MB/s eta 0:00:02\n",
      "   ---------------------------- ----------- 5.8/8.1 MB 2.5 MB/s eta 0:00:01\n",
      "   ----------------------------- ---------- 5.9/8.1 MB 2.5 MB/s eta 0:00:01\n",
      "   ----------------------------- ---------- 6.1/8.1 MB 2.5 MB/s eta 0:00:01\n",
      "   ------------------------------- -------- 6.3/8.1 MB 2.5 MB/s eta 0:00:01\n",
      "   ------------------------------- -------- 6.4/8.1 MB 2.5 MB/s eta 0:00:01\n",
      "   -------------------------------- ------- 6.6/8.1 MB 2.5 MB/s eta 0:00:01\n",
      "   -------------------------------- ------- 6.6/8.1 MB 2.5 MB/s eta 0:00:01\n",
      "   --------------------------------- ------ 6.9/8.1 MB 2.6 MB/s eta 0:00:01\n",
      "   --------------------------------- ------ 6.9/8.1 MB 2.6 MB/s eta 0:00:01\n",
      "   ---------------------------------- ----- 7.0/8.1 MB 2.5 MB/s eta 0:00:01\n",
      "   ----------------------------------- ---- 7.1/8.1 MB 2.6 MB/s eta 0:00:01\n",
      "   ------------------------------------ --- 7.4/8.1 MB 2.6 MB/s eta 0:00:01\n",
      "   ------------------------------------- -- 7.5/8.1 MB 2.6 MB/s eta 0:00:01\n",
      "   ------------------------------------- -- 7.6/8.1 MB 2.6 MB/s eta 0:00:01\n",
      "   -------------------------------------- - 7.8/8.1 MB 2.6 MB/s eta 0:00:01\n",
      "   ---------------------------------------  7.9/8.1 MB 2.6 MB/s eta 0:00:01\n",
      "   ---------------------------------------  8.1/8.1 MB 2.6 MB/s eta 0:00:01\n",
      "   ---------------------------------------  8.1/8.1 MB 2.6 MB/s eta 0:00:01\n",
      "   ---------------------------------------- 8.1/8.1 MB 2.6 MB/s eta 0:00:00\n",
      "Downloading contourpy-1.3.3-cp312-cp312-win_amd64.whl (226 kB)\n",
      "   ---------------------------------------- 0.0/226.6 kB ? eta -:--:--\n",
      "   ------------------------------ --------- 174.1/226.6 kB 3.6 MB/s eta 0:00:01\n",
      "   ---------------------------------------- 226.6/226.6 kB 2.3 MB/s eta 0:00:00\n",
      "Downloading cycler-0.12.1-py3-none-any.whl (8.3 kB)\n",
      "Downloading fonttools-4.59.1-cp312-cp312-win_amd64.whl (2.3 MB)\n",
      "   ---------------------------------------- 0.0/2.3 MB ? eta -:--:--\n",
      "   --- ------------------------------------ 0.2/2.3 MB 3.9 MB/s eta 0:00:01\n",
      "   ----- ---------------------------------- 0.3/2.3 MB 3.3 MB/s eta 0:00:01\n",
      "   -------- ------------------------------- 0.5/2.3 MB 3.3 MB/s eta 0:00:01\n",
      "   -------- ------------------------------- 0.5/2.3 MB 2.6 MB/s eta 0:00:01\n",
      "   ------------ --------------------------- 0.7/2.3 MB 2.9 MB/s eta 0:00:01\n",
      "   --------------- ------------------------ 0.8/2.3 MB 3.0 MB/s eta 0:00:01\n",
      "   ----------------- ---------------------- 1.0/2.3 MB 2.9 MB/s eta 0:00:01\n",
      "   --------------------- ------------------ 1.2/2.3 MB 3.2 MB/s eta 0:00:01\n",
      "   ------------------------ --------------- 1.4/2.3 MB 3.3 MB/s eta 0:00:01\n",
      "   --------------------------- ------------ 1.5/2.3 MB 3.3 MB/s eta 0:00:01\n",
      "   -------------------------------- ------- 1.8/2.3 MB 3.5 MB/s eta 0:00:01\n",
      "   -------------------------------- ------- 1.8/2.3 MB 3.3 MB/s eta 0:00:01\n",
      "   ------------------------------------- -- 2.1/2.3 MB 3.5 MB/s eta 0:00:01\n",
      "   ---------------------------------------  2.2/2.3 MB 3.4 MB/s eta 0:00:01\n",
      "   ---------------------------------------- 2.3/2.3 MB 3.3 MB/s eta 0:00:00\n",
      "Downloading kiwisolver-1.4.9-cp312-cp312-win_amd64.whl (73 kB)\n",
      "   ---------------------------------------- 0.0/73.9 kB ? eta -:--:--\n",
      "   ---------------------------------------- 73.9/73.9 kB 2.1 MB/s eta 0:00:00\n",
      "Downloading pillow-11.3.0-cp312-cp312-win_amd64.whl (7.0 MB)\n",
      "   ---------------------------------------- 0.0/7.0 MB ? eta -:--:--\n",
      "   - -------------------------------------- 0.2/7.0 MB 6.3 MB/s eta 0:00:02\n",
      "   - -------------------------------------- 0.3/7.0 MB 5.4 MB/s eta 0:00:02\n",
      "   -- ------------------------------------- 0.5/7.0 MB 3.5 MB/s eta 0:00:02\n",
      "   --- ------------------------------------ 0.6/7.0 MB 3.9 MB/s eta 0:00:02\n",
      "   ---- ----------------------------------- 0.8/7.0 MB 3.5 MB/s eta 0:00:02\n",
      "   ----- ---------------------------------- 0.9/7.0 MB 3.8 MB/s eta 0:00:02\n",
      "   ----- ---------------------------------- 1.0/7.0 MB 3.2 MB/s eta 0:00:02\n",
      "   ------ --------------------------------- 1.1/7.0 MB 3.3 MB/s eta 0:00:02\n",
      "   ------ --------------------------------- 1.2/7.0 MB 3.3 MB/s eta 0:00:02\n",
      "   ------- -------------------------------- 1.3/7.0 MB 2.9 MB/s eta 0:00:02\n",
      "   -------- ------------------------------- 1.5/7.0 MB 3.0 MB/s eta 0:00:02\n",
      "   --------- ------------------------------ 1.6/7.0 MB 3.0 MB/s eta 0:00:02\n",
      "   --------- ------------------------------ 1.7/7.0 MB 3.0 MB/s eta 0:00:02\n",
      "   ---------- ----------------------------- 1.9/7.0 MB 2.9 MB/s eta 0:00:02\n",
      "   ----------- ---------------------------- 2.0/7.0 MB 3.0 MB/s eta 0:00:02\n",
      "   ------------ --------------------------- 2.3/7.0 MB 3.1 MB/s eta 0:00:02\n",
      "   ------------- -------------------------- 2.4/7.0 MB 3.1 MB/s eta 0:00:02\n",
      "   -------------- ------------------------- 2.6/7.0 MB 3.2 MB/s eta 0:00:02\n",
      "   --------------- ------------------------ 2.7/7.0 MB 3.2 MB/s eta 0:00:02\n",
      "   ----------------- ---------------------- 3.0/7.0 MB 3.2 MB/s eta 0:00:02\n",
      "   ----------------- ---------------------- 3.1/7.0 MB 3.2 MB/s eta 0:00:02\n",
      "   ------------------ --------------------- 3.3/7.0 MB 3.2 MB/s eta 0:00:02\n",
      "   ------------------- -------------------- 3.4/7.0 MB 3.2 MB/s eta 0:00:02\n",
      "   -------------------- ------------------- 3.6/7.0 MB 3.1 MB/s eta 0:00:02\n",
      "   --------------------- ------------------ 3.7/7.0 MB 3.2 MB/s eta 0:00:02\n",
      "   ---------------------- ----------------- 3.9/7.0 MB 3.2 MB/s eta 0:00:01\n",
      "   ---------------------- ----------------- 4.0/7.0 MB 3.2 MB/s eta 0:00:01\n",
      "   ----------------------- ---------------- 4.2/7.0 MB 3.2 MB/s eta 0:00:01\n",
      "   ------------------------- -------------- 4.4/7.0 MB 3.2 MB/s eta 0:00:01\n",
      "   ------------------------- -------------- 4.5/7.0 MB 3.2 MB/s eta 0:00:01\n",
      "   -------------------------- ------------- 4.7/7.0 MB 3.2 MB/s eta 0:00:01\n",
      "   --------------------------- ------------ 4.8/7.0 MB 3.2 MB/s eta 0:00:01\n",
      "   --------------------------- ------------ 4.9/7.0 MB 3.1 MB/s eta 0:00:01\n",
      "   ----------------------------- ---------- 5.1/7.0 MB 3.2 MB/s eta 0:00:01\n",
      "   ----------------------------- ---------- 5.2/7.0 MB 3.1 MB/s eta 0:00:01\n",
      "   ------------------------------ --------- 5.4/7.0 MB 3.2 MB/s eta 0:00:01\n",
      "   -------------------------------- ------- 5.6/7.0 MB 3.3 MB/s eta 0:00:01\n",
      "   -------------------------------- ------- 5.7/7.0 MB 3.2 MB/s eta 0:00:01\n",
      "   --------------------------------- ------ 5.9/7.0 MB 3.3 MB/s eta 0:00:01\n",
      "   ---------------------------------- ----- 6.1/7.0 MB 3.3 MB/s eta 0:00:01\n",
      "   ----------------------------------- ---- 6.3/7.0 MB 3.3 MB/s eta 0:00:01\n",
      "   ------------------------------------ --- 6.3/7.0 MB 3.2 MB/s eta 0:00:01\n",
      "   ------------------------------------- -- 6.6/7.0 MB 3.3 MB/s eta 0:00:01\n",
      "   -------------------------------------- - 6.7/7.0 MB 3.3 MB/s eta 0:00:01\n",
      "   ---------------------------------------  7.0/7.0 MB 3.3 MB/s eta 0:00:01\n",
      "   ---------------------------------------  7.0/7.0 MB 3.3 MB/s eta 0:00:01\n",
      "   ---------------------------------------- 7.0/7.0 MB 3.2 MB/s eta 0:00:00\n",
      "Downloading pyparsing-3.2.3-py3-none-any.whl (111 kB)\n",
      "   ---------------------------------------- 0.0/111.1 kB ? eta -:--:--\n",
      "   ------------------------------------ --- 102.4/111.1 kB 5.8 MB/s eta 0:00:01\n",
      "   ---------------------------------------- 111.1/111.1 kB 2.1 MB/s eta 0:00:00\n",
      "Installing collected packages: pyparsing, pillow, kiwisolver, fonttools, cycler, contourpy, matplotlib\n",
      "Note: you may need to restart the kernel to use updated packages.\n"
     ]
    },
    {
     "name": "stderr",
     "output_type": "stream",
     "text": [
      "ERROR: Could not install packages due to an OSError: [WinError 5] Access is denied: 'C:\\\\Python312\\\\share'\n",
      "Consider using the `--user` option or check the permissions.\n",
      "\n",
      "\n",
      "[notice] A new release of pip is available: 24.0 -> 25.2\n",
      "[notice] To update, run: python.exe -m pip install --upgrade pip\n"
     ]
    }
   ],
   "source": [
    "    pip install matplotlib"
   ]
  },
  {
   "cell_type": "code",
   "execution_count": 11,
   "id": "419e8577-6b0f-47da-b85a-45c8cd80f6e4",
   "metadata": {},
   "outputs": [
    {
     "data": {
      "image/png": "[encoded data removed]",
      "text/plain": [
       "<Figure size 640x480 with 1 Axes>"
      ]
     },
     "metadata": {},
     "output_type": "display_data"
    }
   ],
   "source": [
    "import numpy as np\n",
    "import matplotlib.pyplot as plt\n",
    "\n",
    "doubling_array = [1, 2, 4, 8, 16, 32, 64, 128, 256, 512]\n",
    "\n",
    "one_to_ten = np.arange(1, 11)\n",
    "\n",
    "plt.scatter(one_to_ten, doubling_array)\n",
    "plt.show()"
   ]
  },
  {
   "cell_type": "code",
   "execution_count": null,
   "id": "b03d5a5f-ca62-4f21-966c-fd016e29491e",
   "metadata": {},
   "outputs": [],
   "source": []
  }
 ],
 "metadata": {
  "kernelspec": {
   "display_name": "Python 3 (ipykernel)",
   "language": "python",
   "name": "python3"
  },
  "language_info": {
   "codemirror_mode": {
    "name": "ipython",
    "version": 3
   },
   "file_extension": ".py",
   "mimetype": "text/x-python",
   "name": "python",
   "nbconvert_exporter": "python",
   "pygments_lexer": "ipython3",
   "version": "3.12.3"
  },
  "widgets": {
   "application/vnd.jupyter.widget-state+json": {
    "state": {},
    "version_major": 2,
    "version_minor": 0
   }
  }
 },
 "nbformat": 4,
 "nbformat_minor": 5
}
