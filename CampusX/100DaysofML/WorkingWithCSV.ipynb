{
 "cells": [
  {
   "cell_type": "code",
   "execution_count": 1,
   "id": "c9592243-b3ac-4fad-aebb-6b2cecb83103",
   "metadata": {},
   "outputs": [],
   "source": [
    "import pandas as pd"
   ]
  },
  {
   "cell_type": "code",
   "execution_count": 2,
   "id": "ed0e3b3f-a566-477a-a71c-0e2e42d1d727",
   "metadata": {},
   "outputs": [
    {
     "ename": "SyntaxError",
     "evalue": "unterminated string literal (detected at line 1) (3935615529.py, line 1)",
     "output_type": "error",
     "traceback": [
      "  \u001b[36mCell\u001b[39m\u001b[36m \u001b[39m\u001b[32mIn[2]\u001b[39m\u001b[32m, line 1\u001b[39m\n\u001b[31m    \u001b[39m\u001b[31mdataFrame=pd.read_csv('placement.csv\")\u001b[39m\n                          ^\n\u001b[31mSyntaxError\u001b[39m\u001b[31m:\u001b[39m unterminated string literal (detected at line 1)\n"
     ]
    }
   ],
   "source": [
    "dataFrame=pd.read_csv('placement.csv\")"
   ]
  },
  {
   "cell_type": "code",
   "execution_count": 8,
   "id": "ae6f6c4c-31b4-4801-bef7-1383a1f6918c",
   "metadata": {},
   "outputs": [],
   "source": [
    "dataFrame=pd.read_csv(\"placement.csv\",names=[\"cgpa\"])"
   ]
  },
  {
   "cell_type": "code",
   "execution_count": 9,
   "id": "679cc0cb-0de2-49e4-b5d2-892fe52a880d",
   "metadata": {},
   "outputs": [
    {
     "name": "stdout",
     "output_type": "stream",
     "text": [
      "                      cgpa\n",
      "NaN  cgpa iq     placement\n",
      "0.0  6.8  123.0          1\n",
      "1.0  5.9  106.0          0\n",
      "2.0  5.3  121.0          0\n",
      "3.0  7.4  132.0          1\n",
      "...                    ...\n",
      "95.0 4.3  200.0          0\n",
      "96.0 4.4  42.0           0\n",
      "97.0 6.7  182.0          1\n",
      "98.0 6.3  103.0          1\n",
      "99.0 6.2  113.0          1\n",
      "\n",
      "[101 rows x 1 columns]\n"
     ]
    }
   ],
   "source": [
    "print(dataFrame)"
   ]
  },
  {
   "cell_type": "code",
   "execution_count": 6,
   "id": "fb261ab8-15ec-4a9e-9fac-b552dccd8557",
   "metadata": {},
   "outputs": [
    {
     "name": "stdout",
     "output_type": "stream",
     "text": [
      "   sepal_length  sepal_width  petal_length  petal_width      species\n",
      "0           5.1          3.5           1.4          0.2  Iris-setosa\n",
      "1           4.9          3.0           1.4          0.2  Iris-setosa\n",
      "2           4.7          3.2           1.3          0.2  Iris-setosa\n",
      "3           4.6          3.1           1.5          0.2  Iris-setosa\n",
      "4           5.0          3.6           1.4          0.2  Iris-setosa\n"
     ]
    }
   ],
   "source": [
    "# Opening CSV From URL\n",
    "\n",
    "import requests\n",
    "import pandas as pd\n",
    "from io import StringIO\n",
    "\n",
    "# CSV file URL\n",
    "url = \"https://raw.githubusercontent.com/CourseMaterial/DataWrangling/main/flowerdataset.csv\"\n",
    "\n",
    "# Optional headers (for public GitHub raw files, not really needed)\n",
    "headers = {\n",
    "    \"User-Agent\": \"Mozilla/5.0\"\n",
    "}\n",
    "\n",
    "# Fetch data\n",
    "response = requests.get(url, headers=headers)\n",
    "\n",
    "# Check if request was successful\n",
    "if response.status_code == 200:\n",
    "    # Convert text response into a pandas DataFrame\n",
    "    csv_data = StringIO(response.text)\n",
    "    df = pd.read_csv(csv_data)\n",
    "    print(df.head())  # Display first 5 rows\n",
    "else:\n",
    "    print(\"Failed to fetch data. Status code:\", response.status_code)\n"
   ]
  },
  {
   "cell_type": "code",
   "execution_count": 10,
   "id": "b0babb89-cd31-4f71-a0b2-9e5fc909b94c",
   "metadata": {},
   "outputs": [],
   "source": [
    "# Number 3\n",
    "\n",
    "dataFrame=pd.read_csv(\"placement.csv\",names=[\"cgpa\"])\n"
   ]
  },
  {
   "cell_type": "code",
   "execution_count": 11,
   "id": "b175226d-7c14-45fd-9800-777184be0954",
   "metadata": {},
   "outputs": [
    {
     "name": "stdout",
     "output_type": "stream",
     "text": [
      "                      cgpa\n",
      "NaN  cgpa iq     placement\n",
      "0.0  6.8  123.0          1\n",
      "1.0  5.9  106.0          0\n",
      "2.0  5.3  121.0          0\n",
      "3.0  7.4  132.0          1\n",
      "...                    ...\n",
      "95.0 4.3  200.0          0\n",
      "96.0 4.4  42.0           0\n",
      "97.0 6.7  182.0          1\n",
      "98.0 6.3  103.0          1\n",
      "99.0 6.2  113.0          1\n",
      "\n",
      "[101 rows x 1 columns]\n"
     ]
    }
   ],
   "source": [
    "print(dataFrame)"
   ]
  },
  {
   "cell_type": "code",
   "execution_count": 15,
   "id": "b90b41b1-7f95-44cc-9ca0-a665e84054b0",
   "metadata": {},
   "outputs": [],
   "source": [
    "dataFrame=pd.read_csv(\"placement.csv\")"
   ]
  },
  {
   "cell_type": "code",
   "execution_count": 16,
   "id": "5d900638-f905-4de5-a686-cbb402d57b51",
   "metadata": {},
   "outputs": [
    {
     "name": "stdout",
     "output_type": "stream",
     "text": [
      "    Unnamed: 0  cgpa     iq  placement\n",
      "0            0   6.8  123.0          1\n",
      "1            1   5.9  106.0          0\n",
      "2            2   5.3  121.0          0\n",
      "3            3   7.4  132.0          1\n",
      "4            4   5.8  142.0          0\n",
      "..         ...   ...    ...        ...\n",
      "95          95   4.3  200.0          0\n",
      "96          96   4.4   42.0          0\n",
      "97          97   6.7  182.0          1\n",
      "98          98   6.3  103.0          1\n",
      "99          99   6.2  113.0          1\n",
      "\n",
      "[100 rows x 4 columns]\n"
     ]
    }
   ],
   "source": [
    "print(dataFrame)"
   ]
  },
  {
   "cell_type": "code",
   "execution_count": null,
   "id": "5c7bcf73-1f30-4b31-807e-69d901cd5966",
   "metadata": {},
   "outputs": [],
   "source": []
  }
 ],
 "metadata": {
  "kernelspec": {
   "display_name": "Python 3 (ipykernel)",
   "language": "python",
   "name": "python3"
  },
  "language_info": {
   "codemirror_mode": {
    "name": "ipython",
    "version": 3
   },
   "file_extension": ".py",
   "mimetype": "text/x-python",
   "name": "python",
   "nbconvert_exporter": "python",
   "pygments_lexer": "ipython3",
   "version": "3.12.3"
  },
  "widgets": {
   "application/vnd.jupyter.widget-state+json": {
    "state": {},
    "version_major": 2,
    "version_minor": 0
   }
  }
 },
 "nbformat": 4,
 "nbformat_minor": 5
}
