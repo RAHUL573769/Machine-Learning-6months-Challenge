{
 "cells": [
  {
   "cell_type": "code",
   "execution_count": 1,
   "id": "0996ca7a-fdd0-4172-a35f-00b0c1925618",
   "metadata": {},
   "outputs": [],
   "source": [
    "# objectName=className()"
   ]
  },
  {
   "cell_type": "code",
   "execution_count": 2,
   "id": "0ee5013e-5bcb-46de-9d03-b5238fb7b20e",
   "metadata": {},
   "outputs": [],
   "source": [
    "L=list()"
   ]
  },
  {
   "cell_type": "code",
   "execution_count": 3,
   "id": "727fd191-cb95-4522-8d93-355ee491d39a",
   "metadata": {},
   "outputs": [
    {
     "ename": "SyntaxError",
     "evalue": "expected ':' (3325440173.py, line 19)",
     "output_type": "error",
     "traceback": [
      "  \u001b[36mCell\u001b[39m\u001b[36m \u001b[39m\u001b[32mIn[3]\u001b[39m\u001b[32m, line 19\u001b[39m\n\u001b[31m    \u001b[39m\u001b[31mif user_input==\"1\"\u001b[39m\n                      ^\n\u001b[31mSyntaxError\u001b[39m\u001b[31m:\u001b[39m expected ':'\n"
     ]
    }
   ],
   "source": [
    "class Atm:\n",
    "\n",
    "  # constructor(special function)->superpower -> \n",
    "  def __init__(self):\n",
    "    print(id(self))\n",
    "    self.pin = 0\n",
    "    self.balance = 0\n",
    "    self.menu()\n",
    "\n",
    "  def menu(self):\n",
    "    user_input = input(\"\"\"\n",
    "    Hi how can I help you?\n",
    "    1. Press 1 to create pin\n",
    "    2. Press 2 to change pin\n",
    "    3. Press 3 to check balance\n",
    "    4. Press 4 to withdraw\n",
    "    5. Anything else to exit\n",
    "    \"\"\")\n",
    "    if user_input==\"1\"\n",
    "      self.create_pin()\n",
    "    elif user_input=='2'\n",
    "      pass\n",
    "    else:\n",
    "      exit()\n",
    "      \n",
    "    \n",
    "    \n",
    "      \n",
    "    "
   ]
  },
  {
   "cell_type": "code",
   "execution_count": 6,
   "id": "6157c1fe-8504-42f3-8d4b-d537f48ae7bf",
   "metadata": {},
   "outputs": [],
   "source": [
    "class ATM_MACHINE:\n",
    "    def __init__(self):\n",
    "        self.pin = 0\n",
    "        self.balance = 0\n",
    "\n",
    "    def menu(self):\n",
    "        user_input = input(\"\"\"\n",
    "Hi, how can I help you?\n",
    "1. Press 1 to create pin\n",
    "2. Press 2 to change pin\n",
    "3. Press 3 to check balance\n",
    "4. Press 4 to withdraw\n",
    "5. Anything else to exit\n",
    "\"\"\")\n",
    "\n",
    "        if user_input == '1':\n",
    "            self.create_pin()\n",
    "        elif user_input == '2':\n",
    "            self.change_pin()\n",
    "        elif user_input == '3':\n",
    "            self.check_balance()\n",
    "        elif user_input == '4':\n",
    "            self.withdraw()\n",
    "        else:\n",
    "            exit()\n",
    "\n",
    "    def create_pin(self):\n",
    "        userPin = input(\"Enter Your Pin: \")\n",
    "        self.pin = userPin\n",
    "        userBalance = int(input(\"Enter Balance: \"))\n",
    "        self.balance = userBalance\n",
    "        print(\"Pin Created Successfully!\")\n",
    "        self.menu()\n"
   ]
  },
  {
   "cell_type": "code",
   "execution_count": 10,
   "id": "99606ae7-9532-4a1e-a038-be1071627a81",
   "metadata": {},
   "outputs": [],
   "source": [
    "class ATM_MACHINE_CODE:\n",
    "    def __init__(self):\n",
    "        self.pin=0\n",
    "        self.bankBalance=0\n",
    "        self.menu()\n",
    "    def menu(self):\n",
    "        user_input = input(\"\"\"\n",
    "Hi, how can I help you?\n",
    "1. Press 1 to create pin\n",
    "2. Press 2 to change pin\n",
    "3. Press 3 to check balance\n",
    "4. Press 4 to withdraw\n",
    "5. Anything else to exit\n",
    "\"\"\")\n",
    "        if(user_input==1):\n",
    "            self.createPin()\n",
    "    def createPin(self):\n",
    "        userPin1=int(input(\"Enter Your Pin\"))\n",
    "        self.pin=userPin1\n",
    "        userBalance1=int(input(\"Emter your Balance\"))\n",
    "        self.bankBalance=userBalance1\n",
    "        print(\"The Balance is {b}\".format(b=self.bankBalance))\n",
    "        \n",
    "    "
   ]
  },
  {
   "cell_type": "code",
   "execution_count": 11,
   "id": "4003b067-1ef8-4f82-afc9-f4a4071c0040",
   "metadata": {},
   "outputs": [
    {
     "name": "stdin",
     "output_type": "stream",
     "text": [
      "\n",
      "Hi, how can I help you?\n",
      "1. Press 1 to create pin\n",
      "2. Press 2 to change pin\n",
      "3. Press 3 to check balance\n",
      "4. Press 4 to withdraw\n",
      "5. Anything else to exit\n",
      " 1\n"
     ]
    }
   ],
   "source": [
    "bank=ATM_MACHINE_CODE()"
   ]
  },
  {
   "cell_type": "code",
   "execution_count": null,
   "id": "6f5ba8e9-1417-414b-bac3-4045eac03484",
   "metadata": {},
   "outputs": [],
   "source": []
  }
 ],
 "metadata": {
  "kernelspec": {
   "display_name": "Python 3 (ipykernel)",
   "language": "python",
   "name": "python3"
  },
  "language_info": {
   "codemirror_mode": {
    "name": "ipython",
    "version": 3
   },
   "file_extension": ".py",
   "mimetype": "text/x-python",
   "name": "python",
   "nbconvert_exporter": "python",
   "pygments_lexer": "ipython3",
   "version": "3.12.3"
  },
  "widgets": {
   "application/vnd.jupyter.widget-state+json": {
    "state": {},
    "version_major": 2,
    "version_minor": 0
   }
  }
 },
 "nbformat": 4,
 "nbformat_minor": 5
}
