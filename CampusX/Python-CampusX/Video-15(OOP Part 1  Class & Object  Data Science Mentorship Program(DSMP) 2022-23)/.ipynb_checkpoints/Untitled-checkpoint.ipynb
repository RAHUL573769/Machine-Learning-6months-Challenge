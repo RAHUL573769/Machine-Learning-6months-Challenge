{
 "cells": [
  {
   "cell_type": "code",
   "execution_count": 6,
   "id": "e96acb0f-14e6-49fe-81e2-69fdbb8c0a90",
   "metadata": {},
   "outputs": [],
   "source": [
    "class ATM:\n",
    "    def __init__(self):\n",
    "        self.pin=''\n",
    "        self.balance=0\n",
    "        self.menu()\n",
    "    def menu(self):\n",
    "        userInput=int(input(\"\"\"\n",
    "    Hi how can I help you?\n",
    "    1. Press 1 to create pin\n",
    "    2. Press 2 to change pin\n",
    "    3. Press 3 to check balance\n",
    "    4. Press 4 to withdraw\n",
    "    5. Anything else to exit\n",
    "    \"\"\"))\n"
   ]
  },
  {
   "cell_type": "code",
   "execution_count": 7,
   "id": "3845aef1-dab6-433f-bb6c-4e8993c13965",
   "metadata": {},
   "outputs": [
    {
     "ename": "NameError",
     "evalue": "name 'Atm' is not defined",
     "output_type": "error",
     "traceback": [
      "\u001b[31m---------------------------------------------------------------------------\u001b[39m",
      "\u001b[31mNameError\u001b[39m                                 Traceback (most recent call last)",
      "\u001b[36mCell\u001b[39m\u001b[36m \u001b[39m\u001b[32mIn[7]\u001b[39m\u001b[32m, line 1\u001b[39m\n\u001b[32m----> \u001b[39m\u001b[32m1\u001b[39m obj=\u001b[43mAtm\u001b[49m()\n",
      "\u001b[31mNameError\u001b[39m: name 'Atm' is not defined"
     ]
    }
   ],
   "source": [
    "obj=Atm()"
   ]
  },
  {
   "cell_type": "code",
   "execution_count": 8,
   "id": "992b83a3-32fb-454b-a0a7-42d9e395a0e5",
   "metadata": {},
   "outputs": [
    {
     "name": "stdin",
     "output_type": "stream",
     "text": [
      "\n",
      "    Hi how can I help you?\n",
      "    1. Press 1 to create pin\n",
      "    2. Press 2 to change pin\n",
      "    3. Press 3 to check balance\n",
      "    4. Press 4 to withdraw\n",
      "    5. Anything else to exit\n",
      "     1\n"
     ]
    }
   ],
   "source": [
    "obj=ATM()"
   ]
  },
  {
   "cell_type": "code",
   "execution_count": 11,
   "id": "f9f3fba6-92d0-404f-ba36-9d80e6e7da9e",
   "metadata": {},
   "outputs": [
    {
     "ename": "NameError",
     "evalue": "name 'userInput' is not defined",
     "output_type": "error",
     "traceback": [
      "\u001b[31m---------------------------------------------------------------------------\u001b[39m",
      "\u001b[31mNameError\u001b[39m                                 Traceback (most recent call last)",
      "\u001b[36mCell\u001b[39m\u001b[36m \u001b[39m\u001b[32mIn[11]\u001b[39m\u001b[32m, line 1\u001b[39m\n\u001b[32m----> \u001b[39m\u001b[32m1\u001b[39m \u001b[38;5;28;43;01mclass\u001b[39;49;00m\u001b[38;5;250;43m \u001b[39;49m\u001b[34;43;01mATM\u001b[39;49;00m\u001b[43m:\u001b[49m\n\u001b[32m      2\u001b[39m \u001b[43m    \u001b[49m\u001b[38;5;28;43;01mdef\u001b[39;49;00m\u001b[38;5;250;43m \u001b[39;49m\u001b[34;43m__init__\u001b[39;49m\u001b[43m(\u001b[49m\u001b[38;5;28;43mself\u001b[39;49m\u001b[43m)\u001b[49m\u001b[43m:\u001b[49m\n\u001b[32m      3\u001b[39m \u001b[43m        \u001b[49m\u001b[38;5;28;43mself\u001b[39;49m\u001b[43m.\u001b[49m\u001b[43mpin\u001b[49m\u001b[43m=\u001b[49m\u001b[33;43m'\u001b[39;49m\u001b[33;43m'\u001b[39;49m\n",
      "\u001b[36mCell\u001b[39m\u001b[36m \u001b[39m\u001b[32mIn[11]\u001b[39m\u001b[32m, line 15\u001b[39m, in \u001b[36mATM\u001b[39m\u001b[34m()\u001b[39m\n\u001b[32m      6\u001b[39m \u001b[38;5;28;01mdef\u001b[39;00m\u001b[38;5;250m \u001b[39m\u001b[34mmenu\u001b[39m(\u001b[38;5;28mself\u001b[39m):\n\u001b[32m      7\u001b[39m     userInput=\u001b[38;5;28mint\u001b[39m(\u001b[38;5;28minput\u001b[39m(\u001b[33m\"\"\"\u001b[39m\n\u001b[32m      8\u001b[39m \u001b[33mHi how can I help you?\u001b[39m\n\u001b[32m      9\u001b[39m \u001b[33m1. Press 1 to create pin\u001b[39m\n\u001b[32m   (...)\u001b[39m\u001b[32m     13\u001b[39m \u001b[33m5. Anything else to exit\u001b[39m\n\u001b[32m     14\u001b[39m \u001b[33m\u001b[39m\u001b[33m\"\"\"\u001b[39m))\n\u001b[32m---> \u001b[39m\u001b[32m15\u001b[39m \u001b[38;5;28;01mif\u001b[39;00m(\u001b[43muserInput\u001b[49m==\u001b[32m1\u001b[39m):\n\u001b[32m     16\u001b[39m     \u001b[38;5;28mself\u001b[39m.create_pin()\n\u001b[32m     17\u001b[39m \u001b[38;5;28;01mdef\u001b[39;00m\u001b[38;5;250m \u001b[39m\u001b[34mcreate_pin\u001b[39m():\n",
      "\u001b[31mNameError\u001b[39m: name 'userInput' is not defined"
     ]
    }
   ],
   "source": [
    "class ATM:\n",
    "    def __init__(self):\n",
    "        self.pin=''\n",
    "        self.balance=0\n",
    "        self.menu()\n",
    "    def menu(self):\n",
    "        userInput=int(input(\"\"\"\n",
    "    Hi how can I help you?\n",
    "    1. Press 1 to create pin\n",
    "    2. Press 2 to change pin\n",
    "    3. Press 3 to check balance\n",
    "    4. Press 4 to withdraw\n",
    "    5. Anything else to exit\n",
    "    \"\"\"))\n",
    "    if(userInput==1):\n",
    "        self.create_pin()\n",
    "    def create_pin():\n",
    "        userPin=int(input(\"Enter User Pin\"))\n",
    "        self.pin=userPin\n",
    "        userBalance=int(input(\"Enter User Balance\"))\n",
    "        self.balance=userBalance\n",
    "        print(my_string = \"This month is {m}. It has {d} days.\".format(m=self.pin, d=self.balance))\n",
    "\n",
    "    \n"
   ]
  },
  {
   "cell_type": "code",
   "execution_count": 16,
   "id": "dc19c9f0-80f0-436b-bf5c-aff6e63a87a9",
   "metadata": {},
   "outputs": [],
   "source": [
    "class ATM:\n",
    "    def __init__(self):\n",
    "        self.pin = ''\n",
    "        self.balance = 0\n",
    "        self.menu()\n",
    "\n",
    "    def menu(self):\n",
    "        userInput = int(input(\"\"\"\n",
    "Hi, how can I help you?\n",
    "1. Press 1 to create pin\n",
    "2. Press 2 to change pin\n",
    "3. Press 3 to check balance\n",
    "4. Press 4 to withdraw\n",
    "5. Anything else to exit\n",
    "\"\"\"))\n",
    "        if userInput == 1:\n",
    "            self.create_pin()\n",
    "        else:\n",
    "            print(\"Goodbye!\")\n",
    "\n",
    "    def create_pin(self):\n",
    "        userPin = input(\"Enter your new PIN: \")\n",
    "        self.pin = userPin\n",
    "        userBalance = int(input(\"Enter your balance: \"))\n",
    "        self.balance = userBalance\n",
    "        print(\"Your PIN is {m} and your balance is {d}\".format(m=self.pin, d=self.balance))\n"
   ]
  },
  {
   "cell_type": "code",
   "execution_count": 17,
   "id": "1c1539da-1e6f-42b5-ab3e-cf397b40b911",
   "metadata": {},
   "outputs": [
    {
     "name": "stdin",
     "output_type": "stream",
     "text": [
      "\n",
      "Hi, how can I help you?\n",
      "1. Press 1 to create pin\n",
      "2. Press 2 to change pin\n",
      "3. Press 3 to check balance\n",
      "4. Press 4 to withdraw\n",
      "5. Anything else to exit\n",
      " 1\n",
      "Enter your new PIN:  234\n",
      "Enter your balance:  \n"
     ]
    },
    {
     "ename": "ValueError",
     "evalue": "invalid literal for int() with base 10: ''",
     "output_type": "error",
     "traceback": [
      "\u001b[31m---------------------------------------------------------------------------\u001b[39m",
      "\u001b[31mValueError\u001b[39m                                Traceback (most recent call last)",
      "\u001b[36mCell\u001b[39m\u001b[36m \u001b[39m\u001b[32mIn[17]\u001b[39m\u001b[32m, line 1\u001b[39m\n\u001b[32m----> \u001b[39m\u001b[32m1\u001b[39m obj=\u001b[43mATM\u001b[49m\u001b[43m(\u001b[49m\u001b[43m)\u001b[49m\n",
      "\u001b[36mCell\u001b[39m\u001b[36m \u001b[39m\u001b[32mIn[16]\u001b[39m\u001b[32m, line 5\u001b[39m, in \u001b[36mATM.__init__\u001b[39m\u001b[34m(self)\u001b[39m\n\u001b[32m      3\u001b[39m \u001b[38;5;28mself\u001b[39m.pin = \u001b[33m'\u001b[39m\u001b[33m'\u001b[39m\n\u001b[32m      4\u001b[39m \u001b[38;5;28mself\u001b[39m.balance = \u001b[32m0\u001b[39m\n\u001b[32m----> \u001b[39m\u001b[32m5\u001b[39m \u001b[38;5;28;43mself\u001b[39;49m\u001b[43m.\u001b[49m\u001b[43mmenu\u001b[49m\u001b[43m(\u001b[49m\u001b[43m)\u001b[49m\n",
      "\u001b[36mCell\u001b[39m\u001b[36m \u001b[39m\u001b[32mIn[16]\u001b[39m\u001b[32m, line 17\u001b[39m, in \u001b[36mATM.menu\u001b[39m\u001b[34m(self)\u001b[39m\n\u001b[32m      8\u001b[39m         userInput = \u001b[38;5;28mint\u001b[39m(\u001b[38;5;28minput\u001b[39m(\u001b[33m\"\"\"\u001b[39m\n\u001b[32m      9\u001b[39m \u001b[33mHi, how can I help you?\u001b[39m\n\u001b[32m     10\u001b[39m \u001b[33m1. Press 1 to create pin\u001b[39m\n\u001b[32m   (...)\u001b[39m\u001b[32m     14\u001b[39m \u001b[33m5. Anything else to exit\u001b[39m\n\u001b[32m     15\u001b[39m \u001b[33m\"\"\"\u001b[39m))\n\u001b[32m     16\u001b[39m         \u001b[38;5;28;01mif\u001b[39;00m userInput == \u001b[32m1\u001b[39m:\n\u001b[32m---> \u001b[39m\u001b[32m17\u001b[39m             \u001b[38;5;28;43mself\u001b[39;49m\u001b[43m.\u001b[49m\u001b[43mcreate_pin\u001b[49m\u001b[43m(\u001b[49m\u001b[43m)\u001b[49m\n\u001b[32m     18\u001b[39m         \u001b[38;5;28;01melse\u001b[39;00m:\n\u001b[32m     19\u001b[39m             \u001b[38;5;28mprint\u001b[39m(\u001b[33m\"\u001b[39m\u001b[33mGoodbye!\u001b[39m\u001b[33m\"\u001b[39m)\n",
      "\u001b[36mCell\u001b[39m\u001b[36m \u001b[39m\u001b[32mIn[16]\u001b[39m\u001b[32m, line 24\u001b[39m, in \u001b[36mATM.create_pin\u001b[39m\u001b[34m(self)\u001b[39m\n\u001b[32m     22\u001b[39m userPin = \u001b[38;5;28minput\u001b[39m(\u001b[33m\"\u001b[39m\u001b[33mEnter your new PIN: \u001b[39m\u001b[33m\"\u001b[39m)\n\u001b[32m     23\u001b[39m \u001b[38;5;28mself\u001b[39m.pin = userPin\n\u001b[32m---> \u001b[39m\u001b[32m24\u001b[39m userBalance = \u001b[38;5;28;43mint\u001b[39;49m\u001b[43m(\u001b[49m\u001b[38;5;28;43minput\u001b[39;49m\u001b[43m(\u001b[49m\u001b[33;43m\"\u001b[39;49m\u001b[33;43mEnter your balance: \u001b[39;49m\u001b[33;43m\"\u001b[39;49m\u001b[43m)\u001b[49m\u001b[43m)\u001b[49m\n\u001b[32m     25\u001b[39m \u001b[38;5;28mself\u001b[39m.balance = userBalance\n\u001b[32m     26\u001b[39m \u001b[38;5;28mprint\u001b[39m(\u001b[33m\"\u001b[39m\u001b[33mYour PIN is \u001b[39m\u001b[38;5;132;01m{m}\u001b[39;00m\u001b[33m and your balance is \u001b[39m\u001b[38;5;132;01m{d}\u001b[39;00m\u001b[33m\"\u001b[39m.format(m=\u001b[38;5;28mself\u001b[39m.pin, d=\u001b[38;5;28mself\u001b[39m.balance))\n",
      "\u001b[31mValueError\u001b[39m: invalid literal for int() with base 10: ''"
     ]
    }
   ],
   "source": [
    "obj=ATM()"
   ]
  },
  {
   "cell_type": "code",
   "execution_count": 18,
   "id": "bd34fe2d-d2b2-4f9a-a748-c980b9dd30e9",
   "metadata": {},
   "outputs": [
    {
     "name": "stdin",
     "output_type": "stream",
     "text": [
      "\n",
      "Hi, how can I help you?\n",
      "1. Press 1 to create pin\n",
      "2. Press 2 to change pin\n",
      "3. Press 3 to check balance\n",
      "4. Press 4 to withdraw\n",
      "5. Anything else to exit\n",
      " 1\n",
      "Enter your new PIN:  1234\n",
      "Enter your balance:  12000\n"
     ]
    },
    {
     "name": "stdout",
     "output_type": "stream",
     "text": [
      "Your PIN is 1234 and your balance is 12000\n"
     ]
    }
   ],
   "source": [
    "obj=ATM()"
   ]
  },
  {
   "cell_type": "code",
   "execution_count": null,
   "id": "46f44129-e94b-49f9-81c3-9445a30a92f9",
   "metadata": {},
   "outputs": [],
   "source": [
    "class ATM1:\n",
    "    def __init__(self):\n",
    "        self.balance=0\n",
    "        self.pin=0"
   ]
  }
 ],
 "metadata": {
  "kernelspec": {
   "display_name": "Python 3 (ipykernel)",
   "language": "python",
   "name": "python3"
  },
  "language_info": {
   "codemirror_mode": {
    "name": "ipython",
    "version": 3
   },
   "file_extension": ".py",
   "mimetype": "text/x-python",
   "name": "python",
   "nbconvert_exporter": "python",
   "pygments_lexer": "ipython3",
   "version": "3.12.3"
  },
  "widgets": {
   "application/vnd.jupyter.widget-state+json": {
    "state": {},
    "version_major": 2,
    "version_minor": 0
   }
  }
 },
 "nbformat": 4,
 "nbformat_minor": 5
}
