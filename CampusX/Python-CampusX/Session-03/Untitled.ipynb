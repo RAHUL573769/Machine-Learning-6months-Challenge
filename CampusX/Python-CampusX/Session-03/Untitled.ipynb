{
 "cells": [
  {
   "cell_type": "code",
   "execution_count": 2,
   "id": "7db34ae5-1351-4415-ab73-c88db6fd28c4",
   "metadata": {},
   "outputs": [
    {
     "name": "stdin",
     "output_type": "stream",
     "text": [
      "Enter Number of Rows 6\n"
     ]
    },
    {
     "name": "stdout",
     "output_type": "stream",
     "text": [
      "*\n",
      "*\n",
      "*\n",
      "*\n",
      "*\n",
      "*\n"
     ]
    }
   ],
   "source": [
    "rows=int(input(\"Enter Number of Rows\"))\n",
    "for i in range(1,rows+1):\n",
    "    print(\"*\")"
   ]
  },
  {
   "cell_type": "code",
   "execution_count": 6,
   "id": "176cfd90-76cb-47a2-b795-bb7fa37f9c9a",
   "metadata": {},
   "outputs": [
    {
     "name": "stdin",
     "output_type": "stream",
     "text": [
      "Enter Number of Rows 2\n"
     ]
    },
    {
     "name": "stdout",
     "output_type": "stream",
     "text": [
      "* * * "
     ]
    }
   ],
   "source": [
    "rows=int(input(\"Enter Number of Rows\"))\n",
    "for i in range(1,rows+1):\n",
    "    for j in range(1,i+1):\n",
    "        print(\"*\",end=\" \")"
   ]
  },
  {
   "cell_type": "code",
   "execution_count": 8,
   "id": "63748cd5-d382-4b1a-a430-4b404085bf60",
   "metadata": {},
   "outputs": [
    {
     "name": "stdin",
     "output_type": "stream",
     "text": [
      "enter number of rows 4\n"
     ]
    },
    {
     "name": "stdout",
     "output_type": "stream",
     "text": [
      "*\n",
      "**\n",
      "***\n",
      "****\n"
     ]
    }
   ],
   "source": [
    "# code here\n",
    "\n",
    "rows = int(input('enter number of rows'))\n",
    "\n",
    "for i in range(1,rows+1):\n",
    "  for j in range(1,i+1):\n",
    "    print('*',end='')\n",
    "  print()"
   ]
  },
  {
   "cell_type": "code",
   "execution_count": 9,
   "id": "4ca715b6-16c7-4b4c-acdf-3325020cdbbb",
   "metadata": {},
   "outputs": [
    {
     "name": "stdin",
     "output_type": "stream",
     "text": [
      "Enter Number of Rows 3\n"
     ]
    },
    {
     "name": "stdout",
     "output_type": "stream",
     "text": [
      "1 \n",
      "1 2 \n",
      "1 2 3 \n"
     ]
    }
   ],
   "source": [
    "rows=int(input(\"Enter Number of Rows\"))\n",
    "for i in range(1,rows+1):\n",
    "    for j in range(1,i+1):\n",
    "        print(j, end=' ')\n",
    "    print()"
   ]
  },
  {
   "cell_type": "code",
   "execution_count": null,
   "id": "dca5cfca-b632-408b-b0ac-28b23eb0335f",
   "metadata": {},
   "outputs": [],
   "source": []
  }
 ],
 "metadata": {
  "kernelspec": {
   "display_name": "Python 3 (ipykernel)",
   "language": "python",
   "name": "python3"
  },
  "language_info": {
   "codemirror_mode": {
    "name": "ipython",
    "version": 3
   },
   "file_extension": ".py",
   "mimetype": "text/x-python",
   "name": "python",
   "nbconvert_exporter": "python",
   "pygments_lexer": "ipython3",
   "version": "3.12.3"
  },
  "widgets": {
   "application/vnd.jupyter.widget-state+json": {
    "state": {},
    "version_major": 2,
    "version_minor": 0
   }
  }
 },
 "nbformat": 4,
 "nbformat_minor": 5
}
