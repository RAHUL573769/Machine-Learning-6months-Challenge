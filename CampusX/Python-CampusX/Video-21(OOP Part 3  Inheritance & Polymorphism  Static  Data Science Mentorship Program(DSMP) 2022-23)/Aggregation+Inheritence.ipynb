{
 "cells": [
  {
   "cell_type": "code",
   "execution_count": 42,
   "id": "01acb863-d7d4-40c5-99ea-c42b4419c4d7",
   "metadata": {},
   "outputs": [],
   "source": [
    "class Customer:\n",
    "    def __init__(self,name,gender,address):\n",
    "        self.name=name\n",
    "        self.gender=gender\n",
    "        self.address=address\n",
    "    def print_address(self):\n",
    "           print(self.address._Address__city,self.address.pin,self.address.state)\n",
    "class Address:\n",
    "    def __init__(self,pin,city,state):\n",
    "        self.city=city\n",
    "        self.pin=pin\n",
    "        self.state=state\n"
   ]
  },
  {
   "cell_type": "code",
   "execution_count": 43,
   "id": "6957791f-425d-4596-b429-9006b5fdc05a",
   "metadata": {},
   "outputs": [],
   "source": [
    "add1=Address(\"Gurgaon\",12000,\"Haryana\")"
   ]
  },
  {
   "cell_type": "code",
   "execution_count": 44,
   "id": "ad8523c9-f513-489d-be81-6b693f440e88",
   "metadata": {},
   "outputs": [
    {
     "name": "stdout",
     "output_type": "stream",
     "text": [
      "<__main__.Address object at 0x000002B3B5E2B0B0>\n"
     ]
    }
   ],
   "source": [
    "print(add1)"
   ]
  },
  {
   "cell_type": "code",
   "execution_count": 45,
   "id": "e3576b0a-60cc-4084-a918-4d8ee6c6ccd4",
   "metadata": {},
   "outputs": [],
   "source": [
    "customer1=Customer(\"Nitish\",\"Male\",add1)"
   ]
  },
  {
   "cell_type": "code",
   "execution_count": 46,
   "id": "319df628-4f8a-40b2-b99b-198d00336b10",
   "metadata": {},
   "outputs": [
    {
     "ename": "AttributeError",
     "evalue": "'Address' object has no attribute '_Address__city'",
     "output_type": "error",
     "traceback": [
      "\u001b[31m---------------------------------------------------------------------------\u001b[39m",
      "\u001b[31mAttributeError\u001b[39m                            Traceback (most recent call last)",
      "\u001b[36mCell\u001b[39m\u001b[36m \u001b[39m\u001b[32mIn[46]\u001b[39m\u001b[32m, line 1\u001b[39m\n\u001b[32m----> \u001b[39m\u001b[32m1\u001b[39m \u001b[43mcustomer1\u001b[49m\u001b[43m.\u001b[49m\u001b[43mprint_address\u001b[49m\u001b[43m(\u001b[49m\u001b[43m)\u001b[49m\n",
      "\u001b[36mCell\u001b[39m\u001b[36m \u001b[39m\u001b[32mIn[42]\u001b[39m\u001b[32m, line 7\u001b[39m, in \u001b[36mCustomer.print_address\u001b[39m\u001b[34m(self)\u001b[39m\n\u001b[32m      6\u001b[39m \u001b[38;5;28;01mdef\u001b[39;00m\u001b[38;5;250m \u001b[39m\u001b[34mprint_address\u001b[39m(\u001b[38;5;28mself\u001b[39m):\n\u001b[32m----> \u001b[39m\u001b[32m7\u001b[39m        \u001b[38;5;28mprint\u001b[39m(\u001b[38;5;28;43mself\u001b[39;49m\u001b[43m.\u001b[49m\u001b[43maddress\u001b[49m\u001b[43m.\u001b[49m\u001b[43m_Address__city\u001b[49m,\u001b[38;5;28mself\u001b[39m.address.pin,\u001b[38;5;28mself\u001b[39m.address.state)\n",
      "\u001b[31mAttributeError\u001b[39m: 'Address' object has no attribute '_Address__city'"
     ]
    }
   ],
   "source": [
    "customer1.print_address()"
   ]
  },
  {
   "cell_type": "code",
   "execution_count": 12,
   "id": "bedaaaa0-6628-4407-88da-b433f1490dde",
   "metadata": {},
   "outputs": [],
   "source": [
    "\n",
    "add1 = Address('gurgaon',122011,'haryana')\n",
    "cust = Customer('nitish','male',add1)\n",
    "\n"
   ]
  },
  {
   "cell_type": "code",
   "execution_count": 13,
   "id": "90d82f22-8eb4-494f-aa4a-866a33272355",
   "metadata": {},
   "outputs": [
    {
     "name": "stdout",
     "output_type": "stream",
     "text": [
      "<__main__.Address object at 0x000002B3B5466090>\n"
     ]
    }
   ],
   "source": [
    "cust.print_address()"
   ]
  },
  {
   "cell_type": "code",
   "execution_count": 14,
   "id": "88aa0f5c-78c9-434e-b5ab-2a9a96f6afd9",
   "metadata": {},
   "outputs": [
    {
     "name": "stdout",
     "output_type": "stream",
     "text": [
      "gurgaon 122011 haryana\n",
      "mumbai 111111 maharastra\n"
     ]
    }
   ],
   "source": [
    "# example\n",
    "class Customer:\n",
    "\n",
    "  def __init__(self,name,gender,address):\n",
    "    self.name = name\n",
    "    self.gender = gender\n",
    "    self.address = address\n",
    "\n",
    "  def print_address(self):\n",
    "    print(self.address._Address__city,self.address.pin,self.address.state)\n",
    "\n",
    "  def edit_profile(self,new_name,new_city,new_pin,new_state):\n",
    "    self.name = new_name\n",
    "    self.address.edit_address(new_city,new_pin,new_state)\n",
    "\n",
    "class Address:\n",
    "\n",
    "  def __init__(self,city,pin,state):\n",
    "      self.__city = city\n",
    "      self.pin = pin\n",
    "      self.state = state\n",
    "\n",
    "  def get_city(self):\n",
    "    return self.__city\n",
    "\n",
    "  def edit_address(self,new_city,new_pin,new_state):\n",
    "    self.__city = new_city\n",
    "    self.pin = new_pin\n",
    "    self.state = new_state\n",
    "\n",
    "add1 = Address('gurgaon',122011,'haryana')\n",
    "cust = Customer('nitish','male',add1)\n",
    "\n",
    "cust.print_address()\n",
    "\n",
    "cust.edit_profile('ankit','mumbai',111111,'maharastra')\n",
    "cust.print_address()\n",
    "# method example\n",
    "# what about private attribute"
   ]
  },
  {
   "cell_type": "code",
   "execution_count": 55,
   "id": "5f722801-ae95-42c9-ba49-d84a09f402fc",
   "metadata": {},
   "outputs": [],
   "source": [
    "class NewCustomer:\n",
    "    def __init__(self, customerName, customerAge, customerEmail, customerAddress):\n",
    "        self.name = customerName\n",
    "        self.age = customerAge\n",
    "        self.email = customerEmail\n",
    "        self.address = customerAddress\n",
    "\n",
    "    def print_address(self):\n",
    "        print(self.address.bName, self.address.bPin, self.address.state)\n",
    "    \n",
    "class Address:\n",
    "    def __init__(self, buildingName, buildingPin, state):\n",
    "        self.bName = buildingName\n",
    "        self.bPin = buildingPin\n",
    "        self.state = state\n",
    "        # pass  # (Optional) if you need a placeholder\n"
   ]
  },
  {
   "cell_type": "code",
   "execution_count": 56,
   "id": "24693f5e-0c3b-48fb-833e-a145fd265437",
   "metadata": {},
   "outputs": [],
   "source": [
    "add1=Address(\"Finley Safa\",1200,\"WB\")\n"
   ]
  },
  {
   "cell_type": "code",
   "execution_count": 57,
   "id": "86f50591-71ce-4ddd-97c9-f6ff180b314c",
   "metadata": {},
   "outputs": [],
   "source": [
    "customer1Details=(\"Rahul\",23,\"rgmailcom\",add1)"
   ]
  },
  {
   "cell_type": "code",
   "execution_count": 59,
   "id": "3b016132-f276-44a9-baae-63909bcf0f8c",
   "metadata": {},
   "outputs": [
    {
     "ename": "AttributeError",
     "evalue": "'tuple' object has no attribute 'print_address'",
     "output_type": "error",
     "traceback": [
      "\u001b[31m---------------------------------------------------------------------------\u001b[39m",
      "\u001b[31mAttributeError\u001b[39m                            Traceback (most recent call last)",
      "\u001b[36mCell\u001b[39m\u001b[36m \u001b[39m\u001b[32mIn[59]\u001b[39m\u001b[32m, line 1\u001b[39m\n\u001b[32m----> \u001b[39m\u001b[32m1\u001b[39m \u001b[43mcustomer1Details\u001b[49m\u001b[43m.\u001b[49m\u001b[43mprint_address\u001b[49m()\n",
      "\u001b[31mAttributeError\u001b[39m: 'tuple' object has no attribute 'print_address'"
     ]
    }
   ],
   "source": [
    "customer1Details.print_address()"
   ]
  },
  {
   "cell_type": "code",
   "execution_count": 60,
   "id": "b6e17975-bace-406a-9570-cfeecd710f96",
   "metadata": {},
   "outputs": [
    {
     "name": "stdout",
     "output_type": "stream",
     "text": [
      "Sunshine Apt 560001 Karnataka\n"
     ]
    }
   ],
   "source": [
    "class NewCustomer:\n",
    "    def __init__(self, customerName, customerAge, customerEmail, customerAddress):\n",
    "        self.name = customerName\n",
    "        self.age = customerAge\n",
    "        self.email = customerEmail\n",
    "        self.address = customerAddress\n",
    "\n",
    "    def print_address(self):\n",
    "        print(self.address.bName, self.address.bPin, self.address.state)\n",
    "\n",
    "class Address:\n",
    "    def __init__(self, buildingName, buildingPin, state):\n",
    "        self.bName = buildingName\n",
    "        self.bPin = buildingPin\n",
    "        self.state = state\n",
    "\n",
    "# ✅ Create Address object\n",
    "address1 = Address(\"Sunshine Apt\", 560001, \"Karnataka\")\n",
    "\n",
    "# ✅ Create NewCustomer object\n",
    "customer1Details = NewCustomer(\"Rahul\", 25, \"rahul@mail.com\", address1)\n",
    "\n",
    "# ✅ Call the method\n",
    "customer1Details.print_address()\n"
   ]
  },
  {
   "cell_type": "code",
   "execution_count": null,
   "id": "8185cf25-fa1a-403d-a74a-7e313ba16be1",
   "metadata": {},
   "outputs": [],
   "source": []
  }
 ],
 "metadata": {
  "kernelspec": {
   "display_name": "Python 3 (ipykernel)",
   "language": "python",
   "name": "python3"
  },
  "language_info": {
   "codemirror_mode": {
    "name": "ipython",
    "version": 3
   },
   "file_extension": ".py",
   "mimetype": "text/x-python",
   "name": "python",
   "nbconvert_exporter": "python",
   "pygments_lexer": "ipython3",
   "version": "3.12.3"
  },
  "widgets": {
   "application/vnd.jupyter.widget-state+json": {
    "state": {},
    "version_major": 2,
    "version_minor": 0
   }
  }
 },
 "nbformat": 4,
 "nbformat_minor": 5
}
