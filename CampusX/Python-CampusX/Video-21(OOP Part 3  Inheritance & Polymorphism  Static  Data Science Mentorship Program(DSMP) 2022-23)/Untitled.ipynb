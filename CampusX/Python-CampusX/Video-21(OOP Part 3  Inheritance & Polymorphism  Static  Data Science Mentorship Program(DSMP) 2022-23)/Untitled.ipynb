{
 "cells": [
  {
   "cell_type": "code",
   "execution_count": 7,
   "id": "8153719d-7d6e-437c-a280-6b35cbc3efe4",
   "metadata": {},
   "outputs": [],
   "source": [
    "# Udemy Website\n",
    "\n",
    "class User:\n",
    "    def __init__(self):\n",
    "        self.name=\"Nitish\"\n",
    "        self.passport=\"B00071111\"\n",
    "    def login(self):\n",
    "        print(\"Login\")\n",
    "class Student(User):\n",
    "    \n",
    "    def enroll(self):\n",
    "        print(\"Enroll in the Corse\")\n"
   ]
  },
  {
   "cell_type": "code",
   "execution_count": 8,
   "id": "c8524acd-104c-4f01-907c-90e9fd971d89",
   "metadata": {},
   "outputs": [],
   "source": [
    "u=User()\n",
    "s=Student()"
   ]
  },
  {
   "cell_type": "code",
   "execution_count": 9,
   "id": "564ffaec-4860-42ee-a60c-6314d6b496ed",
   "metadata": {},
   "outputs": [
    {
     "name": "stdout",
     "output_type": "stream",
     "text": [
      "Nitish\n",
      "B00071111\n"
     ]
    }
   ],
   "source": [
    "print(s.name)\n",
    "print(s.passport)"
   ]
  },
  {
   "cell_type": "code",
   "execution_count": 11,
   "id": "992ed250-09f9-434a-a98d-e7c10cbf6014",
   "metadata": {},
   "outputs": [
    {
     "ename": "NameError",
     "evalue": "name 'SmartPhone' is not defined",
     "output_type": "error",
     "traceback": [
      "\u001b[31m---------------------------------------------------------------------------\u001b[39m",
      "\u001b[31mNameError\u001b[39m                                 Traceback (most recent call last)",
      "\u001b[36mCell\u001b[39m\u001b[36m \u001b[39m\u001b[32mIn[11]\u001b[39m\u001b[32m, line 12\u001b[39m\n\u001b[32m      9\u001b[39m             \u001b[38;5;28mself\u001b[39m.os=os\n\u001b[32m     10\u001b[39m             \u001b[38;5;28mself\u001b[39m.ram=ram\n\u001b[32m---> \u001b[39m\u001b[32m12\u001b[39m s=\u001b[43mSmartPhone\u001b[49m(\u001b[33m\"\u001b[39m\u001b[33mAdroid\u001b[39m\u001b[33m\"\u001b[39m,\u001b[32m2\u001b[39m)\n",
      "\u001b[31mNameError\u001b[39m: name 'SmartPhone' is not defined"
     ]
    }
   ],
   "source": [
    "class Phone:\n",
    "    def __init__(self,price,brand,camera):\n",
    "        print(\"Inside Phone Constructor\")\n",
    "        self.price=price\n",
    "        self.brand=brand\n",
    "        self.camera=camera\n",
    "    def SmartPhone(Phone):\n",
    "        def __init__(self,os,ram):\n",
    "            self.os=os\n",
    "            self.ram=ram\n",
    "\n",
    "s=SmartPhone(\"Adroid\",2)\n"
   ]
  },
  {
   "cell_type": "code",
   "execution_count": null,
   "id": "bd6bc8f4-4f7e-4dc1-a4ae-232d0a426076",
   "metadata": {},
   "outputs": [],
   "source": [
    "class Phone:\n",
    "    def __init__(self, price, brand, camera):\n",
    "        print(\"Inside Phone Constructor\")\n",
    "        self.price = price\n",
    "        self.brand = brand\n",
    "        self.camera = camera\n",
    "\n",
    "class SmartPhone(Phone):\n",
    "    def __init__(self, price, brand, camera, os, ram):\n",
    "        super().__init__(price, brand, camera)  # call parent constructor\n",
    "        self.os = os\n",
    "        self.ram = ram\n",
    "\n",
    "s = SmartPhone(20000, \"Samsung\", \"12MP\", \"Android\", 8)\n",
    "print(s.brand, s.os, s.ram)\n"
   ]
  }
 ],
 "metadata": {
  "kernelspec": {
   "display_name": "Python 3 (ipykernel)",
   "language": "python",
   "name": "python3"
  },
  "language_info": {
   "codemirror_mode": {
    "name": "ipython",
    "version": 3
   },
   "file_extension": ".py",
   "mimetype": "text/x-python",
   "name": "python",
   "nbconvert_exporter": "python",
   "pygments_lexer": "ipython3",
   "version": "3.12.3"
  },
  "widgets": {
   "application/vnd.jupyter.widget-state+json": {
    "state": {},
    "version_major": 2,
    "version_minor": 0
   }
  }
 },
 "nbformat": 4,
 "nbformat_minor": 5
}
