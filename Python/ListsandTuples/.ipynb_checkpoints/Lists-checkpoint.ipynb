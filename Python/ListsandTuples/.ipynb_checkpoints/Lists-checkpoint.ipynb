{
 "cells": [
  {
   "cell_type": "code",
   "execution_count": 2,
   "id": "9669c022-d17d-4c9f-8869-a3324bb259ea",
   "metadata": {},
   "outputs": [
    {
     "name": "stdout",
     "output_type": "stream",
     "text": [
      "['student', 66, 45, 66]\n"
     ]
    }
   ],
   "source": [
    "marks1=123.4\n",
    "\n",
    "\n",
    "studentMarks=[12,66,45,66]\n",
    "studentMarks[0]=\"student\"\n",
    "\n",
    "print(studentMarks)"
   ]
  },
  {
   "cell_type": "code",
   "execution_count": 4,
   "id": "671d83ed-3461-435d-b439-3d3443411c2a",
   "metadata": {},
   "outputs": [
    {
     "name": "stdout",
     "output_type": "stream",
     "text": [
      "['student', 66]\n"
     ]
    }
   ],
   "source": [
    "print(studentMarks[0:2])"
   ]
  },
  {
   "cell_type": "code",
   "execution_count": 5,
   "id": "50bf75c6-189c-477e-a364-c8ca824be2a9",
   "metadata": {},
   "outputs": [
    {
     "name": "stdout",
     "output_type": "stream",
     "text": [
      "[76, 89]\n"
     ]
    }
   ],
   "source": [
    "marks2=[12,65,76,89]\n",
    "\n",
    "print(marks2[2:])"
   ]
  },
  {
   "cell_type": "code",
   "execution_count": 7,
   "id": "f752efdf-18e4-4ad9-a211-385762b7e75a",
   "metadata": {},
   "outputs": [],
   "source": [
    "marks2.clear()"
   ]
  },
  {
   "cell_type": "code",
   "execution_count": 8,
   "id": "f05b04f5-a210-4bd5-b602-be4c4dd5c9e3",
   "metadata": {},
   "outputs": [
    {
     "name": "stdout",
     "output_type": "stream",
     "text": [
      "[]\n"
     ]
    }
   ],
   "source": [
    "print(marks2)"
   ]
  },
  {
   "cell_type": "code",
   "execution_count": 11,
   "id": "eed99ea8-5179-4aa9-a1d6-7b509f46f693",
   "metadata": {},
   "outputs": [
    {
     "name": "stdin",
     "output_type": "stream",
     "text": [
      "Enter first Movie a\n",
      "Enter first Movie b\n",
      "Enter first Movie c\n",
      "Enter first Movie d\n"
     ]
    },
    {
     "name": "stdout",
     "output_type": "stream",
     "text": [
      "['a', 'b', 'c', 'd']\n"
     ]
    }
   ],
   "source": [
    "\n",
    "\n",
    "moviesList=[]\n",
    "\n",
    "movies1=input(\"Enter first Movie\")\n",
    "moviesList.append(movies1)\n",
    "movies2=input(\"Enter first Movie\")\n",
    "moviesList.append(movies2)\n",
    "movies3=input(\"Enter first Movie\")\n",
    "moviesList.append(movies3)\n",
    "movies4=input(\"Enter first Movie\")\n",
    "moviesList.append(movies4)\n",
    "\n",
    "print(moviesList)"
   ]
  },
  {
   "cell_type": "code",
   "execution_count": null,
   "id": "6db0b22f-48b4-4164-a471-792417749da3",
   "metadata": {},
   "outputs": [],
   "source": []
  }
 ],
 "metadata": {
  "kernelspec": {
   "display_name": "Python 3 (ipykernel)",
   "language": "python",
   "name": "python3"
  },
  "language_info": {
   "codemirror_mode": {
    "name": "ipython",
    "version": 3
   },
   "file_extension": ".py",
   "mimetype": "text/x-python",
   "name": "python",
   "nbconvert_exporter": "python",
   "pygments_lexer": "ipython3",
   "version": "3.12.3"
  },
  "widgets": {
   "application/vnd.jupyter.widget-state+json": {
    "state": {},
    "version_major": 2,
    "version_minor": 0
   }
  }
 },
 "nbformat": 4,
 "nbformat_minor": 5
}
