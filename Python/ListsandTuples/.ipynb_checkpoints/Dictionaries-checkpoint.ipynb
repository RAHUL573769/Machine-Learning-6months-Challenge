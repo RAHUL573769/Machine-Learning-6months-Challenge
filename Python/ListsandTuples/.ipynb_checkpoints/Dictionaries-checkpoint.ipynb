{
 "cells": [
  {
   "cell_type": "code",
   "execution_count": 2,
   "id": "266bf1a1-f0c5-42b7-983b-77087dafd8c4",
   "metadata": {},
   "outputs": [
    {
     "name": "stdout",
     "output_type": "stream",
     "text": [
      "{'name': 'Rahul Rudra', 'age': 23, 'topics': ['dict', 'satas']}\n"
     ]
    }
   ],
   "source": [
    "myProperties={\n",
    "\n",
    "\n",
    "    \"name\": \"Rahul Rudra\",\n",
    "    \"age\":23,\n",
    "    \"topics\":[\"dict\",\"satas\"]\n",
    "}\n",
    "\n",
    "print(myProperties)"
   ]
  },
  {
   "cell_type": "code",
   "execution_count": 3,
   "id": "c9b004c2-bfa4-4ddd-a7d2-d7d143b2281e",
   "metadata": {},
   "outputs": [
    {
     "name": "stdout",
     "output_type": "stream",
     "text": [
      "23\n"
     ]
    }
   ],
   "source": [
    "print(myProperties['age'])"
   ]
  },
  {
   "cell_type": "code",
   "execution_count": 4,
   "id": "d5040fa8-46c7-42bc-b6de-142cebe2e136",
   "metadata": {},
   "outputs": [
    {
     "name": "stdout",
     "output_type": "stream",
     "text": [
      "234\n"
     ]
    }
   ],
   "source": [
    "student={\n",
    "\n",
    "    \"name\": \"Rahul Rudra\",\n",
    "    \"subjects\":{\n",
    "\"physics\":234\n",
    "        \n",
    "    }\n",
    "}\n",
    "print(student['subjects']['physics'])"
   ]
  },
  {
   "cell_type": "code",
   "execution_count": null,
   "id": "c59568c1-3e32-45bb-a519-10af5fc34123",
   "metadata": {},
   "outputs": [],
   "source": []
  }
 ],
 "metadata": {
  "kernelspec": {
   "display_name": "Python 3 (ipykernel)",
   "language": "python",
   "name": "python3"
  },
  "language_info": {
   "codemirror_mode": {
    "name": "ipython",
    "version": 3
   },
   "file_extension": ".py",
   "mimetype": "text/x-python",
   "name": "python",
   "nbconvert_exporter": "python",
   "pygments_lexer": "ipython3",
   "version": "3.12.3"
  },
  "widgets": {
   "application/vnd.jupyter.widget-state+json": {
    "state": {},
    "version_major": 2,
    "version_minor": 0
   }
  }
 },
 "nbformat": 4,
 "nbformat_minor": 5
}
