{
 "cells": [
  {
   "cell_type": "code",
   "execution_count": 2,
   "id": "266bf1a1-f0c5-42b7-983b-77087dafd8c4",
   "metadata": {},
   "outputs": [
    {
     "name": "stdout",
     "output_type": "stream",
     "text": [
      "{'name': 'Rahul Rudra', 'age': 23, 'topics': ['dict', 'satas']}\n"
     ]
    }
   ],
   "source": [
    "myProperties={\n",
    "\n",
    "\n",
    "    \"name\": \"Rahul Rudra\",\n",
    "    \"age\":23,\n",
    "    \"topics\":[\"dict\",\"satas\"]\n",
    "}\n",
    "\n",
    "print(myProperties)"
   ]
  },
  {
   "cell_type": "code",
   "execution_count": 3,
   "id": "c9b004c2-bfa4-4ddd-a7d2-d7d143b2281e",
   "metadata": {},
   "outputs": [
    {
     "name": "stdout",
     "output_type": "stream",
     "text": [
      "23\n"
     ]
    }
   ],
   "source": [
    "print(myProperties['age'])"
   ]
  },
  {
   "cell_type": "code",
   "execution_count": 4,
   "id": "d5040fa8-46c7-42bc-b6de-142cebe2e136",
   "metadata": {},
   "outputs": [
    {
     "name": "stdout",
     "output_type": "stream",
     "text": [
      "234\n"
     ]
    }
   ],
   "source": [
    "student={\n",
    "\n",
    "    \"name\": \"Rahul Rudra\",\n",
    "    \"subjects\":{\n",
    "\"physics\":234\n",
    "        \n",
    "    }\n",
    "}\n",
    "print(student['subjects']['physics'])"
   ]
  },
  {
   "cell_type": "code",
   "execution_count": 5,
   "id": "c59568c1-3e32-45bb-a519-10af5fc34123",
   "metadata": {},
   "outputs": [
    {
     "name": "stdout",
     "output_type": "stream",
     "text": [
      "{'physics': 234}\n"
     ]
    }
   ],
   "source": [
    "print(student['subjects'])"
   ]
  },
  {
   "cell_type": "code",
   "execution_count": 6,
   "id": "18cdd7e4-a6a4-4036-a82e-122bd36a7a88",
   "metadata": {},
   "outputs": [
    {
     "name": "stdout",
     "output_type": "stream",
     "text": [
      "None\n"
     ]
    }
   ],
   "source": [
    "print(student.get(\"name2\"))"
   ]
  },
  {
   "cell_type": "code",
   "execution_count": 7,
   "id": "59c82738-c53b-4133-be3a-719f3059d22e",
   "metadata": {},
   "outputs": [
    {
     "name": "stdout",
     "output_type": "stream",
     "text": [
      "dict_items([('name', 'Rahul Rudra'), ('subjects', {'physics': 234})])\n"
     ]
    }
   ],
   "source": [
    "print(student.items())"
   ]
  },
  {
   "cell_type": "code",
   "execution_count": 9,
   "id": "59f03f5d-a340-473a-a6e1-8917b3b1757d",
   "metadata": {},
   "outputs": [],
   "source": [
    "new_dict={ \"name\": \"Rahul Rudra\",\n",
    "    \"subjects\":{\n",
    "\"physics\":234\n",
    "        \n",
    "    }}\n",
    "\n",
    "student.update(new_dict)"
   ]
  },
  {
   "cell_type": "code",
   "execution_count": 10,
   "id": "342f98b2-11ba-415f-8da6-52508ce7dc44",
   "metadata": {},
   "outputs": [
    {
     "name": "stdout",
     "output_type": "stream",
     "text": [
      "{'name': 'Rahul Rudra', 'subjects': {'physics': 234}}\n"
     ]
    }
   ],
   "source": [
    "print(student)"
   ]
  },
  {
   "cell_type": "code",
   "execution_count": 13,
   "id": "fdee1297-620d-495d-897c-326a866747c5",
   "metadata": {},
   "outputs": [
    {
     "name": "stdin",
     "output_type": "stream",
     "text": [
      "Enter the Marks for Physics 34\n",
      "Enter the Marks for Maths 12\n",
      "Enter the Marks for English 89\n"
     ]
    },
    {
     "name": "stdout",
     "output_type": "stream",
     "text": [
      "{'physics': 34, 'maths': 12, 'English': 89}\n"
     ]
    }
   ],
   "source": [
    "subjects={}\n",
    "\n",
    "x=int(input(\"Enter the Marks for Physics\"))\n",
    "newSubjects={\"physics\":x}\n",
    "subjects.update(newSubjects)\n",
    "x=int(input(\"Enter the Marks for Maths\"))\n",
    "newSubjects={\"maths\":x}\n",
    "subjects.update(newSubjects)\n",
    "x=int(input(\"Enter the Marks for English\"))\n",
    "newSubjects={\"English\":x}\n",
    "subjects.update(newSubjects)\n",
    "\n",
    "print(subjects)"
   ]
  },
  {
   "cell_type": "code",
   "execution_count": null,
   "id": "1702e5d9-5419-4d11-b5c9-1c4411a61dbb",
   "metadata": {},
   "outputs": [],
   "source": []
  }
 ],
 "metadata": {
  "kernelspec": {
   "display_name": "Python 3 (ipykernel)",
   "language": "python",
   "name": "python3"
  },
  "language_info": {
   "codemirror_mode": {
    "name": "ipython",
    "version": 3
   },
   "file_extension": ".py",
   "mimetype": "text/x-python",
   "name": "python",
   "nbconvert_exporter": "python",
   "pygments_lexer": "ipython3",
   "version": "3.12.3"
  },
  "widgets": {
   "application/vnd.jupyter.widget-state+json": {
    "state": {},
    "version_major": 2,
    "version_minor": 0
   }
  }
 },
 "nbformat": 4,
 "nbformat_minor": 5
}
