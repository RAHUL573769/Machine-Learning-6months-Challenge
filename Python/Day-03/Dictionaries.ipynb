{
 "cells": [
  {
   "cell_type": "code",
   "execution_count": 12,
   "id": "8d047e2a-db10-408e-8a15-6b6de0afba8d",
   "metadata": {},
   "outputs": [
    {
     "name": "stdout",
     "output_type": "stream",
     "text": [
      "1345\n",
      "{'Ram': 1345, 'Sam': 25267}\n"
     ]
    }
   ],
   "source": [
    "phoneNumber={\"Ram\":13154, \"Sam\":25267}\n",
    "phoneNumber['Ram']=1345\n",
    "print(phoneNumber['Ram'])\n",
    "print(phoneNumber)"
   ]
  },
  {
   "cell_type": "code",
   "execution_count": 4,
   "id": "23404884-bfeb-4838-9937-b838e2fc14ff",
   "metadata": {},
   "outputs": [
    {
     "name": "stdout",
     "output_type": "stream",
     "text": [
      "('Ram', {1345})\n"
     ]
    }
   ],
   "source": [
    "print(phoneNumber.popitem())"
   ]
  },
  {
   "cell_type": "code",
   "execution_count": 14,
   "id": "60cb3b99-c410-4a2c-bf6b-fdf515e95a64",
   "metadata": {},
   "outputs": [
    {
     "name": "stdout",
     "output_type": "stream",
     "text": [
      "dict_values([1345, 25267])\n"
     ]
    }
   ],
   "source": [
    "print((phoneNumber.values()))"
   ]
  },
  {
   "cell_type": "code",
   "execution_count": 8,
   "id": "1110f381-b503-465c-a211-5b796705c18f",
   "metadata": {},
   "outputs": [
    {
     "name": "stdout",
     "output_type": "stream",
     "text": [
      "{}\n"
     ]
    }
   ],
   "source": [
    "print(phoneNumber)"
   ]
  },
  {
   "cell_type": "code",
   "execution_count": 7,
   "id": "25dd3fdc-9ca3-4fdf-8a81-fc11b86c0fe1",
   "metadata": {},
   "outputs": [
    {
     "name": "stdout",
     "output_type": "stream",
     "text": [
      "None\n"
     ]
    }
   ],
   "source": [
    "print(phoneNumber.get(\"Ram\"))"
   ]
  },
  {
   "cell_type": "code",
   "execution_count": 9,
   "id": "226373f5-6201-404a-a3ee-be86fba6df21",
   "metadata": {},
   "outputs": [
    {
     "name": "stdout",
     "output_type": "stream",
     "text": [
      "{1345}\n",
      "{'Ram': {1345}}\n"
     ]
    }
   ],
   "source": [
    "phoneNumber={\"Ram\":13154}\n",
    "phoneNumber['Ram']={1345}\n",
    "print(phoneNumber['Ram'])\n",
    "print(phoneNumber)"
   ]
  },
  {
   "cell_type": "code",
   "execution_count": 10,
   "id": "f113df3d-8ccf-4227-ac1c-0f5f3c463c0b",
   "metadata": {},
   "outputs": [
    {
     "name": "stdout",
     "output_type": "stream",
     "text": [
      "dict_values([{1345}])\n"
     ]
    }
   ],
   "source": [
    "print((phoneNumber.values()))"
   ]
  },
  {
   "cell_type": "code",
   "execution_count": 13,
   "id": "71e3e05a-1269-460d-b833-19d183a41554",
   "metadata": {},
   "outputs": [
    {
     "name": "stdout",
     "output_type": "stream",
     "text": [
      "dict_keys(['Ram', 'Sam'])\n"
     ]
    }
   ],
   "source": [
    "print((phoneNumber.keys()))"
   ]
  },
  {
   "cell_type": "code",
   "execution_count": 15,
   "id": "c7a41d61-15a5-4ede-95bc-41cd9a6f9b16",
   "metadata": {},
   "outputs": [
    {
     "name": "stdout",
     "output_type": "stream",
     "text": [
      "Ram\n",
      "Sam\n"
     ]
    }
   ],
   "source": [
    "for k,v in phoneNumber.items():\n",
    "    print(k)"
   ]
  },
  {
   "cell_type": "code",
   "execution_count": null,
   "id": "9053cb4d-6685-4102-8b3f-77711ae51f67",
   "metadata": {},
   "outputs": [],
   "source": []
  }
 ],
 "metadata": {
  "kernelspec": {
   "display_name": "Python 3 (ipykernel)",
   "language": "python",
   "name": "python3"
  },
  "language_info": {
   "codemirror_mode": {
    "name": "ipython",
    "version": 3
   },
   "file_extension": ".py",
   "mimetype": "text/x-python",
   "name": "python",
   "nbconvert_exporter": "python",
   "pygments_lexer": "ipython3",
   "version": "3.12.3"
  },
  "widgets": {
   "application/vnd.jupyter.widget-state+json": {
    "state": {},
    "version_major": 2,
    "version_minor": 0
   }
  }
 },
 "nbformat": 4,
 "nbformat_minor": 5
}
