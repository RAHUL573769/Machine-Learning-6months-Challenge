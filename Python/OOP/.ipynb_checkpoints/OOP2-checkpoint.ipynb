{
 "cells": [
  {
   "cell_type": "code",
   "execution_count": 1,
   "id": "df710cb5-7724-40d1-982d-5a89f095971e",
   "metadata": {},
   "outputs": [
    {
     "ename": "AttributeError",
     "evalue": "'list' object has no attribute 'upper'",
     "output_type": "error",
     "traceback": [
      "\u001b[31m---------------------------------------------------------------------------\u001b[39m",
      "\u001b[31mAttributeError\u001b[39m                            Traceback (most recent call last)",
      "\u001b[36mCell\u001b[39m\u001b[36m \u001b[39m\u001b[32mIn[1]\u001b[39m\u001b[32m, line 2\u001b[39m\n\u001b[32m      1\u001b[39m L=[\u001b[32m1\u001b[39m,\u001b[32m23\u001b[39m,\u001b[32m4\u001b[39m]\n\u001b[32m----> \u001b[39m\u001b[32m2\u001b[39m \u001b[43mL\u001b[49m\u001b[43m.\u001b[49m\u001b[43mupper\u001b[49m()\n",
      "\u001b[31mAttributeError\u001b[39m: 'list' object has no attribute 'upper'"
     ]
    }
   ],
   "source": [
    "L=[1,23,4]\n",
    "L.upper()"
   ]
  },
  {
   "cell_type": "code",
   "execution_count": 1,
   "id": "8a5fcd0d-c0b2-45b8-8db9-349fd9a46b48",
   "metadata": {},
   "outputs": [
    {
     "name": "stdout",
     "output_type": "stream",
     "text": [
      "[34]\n"
     ]
    }
   ],
   "source": [
    "L=list()\n",
    "L.append(34)\n",
    "print(L)"
   ]
  },
  {
   "cell_type": "code",
   "execution_count": 12,
   "id": "0cb423ce-8911-4e3e-a1bd-01e44c97d8ff",
   "metadata": {},
   "outputs": [],
   "source": [
    "class AtmMachine:\n",
    "    def __init__(self):\n",
    "        self.pin=\"\"\n",
    "        self.balance=0\n",
    "        # self.menu()\n",
    "    def menu(self):\n",
    "        input(\"\"\" Hi how ca I help you?\n",
    "        \"\"\")\n"
   ]
  },
  {
   "cell_type": "code",
   "execution_count": 13,
   "id": "c1cdaa5d-6d62-48a8-b97e-cc29421ecebe",
   "metadata": {},
   "outputs": [],
   "source": [
    "pin=AtmMachine()\n"
   ]
  },
  {
   "cell_type": "code",
   "execution_count": 8,
   "id": "54386424-dd36-4727-afb5-ed763a8abf3f",
   "metadata": {},
   "outputs": [
    {
     "name": "stdin",
     "output_type": "stream",
     "text": [
      " Hi how ca I help you?\n",
      "         4\n"
     ]
    },
    {
     "name": "stdout",
     "output_type": "stream",
     "text": [
      "None\n"
     ]
    }
   ],
   "source": [
    "pin.balance=243\n",
    "print(pin.menu())"
   ]
  },
  {
   "cell_type": "code",
   "execution_count": 1,
   "id": "d05798be-f552-4f03-8e28-5941dc78cc2f",
   "metadata": {},
   "outputs": [
    {
     "name": "stdout",
     "output_type": "stream",
     "text": [
      "The average is 82.0\n"
     ]
    }
   ],
   "source": [
    "class Student:\n",
    "    def __init__(self, fullName, fullMarks):\n",
    "        self.name = fullName\n",
    "        self.marks = fullMarks\n",
    "\n",
    "    def average_marks(self):\n",
    "        summation = 0\n",
    "        for value in self.marks:\n",
    "            summation += value\n",
    "        average = summation / len(self.marks)\n",
    "        return f\"The average is {average}\"\n",
    "\n",
    "s1 = Student(\"Tony Stark\", [67, 89, 90])\n",
    "print(s1.average_marks())\n"
   ]
  },
  {
   "cell_type": "code",
   "execution_count": 2,
   "id": "0bb82df6-0aea-469b-8503-6242f1bf82ea",
   "metadata": {},
   "outputs": [],
   "source": [
    "class Account:\n",
    "    def __init__(self,balance,account):\n",
    "        self.balance=balance\n",
    "        self.account=account\n",
    "    def debit(self,amount):\n",
    "        self.balance=self.balance-amount\n",
    "        print(f\"Rs. {amount} was debited.Remaining Balance {self.balance}\")\n",
    "    "
   ]
  },
  {
   "cell_type": "code",
   "execution_count": 4,
   "id": "865b6bbb-a811-4c18-a14e-010580df437e",
   "metadata": {},
   "outputs": [
    {
     "name": "stdout",
     "output_type": "stream",
     "text": [
      "Rs. 100 was debited.Remaining Balance 99900\n",
      "None\n"
     ]
    }
   ],
   "source": [
    "acc1=Account(100000,12345)\n",
    "print(acc1.debit(100))"
   ]
  },
  {
   "cell_type": "code",
   "execution_count": 5,
   "id": "f1ea552a-6fc9-483b-a34f-323bc25a511a",
   "metadata": {},
   "outputs": [],
   "source": [
    "Class AtmMachine:\n",
    "    def __init__(self):\n",
    "        self.pin=''\n",
    "        self.balance=0\n",
    "    def menu(self):\n",
    "        userInput=input(\"\"\"\n",
    "        Hi! Do you know how I can help you?\n",
    "        1. Press 1 to create Pin\n",
    "        2. Press 2 to change Pin\n",
    "        3. Press 3 to check Balance\n",
    "        4. Press 4 to withdraw\n",
    "        5. Anything else to exit\n",
    "        \"\"\")\n",
    "        if userInput=='1':\n",
    "            self.create_pin()\n",
    "    def create_pin(self):\n",
    "        user_pin=input(\"Enter your Pin\")\n",
    "        self.pin=user_pin\n",
    "        user_balance=inputt(input(\"Enter your Balance\")\n",
    "        print(\"Pin Created Succesfully\")\n",
    "        self.menu()"
   ]
  },
  {
   "cell_type": "code",
   "execution_count": 11,
   "id": "b84eeb4d-f5a2-414b-9e05-a63b89499bf9",
   "metadata": {},
   "outputs": [
    {
     "name": "stdin",
     "output_type": "stream",
     "text": [
      "\n",
      "        Hi! How can I help you?\n",
      "        1.Press 1 to create Pin\n",
      "        2.Press 2 to change Pin\n",
      "        3.Press 3 to check Balance\n",
      "        4.Press 4 to withdraw\n",
      "        5. Anything else to exit\n",
      "         1\n"
     ]
    }
   ],
   "source": [
    "output=AtmMachine.menu(2)"
   ]
  },
  {
   "cell_type": "code",
   "execution_count": 14,
   "id": "b9ef8019-d80f-4366-ac60-65bc9e32c049",
   "metadata": {},
   "outputs": [],
   "source": [
    "class AtmMachine:\n",
    "    def __init__(self):\n",
    "        self.pin=''\n",
    "        self.balance=0\n",
    "    def menu(self):\n",
    "        userInput=input(\"\"\"\n",
    "        Hi! How can I help you?\n",
    "        1.Press 1 to create Pin\n",
    "        2.Press 2 to change Pin\n",
    "        3.Press 3 to check Balance\n",
    "        4.Press 4 to withdraw\n",
    "        5. Anything else to exit\n",
    "        \"\"\")\n",
    "        if userInput=='1':\n",
    "            self.create_pin()\n",
    "    def create_pin(self):\n",
    "        user_pin=input(\"Enter your Pin\")\n",
    "        self.pin=user_pin\n",
    "        user_balance=int(input(\"Enter your Balance\"))\n",
    "        print(\"Pin Created Succesfully\")\n",
    "        self.menu()"
   ]
  },
  {
   "cell_type": "code",
   "execution_count": 15,
   "id": "ad770c94-c4e7-4d88-95d4-64e2e94caa80",
   "metadata": {},
   "outputs": [],
   "source": [
    "obj1=AtmMachine()"
   ]
  },
  {
   "cell_type": "markdown",
   "id": "e02b5f21-a4c3-4fc3-9e50-d000932be295",
   "metadata": {},
   "source": [
    "obj1.menu()"
   ]
  },
  {
   "cell_type": "code",
   "execution_count": 16,
   "id": "543c5565-a1e3-4c01-b409-623397986fc2",
   "metadata": {},
   "outputs": [
    {
     "name": "stdin",
     "output_type": "stream",
     "text": [
      "\n",
      "        Hi! How can I help you?\n",
      "        1.Press 1 to create Pin\n",
      "        2.Press 2 to change Pin\n",
      "        3.Press 3 to check Balance\n",
      "        4.Press 4 to withdraw\n",
      "        5. Anything else to exit\n",
      "         1\n",
      "Enter your Pin 123\n",
      "Enter your Balance 24353464\n"
     ]
    },
    {
     "ename": "KeyboardInterrupt",
     "evalue": "Interrupted by user",
     "output_type": "error",
     "traceback": [
      "\u001b[31m---------------------------------------------------------------------------\u001b[39m",
      "\u001b[31mKeyboardInterrupt\u001b[39m                         Traceback (most recent call last)",
      "\u001b[36mCell\u001b[39m\u001b[36m \u001b[39m\u001b[32mIn[16]\u001b[39m\u001b[32m, line 1\u001b[39m\n\u001b[32m----> \u001b[39m\u001b[32m1\u001b[39m \u001b[43mobj1\u001b[49m\u001b[43m.\u001b[49m\u001b[43mmenu\u001b[49m\u001b[43m(\u001b[49m\u001b[43m)\u001b[49m\n",
      "\u001b[36mCell\u001b[39m\u001b[36m \u001b[39m\u001b[32mIn[14]\u001b[39m\u001b[32m, line 15\u001b[39m, in \u001b[36mAtmMachine.menu\u001b[39m\u001b[34m(self)\u001b[39m\n\u001b[32m      6\u001b[39m userInput=\u001b[38;5;28minput\u001b[39m(\u001b[33m\"\"\"\u001b[39m\n\u001b[32m      7\u001b[39m \u001b[33mHi! How can I help you?\u001b[39m\n\u001b[32m      8\u001b[39m \u001b[33m1.Press 1 to create Pin\u001b[39m\n\u001b[32m   (...)\u001b[39m\u001b[32m     12\u001b[39m \u001b[33m5. Anything else to exit\u001b[39m\n\u001b[32m     13\u001b[39m \u001b[33m\u001b[39m\u001b[33m\"\"\"\u001b[39m)\n\u001b[32m     14\u001b[39m \u001b[38;5;28;01mif\u001b[39;00m userInput==\u001b[33m'\u001b[39m\u001b[33m1\u001b[39m\u001b[33m'\u001b[39m:\n\u001b[32m---> \u001b[39m\u001b[32m15\u001b[39m     \u001b[38;5;28;43mself\u001b[39;49m\u001b[43m.\u001b[49m\u001b[43mcreate_pin\u001b[49m\u001b[43m(\u001b[49m\u001b[43m)\u001b[49m\n",
      "\u001b[36mCell\u001b[39m\u001b[36m \u001b[39m\u001b[32mIn[14]\u001b[39m\u001b[32m, line 19\u001b[39m, in \u001b[36mAtmMachine.create_pin\u001b[39m\u001b[34m(self)\u001b[39m\n\u001b[32m     17\u001b[39m user_pin=\u001b[38;5;28minput\u001b[39m(\u001b[33m\"\u001b[39m\u001b[33mEnter your Pin\u001b[39m\u001b[33m\"\u001b[39m)\n\u001b[32m     18\u001b[39m \u001b[38;5;28mself\u001b[39m.pin=user_pin\n\u001b[32m---> \u001b[39m\u001b[32m19\u001b[39m user_balance=\u001b[38;5;28;43minput\u001b[39;49m\u001b[43m(\u001b[49m\u001b[38;5;28;43minput\u001b[39;49m\u001b[43m(\u001b[49m\u001b[33;43m\"\u001b[39;49m\u001b[33;43mEnter your Balance\u001b[39;49m\u001b[33;43m\"\u001b[39;49m\u001b[43m)\u001b[49m\u001b[43m)\u001b[49m\n\u001b[32m     20\u001b[39m \u001b[38;5;28mprint\u001b[39m(\u001b[33m\"\u001b[39m\u001b[33mPin Created Succesfully\u001b[39m\u001b[33m\"\u001b[39m)\n\u001b[32m     21\u001b[39m \u001b[38;5;28mself\u001b[39m.menu()\n",
      "\u001b[36mFile \u001b[39m\u001b[32m~\\AppData\\Roaming\\Python\\Python312\\site-packages\\ipykernel\\kernelbase.py:1282\u001b[39m, in \u001b[36mKernel.raw_input\u001b[39m\u001b[34m(self, prompt)\u001b[39m\n\u001b[32m   1280\u001b[39m     msg = \u001b[33m\"\u001b[39m\u001b[33mraw_input was called, but this frontend does not support input requests.\u001b[39m\u001b[33m\"\u001b[39m\n\u001b[32m   1281\u001b[39m     \u001b[38;5;28;01mraise\u001b[39;00m StdinNotImplementedError(msg)\n\u001b[32m-> \u001b[39m\u001b[32m1282\u001b[39m \u001b[38;5;28;01mreturn\u001b[39;00m \u001b[38;5;28;43mself\u001b[39;49m\u001b[43m.\u001b[49m\u001b[43m_input_request\u001b[49m\u001b[43m(\u001b[49m\n\u001b[32m   1283\u001b[39m \u001b[43m    \u001b[49m\u001b[38;5;28;43mstr\u001b[39;49m\u001b[43m(\u001b[49m\u001b[43mprompt\u001b[49m\u001b[43m)\u001b[49m\u001b[43m,\u001b[49m\n\u001b[32m   1284\u001b[39m \u001b[43m    \u001b[49m\u001b[38;5;28;43mself\u001b[39;49m\u001b[43m.\u001b[49m\u001b[43m_parent_ident\u001b[49m\u001b[43m[\u001b[49m\u001b[33;43m\"\u001b[39;49m\u001b[33;43mshell\u001b[39;49m\u001b[33;43m\"\u001b[39;49m\u001b[43m]\u001b[49m\u001b[43m,\u001b[49m\n\u001b[32m   1285\u001b[39m \u001b[43m    \u001b[49m\u001b[38;5;28;43mself\u001b[39;49m\u001b[43m.\u001b[49m\u001b[43mget_parent\u001b[49m\u001b[43m(\u001b[49m\u001b[33;43m\"\u001b[39;49m\u001b[33;43mshell\u001b[39;49m\u001b[33;43m\"\u001b[39;49m\u001b[43m)\u001b[49m\u001b[43m,\u001b[49m\n\u001b[32m   1286\u001b[39m \u001b[43m    \u001b[49m\u001b[43mpassword\u001b[49m\u001b[43m=\u001b[49m\u001b[38;5;28;43;01mFalse\u001b[39;49;00m\u001b[43m,\u001b[49m\n\u001b[32m   1287\u001b[39m \u001b[43m\u001b[49m\u001b[43m)\u001b[49m\n",
      "\u001b[36mFile \u001b[39m\u001b[32m~\\AppData\\Roaming\\Python\\Python312\\site-packages\\ipykernel\\kernelbase.py:1325\u001b[39m, in \u001b[36mKernel._input_request\u001b[39m\u001b[34m(self, prompt, ident, parent, password)\u001b[39m\n\u001b[32m   1322\u001b[39m \u001b[38;5;28;01mexcept\u001b[39;00m \u001b[38;5;167;01mKeyboardInterrupt\u001b[39;00m:\n\u001b[32m   1323\u001b[39m     \u001b[38;5;66;03m# re-raise KeyboardInterrupt, to truncate traceback\u001b[39;00m\n\u001b[32m   1324\u001b[39m     msg = \u001b[33m\"\u001b[39m\u001b[33mInterrupted by user\u001b[39m\u001b[33m\"\u001b[39m\n\u001b[32m-> \u001b[39m\u001b[32m1325\u001b[39m     \u001b[38;5;28;01mraise\u001b[39;00m \u001b[38;5;167;01mKeyboardInterrupt\u001b[39;00m(msg) \u001b[38;5;28;01mfrom\u001b[39;00m\u001b[38;5;250m \u001b[39m\u001b[38;5;28;01mNone\u001b[39;00m\n\u001b[32m   1326\u001b[39m \u001b[38;5;28;01mexcept\u001b[39;00m \u001b[38;5;167;01mException\u001b[39;00m:\n\u001b[32m   1327\u001b[39m     \u001b[38;5;28mself\u001b[39m.log.warning(\u001b[33m\"\u001b[39m\u001b[33mInvalid Message:\u001b[39m\u001b[33m\"\u001b[39m, exc_info=\u001b[38;5;28;01mTrue\u001b[39;00m)\n",
      "\u001b[31mKeyboardInterrupt\u001b[39m: Interrupted by user"
     ]
    }
   ],
   "source": [
    "obj1.menu()"
   ]
  },
  {
   "cell_type": "code",
   "execution_count": 17,
   "id": "caac33ae-077f-424d-8280-8fb4e164611d",
   "metadata": {},
   "outputs": [],
   "source": [
    "class AtmMachine:\n",
    "    def __init__(self):\n",
    "        self.pin=''\n",
    "        self.balance=0\n",
    "    def menu(self):\n",
    "        userInput=input(\"\"\"\n",
    "        Hi! How can I help you?\n",
    "        1.Press 1 to create Pin\n",
    "        2.Press 2 to change Pin\n",
    "        3.Press 3 to check Balance\n",
    "        4.Press 4 to withdraw\n",
    "        5. Anything else to exit\n",
    "        \"\"\")\n",
    "        if userInput=='1':\n",
    "            self.create_pin()\n",
    "    def create_pin(self):\n",
    "        user_pin=input(\"Enter your Pin\")\n",
    "        self.pin=user_pin\n",
    "        user_balance=int(input(\"Enter your Balance\"))\n",
    "        print(\"Pin Created Succesfully\")\n",
    "        self.menu()"
   ]
  },
  {
   "cell_type": "code",
   "execution_count": 18,
   "id": "91b52e49-2538-43d1-afd8-9b5faa20cad5",
   "metadata": {},
   "outputs": [],
   "source": [
    "obj1=AtmMachine()"
   ]
  },
  {
   "cell_type": "code",
   "execution_count": 19,
   "id": "8dc7c0d3-c32e-4d35-9bda-0b56105d61fd",
   "metadata": {},
   "outputs": [
    {
     "name": "stdin",
     "output_type": "stream",
     "text": [
      "\n",
      "        Hi! How can I help you?\n",
      "        1.Press 1 to create Pin\n",
      "        2.Press 2 to change Pin\n",
      "        3.Press 3 to check Balance\n",
      "        4.Press 4 to withdraw\n",
      "        5. Anything else to exit\n",
      "         1\n",
      "Enter your Pin 12345\n",
      "Enter your Balance 100000\n"
     ]
    },
    {
     "name": "stdout",
     "output_type": "stream",
     "text": [
      "Pin Created Succesfully\n"
     ]
    },
    {
     "ename": "KeyboardInterrupt",
     "evalue": "Interrupted by user",
     "output_type": "error",
     "traceback": [
      "\u001b[31m---------------------------------------------------------------------------\u001b[39m",
      "\u001b[31mKeyboardInterrupt\u001b[39m                         Traceback (most recent call last)",
      "\u001b[36mCell\u001b[39m\u001b[36m \u001b[39m\u001b[32mIn[19]\u001b[39m\u001b[32m, line 1\u001b[39m\n\u001b[32m----> \u001b[39m\u001b[32m1\u001b[39m \u001b[43mobj1\u001b[49m\u001b[43m.\u001b[49m\u001b[43mmenu\u001b[49m\u001b[43m(\u001b[49m\u001b[43m)\u001b[49m\n",
      "\u001b[36mCell\u001b[39m\u001b[36m \u001b[39m\u001b[32mIn[17]\u001b[39m\u001b[32m, line 15\u001b[39m, in \u001b[36mAtmMachine.menu\u001b[39m\u001b[34m(self)\u001b[39m\n\u001b[32m      6\u001b[39m userInput=\u001b[38;5;28minput\u001b[39m(\u001b[33m\"\"\"\u001b[39m\n\u001b[32m      7\u001b[39m \u001b[33mHi! How can I help you?\u001b[39m\n\u001b[32m      8\u001b[39m \u001b[33m1.Press 1 to create Pin\u001b[39m\n\u001b[32m   (...)\u001b[39m\u001b[32m     12\u001b[39m \u001b[33m5. Anything else to exit\u001b[39m\n\u001b[32m     13\u001b[39m \u001b[33m\u001b[39m\u001b[33m\"\"\"\u001b[39m)\n\u001b[32m     14\u001b[39m \u001b[38;5;28;01mif\u001b[39;00m userInput==\u001b[33m'\u001b[39m\u001b[33m1\u001b[39m\u001b[33m'\u001b[39m:\n\u001b[32m---> \u001b[39m\u001b[32m15\u001b[39m     \u001b[38;5;28;43mself\u001b[39;49m\u001b[43m.\u001b[49m\u001b[43mcreate_pin\u001b[49m\u001b[43m(\u001b[49m\u001b[43m)\u001b[49m\n",
      "\u001b[36mCell\u001b[39m\u001b[36m \u001b[39m\u001b[32mIn[17]\u001b[39m\u001b[32m, line 21\u001b[39m, in \u001b[36mAtmMachine.create_pin\u001b[39m\u001b[34m(self)\u001b[39m\n\u001b[32m     19\u001b[39m user_balance=\u001b[38;5;28mint\u001b[39m(\u001b[38;5;28minput\u001b[39m(\u001b[33m\"\u001b[39m\u001b[33mEnter your Balance\u001b[39m\u001b[33m\"\u001b[39m))\n\u001b[32m     20\u001b[39m \u001b[38;5;28mprint\u001b[39m(\u001b[33m\"\u001b[39m\u001b[33mPin Created Succesfully\u001b[39m\u001b[33m\"\u001b[39m)\n\u001b[32m---> \u001b[39m\u001b[32m21\u001b[39m \u001b[38;5;28;43mself\u001b[39;49m\u001b[43m.\u001b[49m\u001b[43mmenu\u001b[49m\u001b[43m(\u001b[49m\u001b[43m)\u001b[49m\n",
      "\u001b[36mCell\u001b[39m\u001b[36m \u001b[39m\u001b[32mIn[17]\u001b[39m\u001b[32m, line 6\u001b[39m, in \u001b[36mAtmMachine.menu\u001b[39m\u001b[34m(self)\u001b[39m\n\u001b[32m      5\u001b[39m \u001b[38;5;28;01mdef\u001b[39;00m\u001b[38;5;250m \u001b[39m\u001b[34mmenu\u001b[39m(\u001b[38;5;28mself\u001b[39m):\n\u001b[32m----> \u001b[39m\u001b[32m6\u001b[39m     userInput=\u001b[38;5;28;43minput\u001b[39;49m\u001b[43m(\u001b[49m\u001b[33;43m\"\"\"\u001b[39;49m\n\u001b[32m      7\u001b[39m \u001b[33;43m    Hi! How can I help you?\u001b[39;49m\n\u001b[32m      8\u001b[39m \u001b[33;43m    1.Press 1 to create Pin\u001b[39;49m\n\u001b[32m      9\u001b[39m \u001b[33;43m    2.Press 2 to change Pin\u001b[39;49m\n\u001b[32m     10\u001b[39m \u001b[33;43m    3.Press 3 to check Balance\u001b[39;49m\n\u001b[32m     11\u001b[39m \u001b[33;43m    4.Press 4 to withdraw\u001b[39;49m\n\u001b[32m     12\u001b[39m \u001b[33;43m    5. Anything else to exit\u001b[39;49m\n\u001b[32m     13\u001b[39m \u001b[33;43m    \u001b[39;49m\u001b[33;43m\"\"\"\u001b[39;49m\u001b[43m)\u001b[49m\n\u001b[32m     14\u001b[39m     \u001b[38;5;28;01mif\u001b[39;00m userInput==\u001b[33m'\u001b[39m\u001b[33m1\u001b[39m\u001b[33m'\u001b[39m:\n\u001b[32m     15\u001b[39m         \u001b[38;5;28mself\u001b[39m.create_pin()\n",
      "\u001b[36mFile \u001b[39m\u001b[32m~\\AppData\\Roaming\\Python\\Python312\\site-packages\\ipykernel\\kernelbase.py:1282\u001b[39m, in \u001b[36mKernel.raw_input\u001b[39m\u001b[34m(self, prompt)\u001b[39m\n\u001b[32m   1280\u001b[39m     msg = \u001b[33m\"\u001b[39m\u001b[33mraw_input was called, but this frontend does not support input requests.\u001b[39m\u001b[33m\"\u001b[39m\n\u001b[32m   1281\u001b[39m     \u001b[38;5;28;01mraise\u001b[39;00m StdinNotImplementedError(msg)\n\u001b[32m-> \u001b[39m\u001b[32m1282\u001b[39m \u001b[38;5;28;01mreturn\u001b[39;00m \u001b[38;5;28;43mself\u001b[39;49m\u001b[43m.\u001b[49m\u001b[43m_input_request\u001b[49m\u001b[43m(\u001b[49m\n\u001b[32m   1283\u001b[39m \u001b[43m    \u001b[49m\u001b[38;5;28;43mstr\u001b[39;49m\u001b[43m(\u001b[49m\u001b[43mprompt\u001b[49m\u001b[43m)\u001b[49m\u001b[43m,\u001b[49m\n\u001b[32m   1284\u001b[39m \u001b[43m    \u001b[49m\u001b[38;5;28;43mself\u001b[39;49m\u001b[43m.\u001b[49m\u001b[43m_parent_ident\u001b[49m\u001b[43m[\u001b[49m\u001b[33;43m\"\u001b[39;49m\u001b[33;43mshell\u001b[39;49m\u001b[33;43m\"\u001b[39;49m\u001b[43m]\u001b[49m\u001b[43m,\u001b[49m\n\u001b[32m   1285\u001b[39m \u001b[43m    \u001b[49m\u001b[38;5;28;43mself\u001b[39;49m\u001b[43m.\u001b[49m\u001b[43mget_parent\u001b[49m\u001b[43m(\u001b[49m\u001b[33;43m\"\u001b[39;49m\u001b[33;43mshell\u001b[39;49m\u001b[33;43m\"\u001b[39;49m\u001b[43m)\u001b[49m\u001b[43m,\u001b[49m\n\u001b[32m   1286\u001b[39m \u001b[43m    \u001b[49m\u001b[43mpassword\u001b[49m\u001b[43m=\u001b[49m\u001b[38;5;28;43;01mFalse\u001b[39;49;00m\u001b[43m,\u001b[49m\n\u001b[32m   1287\u001b[39m \u001b[43m\u001b[49m\u001b[43m)\u001b[49m\n",
      "\u001b[36mFile \u001b[39m\u001b[32m~\\AppData\\Roaming\\Python\\Python312\\site-packages\\ipykernel\\kernelbase.py:1325\u001b[39m, in \u001b[36mKernel._input_request\u001b[39m\u001b[34m(self, prompt, ident, parent, password)\u001b[39m\n\u001b[32m   1322\u001b[39m \u001b[38;5;28;01mexcept\u001b[39;00m \u001b[38;5;167;01mKeyboardInterrupt\u001b[39;00m:\n\u001b[32m   1323\u001b[39m     \u001b[38;5;66;03m# re-raise KeyboardInterrupt, to truncate traceback\u001b[39;00m\n\u001b[32m   1324\u001b[39m     msg = \u001b[33m\"\u001b[39m\u001b[33mInterrupted by user\u001b[39m\u001b[33m\"\u001b[39m\n\u001b[32m-> \u001b[39m\u001b[32m1325\u001b[39m     \u001b[38;5;28;01mraise\u001b[39;00m \u001b[38;5;167;01mKeyboardInterrupt\u001b[39;00m(msg) \u001b[38;5;28;01mfrom\u001b[39;00m\u001b[38;5;250m \u001b[39m\u001b[38;5;28;01mNone\u001b[39;00m\n\u001b[32m   1326\u001b[39m \u001b[38;5;28;01mexcept\u001b[39;00m \u001b[38;5;167;01mException\u001b[39;00m:\n\u001b[32m   1327\u001b[39m     \u001b[38;5;28mself\u001b[39m.log.warning(\u001b[33m\"\u001b[39m\u001b[33mInvalid Message:\u001b[39m\u001b[33m\"\u001b[39m, exc_info=\u001b[38;5;28;01mTrue\u001b[39;00m)\n",
      "\u001b[31mKeyboardInterrupt\u001b[39m: Interrupted by user"
     ]
    }
   ],
   "source": [
    "obj1.menu()"
   ]
  },
  {
   "cell_type": "code",
   "execution_count": 20,
   "id": "c5111e26-3d78-4ff3-81fb-b741b9c9472c",
   "metadata": {},
   "outputs": [],
   "source": [
    "class AtmMachine:\n",
    "    def __init__(self):\n",
    "        self.pin=''\n",
    "        self.balance=0\n",
    "    def menu(self):\n",
    "        userInput=input(\"\"\"\n",
    "        Hi! How can I help you?\n",
    "        1.Press 1 to create Pin\n",
    "        2.Press 2 to change Pin\n",
    "        3.Press 3 to check Balance\n",
    "        4.Press 4 to withdraw\n",
    "        5. Anything else to exit\n",
    "        \"\"\")\n",
    "        if userInput=='1':\n",
    "            self.create_pin()\n",
    "    def create_pin(self,user_pin,balance):\n",
    "        user_pin=input(\"Enter your Pin\")\n",
    "        self.pin=user_pin\n",
    "        user_balance=int(input(\"Enter your Balance\"))\n",
    "        print(\"Pin Created Succesfully\")\n",
    "        self.menu()"
   ]
  },
  {
   "cell_type": "code",
   "execution_count": 24,
   "id": "0f7ec40b-2b23-408b-812b-26666cbbffc1",
   "metadata": {},
   "outputs": [
    {
     "name": "stdout",
     "output_type": "stream",
     "text": [
      "1139.0\n"
     ]
    }
   ],
   "source": [
    "class Triangle:\n",
    "    def __init__(self,base1,height1):\n",
    "        self.base=base1\n",
    "        self.height=height1\n",
    "    def area(self):\n",
    "        area=(0.5)*(self.base)*(self.height)\n",
    "        return area\n",
    "areaOfTriangle1=Triangle(34,67)\n",
    "print(areaOfTriangle1.area())"
   ]
  },
  {
   "cell_type": "code",
   "execution_count": null,
   "id": "f9381729-6d30-4c62-b3d9-efe4ecbffd9e",
   "metadata": {},
   "outputs": [],
   "source": []
  }
 ],
 "metadata": {
  "kernelspec": {
   "display_name": "Python 3 (ipykernel)",
   "language": "python",
   "name": "python3"
  },
  "language_info": {
   "codemirror_mode": {
    "name": "ipython",
    "version": 3
   },
   "file_extension": ".py",
   "mimetype": "text/x-python",
   "name": "python",
   "nbconvert_exporter": "python",
   "pygments_lexer": "ipython3",
   "version": "3.12.3"
  },
  "widgets": {
   "application/vnd.jupyter.widget-state+json": {
    "state": {},
    "version_major": 2,
    "version_minor": 0
   }
  }
 },
 "nbformat": 4,
 "nbformat_minor": 5
}
