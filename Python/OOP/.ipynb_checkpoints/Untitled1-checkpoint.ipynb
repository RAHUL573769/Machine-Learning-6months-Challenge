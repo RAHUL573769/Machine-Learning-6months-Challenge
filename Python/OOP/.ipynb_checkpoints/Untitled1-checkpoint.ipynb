{
 "cells": [
  {
   "cell_type": "code",
   "execution_count": 1,
   "id": "44623f3a-3b9d-45d5-8504-f2d082697120",
   "metadata": {},
   "outputs": [],
   "source": [
    "class Student:\n",
    "    name=\"Rahul Kumar\"\n",
    "\n",
    "\n",
    "s1=Student()"
   ]
  },
  {
   "cell_type": "code",
   "execution_count": 2,
   "id": "9bc1408d-a059-47c9-95d0-6bc51c8d5842",
   "metadata": {},
   "outputs": [
    {
     "name": "stdout",
     "output_type": "stream",
     "text": [
      "Rahul Kumar\n"
     ]
    }
   ],
   "source": [
    "rahul=s1.name\n",
    "\n",
    "print(rahul)"
   ]
  },
  {
   "cell_type": "code",
   "execution_count": 12,
   "id": "ade4e82a-53f1-421e-9bdd-a8528def5aef",
   "metadata": {},
   "outputs": [
    {
     "name": "stdout",
     "output_type": "stream",
     "text": [
      "Hello World Rahul 45\n",
      "None\n"
     ]
    }
   ],
   "source": [
    "class Student:\n",
    "    college_name=\"ABC College\"\n",
    "    name=\"Rahul Kumar\"\n",
    "    def __init__(self,fullName,fullMarks):\n",
    "        self.name=fullName\n",
    "        self.marks=fullMarks\n",
    "    def hello(self):\n",
    "        print(\"Hello World\",  self.name,  self.marks)\n",
    "\n",
    "s1=Student(\"Rahul\",45)\n",
    "print(s1.hello())\n",
    "\n",
    "        "
   ]
  },
  {
   "cell_type": "code",
   "execution_count": null,
   "id": "f6ec8bc9-69bd-4769-ae3e-20e01de1ba87",
   "metadata": {},
   "outputs": [],
   "source": []
  },
  {
   "cell_type": "code",
   "execution_count": null,
   "id": "ceb1d631-d4f9-47d4-8298-331eab08c5c4",
   "metadata": {},
   "outputs": [],
   "source": []
  }
 ],
 "metadata": {
  "kernelspec": {
   "display_name": "Python 3 (ipykernel)",
   "language": "python",
   "name": "python3"
  },
  "language_info": {
   "codemirror_mode": {
    "name": "ipython",
    "version": 3
   },
   "file_extension": ".py",
   "mimetype": "text/x-python",
   "name": "python",
   "nbconvert_exporter": "python",
   "pygments_lexer": "ipython3",
   "version": "3.12.3"
  },
  "widgets": {
   "application/vnd.jupyter.widget-state+json": {
    "state": {},
    "version_major": 2,
    "version_minor": 0
   }
  }
 },
 "nbformat": 4,
 "nbformat_minor": 5
}
