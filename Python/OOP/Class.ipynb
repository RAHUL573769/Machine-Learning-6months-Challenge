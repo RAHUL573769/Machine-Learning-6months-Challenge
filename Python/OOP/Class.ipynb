{
 "cells": [
  {
   "cell_type": "code",
   "execution_count": 1,
   "id": "e118e9ce-0c0f-4347-b050-ec8e38183f0d",
   "metadata": {},
   "outputs": [
    {
     "data": {
      "text/plain": [
       "'Pikachu is of type Electric and of level Level -2'"
      ]
     },
     "execution_count": 1,
     "metadata": {},
     "output_type": "execute_result"
    }
   ],
   "source": [
    "class Pokemon:\n",
    "    def __init__(self,name,type1,level):\n",
    "        self.name=name\n",
    "        self.type1=type1\n",
    "        self.level=level\n",
    "    def actions(self):\n",
    "        return f\"{self.name} is of type {self.type1} and of level {self.level}\"\n",
    "pikachu=Pokemon(\"Pikachu\",\"Electric\",\"Level -2\")\n",
    "pikachu.actions()"
   ]
  },
  {
   "cell_type": "code",
   "execution_count": 3,
   "id": "4eea6ba9-dc59-437b-9090-728aaa2df185",
   "metadata": {},
   "outputs": [],
   "source": [
    "class Pokemon:\n",
    "    def __init__(self,name,type1,level):\n",
    "        self.name=name\n",
    "        self.type1=type1\n",
    "        self.level=level\n",
    "    def actions(self,eating_habits):\n",
    "        return f\"{self.name} is of type {self.type1} and of level {self.level} Eating Habitds {eating_habits}\"\n",
    "pikachu=Pokemon(\"Pikachu\",\"Electric\",\"Level -2\")\n"
   ]
  },
  {
   "cell_type": "code",
   "execution_count": 4,
   "id": "70a209b7-115c-447d-b6e3-22c34dc94517",
   "metadata": {},
   "outputs": [
    {
     "ename": "AttributeError",
     "evalue": "'Pokemon' object has no attribute 'eating_habits'",
     "output_type": "error",
     "traceback": [
      "\u001b[31m---------------------------------------------------------------------------\u001b[39m",
      "\u001b[31mAttributeError\u001b[39m                            Traceback (most recent call last)",
      "\u001b[36mCell\u001b[39m\u001b[36m \u001b[39m\u001b[32mIn[4]\u001b[39m\u001b[32m, line 1\u001b[39m\n\u001b[32m----> \u001b[39m\u001b[32m1\u001b[39m \u001b[43mpikachu\u001b[49m\u001b[43m.\u001b[49m\u001b[43mactions\u001b[49m\u001b[43m(\u001b[49m\u001b[33;43m\"\u001b[39;49m\u001b[33;43mgrass\u001b[39;49m\u001b[33;43m\"\u001b[39;49m\u001b[43m)\u001b[49m\n",
      "\u001b[36mCell\u001b[39m\u001b[36m \u001b[39m\u001b[32mIn[3]\u001b[39m\u001b[32m, line 7\u001b[39m, in \u001b[36mPokemon.actions\u001b[39m\u001b[34m(self, eating_habits)\u001b[39m\n\u001b[32m      6\u001b[39m \u001b[38;5;28;01mdef\u001b[39;00m\u001b[38;5;250m \u001b[39m\u001b[34mactions\u001b[39m(\u001b[38;5;28mself\u001b[39m,eating_habits):\n\u001b[32m----> \u001b[39m\u001b[32m7\u001b[39m     \u001b[38;5;28;01mreturn\u001b[39;00m \u001b[33mf\u001b[39m\u001b[33m\"\u001b[39m\u001b[38;5;132;01m{\u001b[39;00m\u001b[38;5;28mself\u001b[39m.name\u001b[38;5;132;01m}\u001b[39;00m\u001b[33m is of type \u001b[39m\u001b[38;5;132;01m{\u001b[39;00m\u001b[38;5;28mself\u001b[39m.type1\u001b[38;5;132;01m}\u001b[39;00m\u001b[33m and of level \u001b[39m\u001b[38;5;132;01m{\u001b[39;00m\u001b[38;5;28mself\u001b[39m.level\u001b[38;5;132;01m}\u001b[39;00m\u001b[33m Eating Habitds\u001b[39m\u001b[38;5;132;01m{\u001b[39;00m\u001b[38;5;28;43mself\u001b[39;49m\u001b[43m.\u001b[49m\u001b[43meating_habits\u001b[49m\u001b[38;5;132;01m}\u001b[39;00m\u001b[33m\"\u001b[39m\n",
      "\u001b[31mAttributeError\u001b[39m: 'Pokemon' object has no attribute 'eating_habits'"
     ]
    }
   ],
   "source": [
    "pikachu.actions(\"grass\")"
   ]
  },
  {
   "cell_type": "code",
   "execution_count": 6,
   "id": "9add8e99-75ab-4d3e-be7f-c24ea21c78c5",
   "metadata": {},
   "outputs": [
    {
     "ename": "IndentationError",
     "evalue": "unindent does not match any outer indentation level (<string>, line 10)",
     "output_type": "error",
     "traceback": [
      "  \u001b[36mFile \u001b[39m\u001b[32m<string>:10\u001b[39m\n\u001b[31m    \u001b[39m\u001b[31m@classmethod\u001b[39m\n                ^\n\u001b[31mIndentationError\u001b[39m\u001b[31m:\u001b[39m unindent does not match any outer indentation level\n"
     ]
    }
   ],
   "source": [
    "class Pokemon:\n",
    "    class_attribute = \"I am a class attribute\"\n",
    "    def __init__(self, name, type1, level):\n",
    "        self.name = name\n",
    "        self.type1 = type1\n",
    "        self.level = level\n",
    "\n",
    "    def actions(self, eating_habits):\n",
    "        return f\"{self.name} is of type {self.type1} and of level {self.level}. Eating Habits: {eating_habits}\"\n",
    "     @classmethod\n",
    "    def print_class_attribute(cls):\n",
    "        print(f\"From class method: {cls.class_attribute}\")\n",
    "\n",
    "    @classmethod\n",
    "    def change_class_attribute(cls, new_value):\n",
    "        cls.class_attribute = new_value\n",
    "# Calling class method on the class\n",
    "MyClass.print_class_attribute()\n",
    "\n",
    "# Calling class method on an instance (less common for class-level operations)\n",
    "obj = MyClass(\"instance data\")\n",
    "obj.print_class_attribute()\n",
    "\n",
    "# Modifying a class attribute using a class method\n",
    "MyClass.change_class_attribute(\"New class attribute value\")\n",
    "MyClass.print_class_attribute()\n",
    "pikachu = Pokemon(\"Pikachu\", \"Electric\", \"Level -2\")\n",
    "print(pikachu.actions(\"Likes berries\"))\n"
   ]
  },
  {
   "cell_type": "code",
   "execution_count": null,
   "id": "f65ee661-323f-438f-b799-878b8b502c4d",
   "metadata": {},
   "outputs": [],
   "source": [
    "class AreaCalculation:\n",
    "    pi \"3.1416\"\n",
    "     def menu(self):\n",
    "    user_input=int((\"\"\"\n",
    "    1. Press 1 to find the Area of a Circle.\n",
    "    2. Press 2 to find the area of a Triangle.\n",
    "    3. Press 3 to find the area of a rectangle\n",
    "    \"\"\")\n",
    "    if user_input==1:\n",
    "                   self.calculate_area_circle()\n",
    "                   \n",
    "                   \n",
    "                   \n",
    "                   \n",
    "\n",
    "        "
   ]
  },
  {
   "cell_type": "code",
   "execution_count": 13,
   "id": "28860381-674a-4509-9dd6-862b624f0eac",
   "metadata": {},
   "outputs": [
    {
     "ename": "RecursionError",
     "evalue": "maximum recursion depth exceeded",
     "output_type": "error",
     "traceback": [
      "\u001b[31m---------------------------------------------------------------------------\u001b[39m",
      "\u001b[31mRecursionError\u001b[39m                            Traceback (most recent call last)",
      "\u001b[36mCell\u001b[39m\u001b[36m \u001b[39m\u001b[32mIn[13]\u001b[39m\u001b[32m, line 19\u001b[39m\n\u001b[32m     16\u001b[39m         \u001b[38;5;28mself\u001b[39m.menu()\n\u001b[32m     18\u001b[39m \u001b[38;5;28mobject\u001b[39m=AreaCalculation(\u001b[32m1\u001b[39m,\u001b[32m2\u001b[39m,\u001b[32m3\u001b[39m)\n\u001b[32m---> \u001b[39m\u001b[32m19\u001b[39m \u001b[38;5;28;43mobject\u001b[39;49m\u001b[43m.\u001b[49m\u001b[43mmenu\u001b[49m\u001b[43m(\u001b[49m\u001b[43m)\u001b[49m\n",
      "\u001b[36mCell\u001b[39m\u001b[36m \u001b[39m\u001b[32mIn[13]\u001b[39m\u001b[32m, line 16\u001b[39m, in \u001b[36mAreaCalculation.menu\u001b[39m\u001b[34m(self)\u001b[39m\n\u001b[32m     14\u001b[39m \u001b[38;5;28;01mif\u001b[39;00m(user_input==\u001b[32m1\u001b[39m):\n\u001b[32m     15\u001b[39m     \u001b[38;5;28mprint\u001b[39m(\u001b[33m\"\u001b[39m\u001b[33mhello\u001b[39m\u001b[33m\"\u001b[39m)\n\u001b[32m---> \u001b[39m\u001b[32m16\u001b[39m \u001b[38;5;28;43mself\u001b[39;49m\u001b[43m.\u001b[49m\u001b[43mmenu\u001b[49m\u001b[43m(\u001b[49m\u001b[43m)\u001b[49m\n",
      "\u001b[36mCell\u001b[39m\u001b[36m \u001b[39m\u001b[32mIn[13]\u001b[39m\u001b[32m, line 16\u001b[39m, in \u001b[36mAreaCalculation.menu\u001b[39m\u001b[34m(self)\u001b[39m\n\u001b[32m     14\u001b[39m \u001b[38;5;28;01mif\u001b[39;00m(user_input==\u001b[32m1\u001b[39m):\n\u001b[32m     15\u001b[39m     \u001b[38;5;28mprint\u001b[39m(\u001b[33m\"\u001b[39m\u001b[33mhello\u001b[39m\u001b[33m\"\u001b[39m)\n\u001b[32m---> \u001b[39m\u001b[32m16\u001b[39m \u001b[38;5;28;43mself\u001b[39;49m\u001b[43m.\u001b[49m\u001b[43mmenu\u001b[49m\u001b[43m(\u001b[49m\u001b[43m)\u001b[49m\n",
      "    \u001b[31m[... skipping similar frames: AreaCalculation.menu at line 16 (2974 times)]\u001b[39m\n",
      "\u001b[36mCell\u001b[39m\u001b[36m \u001b[39m\u001b[32mIn[13]\u001b[39m\u001b[32m, line 16\u001b[39m, in \u001b[36mAreaCalculation.menu\u001b[39m\u001b[34m(self)\u001b[39m\n\u001b[32m     14\u001b[39m \u001b[38;5;28;01mif\u001b[39;00m(user_input==\u001b[32m1\u001b[39m):\n\u001b[32m     15\u001b[39m     \u001b[38;5;28mprint\u001b[39m(\u001b[33m\"\u001b[39m\u001b[33mhello\u001b[39m\u001b[33m\"\u001b[39m)\n\u001b[32m---> \u001b[39m\u001b[32m16\u001b[39m \u001b[38;5;28;43mself\u001b[39;49m\u001b[43m.\u001b[49m\u001b[43mmenu\u001b[49m\u001b[43m(\u001b[49m\u001b[43m)\u001b[49m\n",
      "\u001b[31mRecursionError\u001b[39m: maximum recursion depth exceeded"
     ]
    }
   ],
   "source": [
    "class AreaCalculation:\n",
    "    pi = 3.1416\n",
    "    def __init__(self,length1,length2,radius):\n",
    "        self.length1=length1\n",
    "        self.length2=length2\n",
    "        self.radius=radius\n",
    "    def menu(self):\n",
    "        user_input=(\"\"\"\n",
    "        1. Press 1 to find the Area of a Circle.\n",
    "        2. Press 2 to find the area of a Triangle.\n",
    "        3. Press \n",
    "        3 to find the area of a rectangle\n",
    "        \"\"\")\n",
    "        if(user_input==1):\n",
    "            print(\"hello\")\n",
    "        self.menu()\n",
    "\n",
    "object=AreaCalculation(1,2,3)\n",
    "object.menu()\n",
    "    "
   ]
  },
  {
   "cell_type": "code",
   "execution_count": 14,
   "id": "66d1900e-175b-4f66-8e01-63ea0794b640",
   "metadata": {},
   "outputs": [
    {
     "name": "stdout",
     "output_type": "stream",
     "text": [
      "\n",
      "1. Press 1 to find the Area of a Circle.\n",
      "2. Press 2 to find the Area of a Triangle.\n",
      "3. Press 3 to find the Area of a Rectangle.\n",
      "0. Press 0 to Exit.\n",
      "\n"
     ]
    },
    {
     "name": "stdin",
     "output_type": "stream",
     "text": [
      "Enter your choice:  1\n"
     ]
    },
    {
     "name": "stdout",
     "output_type": "stream",
     "text": [
      "Area of Circle: 28.2744\n",
      "\n",
      "1. Press 1 to find the Area of a Circle.\n",
      "2. Press 2 to find the Area of a Triangle.\n",
      "3. Press 3 to find the Area of a Rectangle.\n",
      "0. Press 0 to Exit.\n",
      "\n"
     ]
    },
    {
     "name": "stdin",
     "output_type": "stream",
     "text": [
      "Enter your choice:  0\n"
     ]
    },
    {
     "name": "stdout",
     "output_type": "stream",
     "text": [
      "Goodbye!\n"
     ]
    }
   ],
   "source": [
    "class AreaCalculation:\n",
    "    pi = 3.1416\n",
    "\n",
    "    def __init__(self, length1, length2, radius):\n",
    "        self.length1 = length1\n",
    "        self.length2 = length2\n",
    "        self.radius = radius\n",
    "\n",
    "    def menu(self):\n",
    "        while True:\n",
    "            print(\"\"\"\n",
    "1. Press 1 to find the Area of a Circle.\n",
    "2. Press 2 to find the Area of a Triangle.\n",
    "3. Press 3 to find the Area of a Rectangle.\n",
    "0. Press 0 to Exit.\n",
    "\"\"\")\n",
    "            user_input = int(input(\"Enter your choice: \"))\n",
    "\n",
    "            if user_input == 1:\n",
    "                area = AreaCalculation.pi * self.radius ** 2\n",
    "                print(f\"Area of Circle: {area}\")\n",
    "            elif user_input == 2:\n",
    "                area = 0.5 * self.length1 * self.length2\n",
    "                print(f\"Area of Triangle: {area}\")\n",
    "            elif user_input == 3:\n",
    "                area = self.length1 * self.length2\n",
    "                print(f\"Area of Rectangle: {area}\")\n",
    "            elif user_input == 0:\n",
    "                print(\"Goodbye!\")\n",
    "                break\n",
    "            else:\n",
    "                print(\"Invalid choice, try again.\")\n",
    "\n",
    "obj = AreaCalculation(1, 2, 3)\n",
    "obj.menu()\n"
   ]
  },
  {
   "cell_type": "code",
   "execution_count": null,
   "id": "a4726b23-9a45-4a23-b021-1919b38a2cd9",
   "metadata": {},
   "outputs": [],
   "source": []
  }
 ],
 "metadata": {
  "kernelspec": {
   "display_name": "Python 3 (ipykernel)",
   "language": "python",
   "name": "python3"
  },
  "language_info": {
   "codemirror_mode": {
    "name": "ipython",
    "version": 3
   },
   "file_extension": ".py",
   "mimetype": "text/x-python",
   "name": "python",
   "nbconvert_exporter": "python",
   "pygments_lexer": "ipython3",
   "version": "3.12.3"
  },
  "widgets": {
   "application/vnd.jupyter.widget-state+json": {
    "state": {},
    "version_major": 2,
    "version_minor": 0
   }
  }
 },
 "nbformat": 4,
 "nbformat_minor": 5
}
