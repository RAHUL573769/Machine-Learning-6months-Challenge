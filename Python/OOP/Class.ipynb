{
 "cells": [
  {
   "cell_type": "code",
   "execution_count": 1,
   "id": "e118e9ce-0c0f-4347-b050-ec8e38183f0d",
   "metadata": {},
   "outputs": [
    {
     "data": {
      "text/plain": [
       "'Pikachu is of type Electric and of level Level -2'"
      ]
     },
     "execution_count": 1,
     "metadata": {},
     "output_type": "execute_result"
    }
   ],
   "source": [
    "class Pokemon:\n",
    "    def __init__(self,name,type1,level):\n",
    "        self.name=name\n",
    "        self.type1=type1\n",
    "        self.level=level\n",
    "    def actions(self):\n",
    "        return f\"{self.name} is of type {self.type1} and of level {self.level}\"\n",
    "pikachu=Pokemon(\"Pikachu\",\"Electric\",\"Level -2\")\n",
    "pikachu.actions()"
   ]
  },
  {
   "cell_type": "code",
   "execution_count": 3,
   "id": "4eea6ba9-dc59-437b-9090-728aaa2df185",
   "metadata": {},
   "outputs": [],
   "source": [
    "class Pokemon:\n",
    "    def __init__(self,name,type1,level):\n",
    "        self.name=name\n",
    "        self.type1=type1\n",
    "        self.level=level\n",
    "    def actions(self,eating_habits):\n",
    "        return f\"{self.name} is of type {self.type1} and of level {self.level} Eating Habitds {eating_habits}\"\n",
    "pikachu=Pokemon(\"Pikachu\",\"Electric\",\"Level -2\")\n"
   ]
  },
  {
   "cell_type": "code",
   "execution_count": 4,
   "id": "70a209b7-115c-447d-b6e3-22c34dc94517",
   "metadata": {},
   "outputs": [
    {
     "ename": "AttributeError",
     "evalue": "'Pokemon' object has no attribute 'eating_habits'",
     "output_type": "error",
     "traceback": [
      "\u001b[31m---------------------------------------------------------------------------\u001b[39m",
      "\u001b[31mAttributeError\u001b[39m                            Traceback (most recent call last)",
      "\u001b[36mCell\u001b[39m\u001b[36m \u001b[39m\u001b[32mIn[4]\u001b[39m\u001b[32m, line 1\u001b[39m\n\u001b[32m----> \u001b[39m\u001b[32m1\u001b[39m \u001b[43mpikachu\u001b[49m\u001b[43m.\u001b[49m\u001b[43mactions\u001b[49m\u001b[43m(\u001b[49m\u001b[33;43m\"\u001b[39;49m\u001b[33;43mgrass\u001b[39;49m\u001b[33;43m\"\u001b[39;49m\u001b[43m)\u001b[49m\n",
      "\u001b[36mCell\u001b[39m\u001b[36m \u001b[39m\u001b[32mIn[3]\u001b[39m\u001b[32m, line 7\u001b[39m, in \u001b[36mPokemon.actions\u001b[39m\u001b[34m(self, eating_habits)\u001b[39m\n\u001b[32m      6\u001b[39m \u001b[38;5;28;01mdef\u001b[39;00m\u001b[38;5;250m \u001b[39m\u001b[34mactions\u001b[39m(\u001b[38;5;28mself\u001b[39m,eating_habits):\n\u001b[32m----> \u001b[39m\u001b[32m7\u001b[39m     \u001b[38;5;28;01mreturn\u001b[39;00m \u001b[33mf\u001b[39m\u001b[33m\"\u001b[39m\u001b[38;5;132;01m{\u001b[39;00m\u001b[38;5;28mself\u001b[39m.name\u001b[38;5;132;01m}\u001b[39;00m\u001b[33m is of type \u001b[39m\u001b[38;5;132;01m{\u001b[39;00m\u001b[38;5;28mself\u001b[39m.type1\u001b[38;5;132;01m}\u001b[39;00m\u001b[33m and of level \u001b[39m\u001b[38;5;132;01m{\u001b[39;00m\u001b[38;5;28mself\u001b[39m.level\u001b[38;5;132;01m}\u001b[39;00m\u001b[33m Eating Habitds\u001b[39m\u001b[38;5;132;01m{\u001b[39;00m\u001b[38;5;28;43mself\u001b[39;49m\u001b[43m.\u001b[49m\u001b[43meating_habits\u001b[49m\u001b[38;5;132;01m}\u001b[39;00m\u001b[33m\"\u001b[39m\n",
      "\u001b[31mAttributeError\u001b[39m: 'Pokemon' object has no attribute 'eating_habits'"
     ]
    }
   ],
   "source": [
    "pikachu.actions(\"grass\")"
   ]
  },
  {
   "cell_type": "code",
   "execution_count": 6,
   "id": "9add8e99-75ab-4d3e-be7f-c24ea21c78c5",
   "metadata": {},
   "outputs": [
    {
     "ename": "IndentationError",
     "evalue": "unindent does not match any outer indentation level (<string>, line 10)",
     "output_type": "error",
     "traceback": [
      "  \u001b[36mFile \u001b[39m\u001b[32m<string>:10\u001b[39m\n\u001b[31m    \u001b[39m\u001b[31m@classmethod\u001b[39m\n                ^\n\u001b[31mIndentationError\u001b[39m\u001b[31m:\u001b[39m unindent does not match any outer indentation level\n"
     ]
    }
   ],
   "source": [
    "class Pokemon:\n",
    "    class_attribute = \"I am a class attribute\"\n",
    "    def __init__(self, name, type1, level):\n",
    "        self.name = name\n",
    "        self.type1 = type1\n",
    "        self.level = level\n",
    "\n",
    "    def actions(self, eating_habits):\n",
    "        return f\"{self.name} is of type {self.type1} and of level {self.level}. Eating Habits: {eating_habits}\"\n",
    "     @classmethod\n",
    "    def print_class_attribute(cls):\n",
    "        print(f\"From class method: {cls.class_attribute}\")\n",
    "\n",
    "    @classmethod\n",
    "    def change_class_attribute(cls, new_value):\n",
    "        cls.class_attribute = new_value\n",
    "# Calling class method on the class\n",
    "MyClass.print_class_attribute()\n",
    "\n",
    "# Calling class method on an instance (less common for class-level operations)\n",
    "obj = MyClass(\"instance data\")\n",
    "obj.print_class_attribute()\n",
    "\n",
    "# Modifying a class attribute using a class method\n",
    "MyClass.change_class_attribute(\"New class attribute value\")\n",
    "MyClass.print_class_attribute()\n",
    "pikachu = Pokemon(\"Pikachu\", \"Electric\", \"Level -2\")\n",
    "print(pikachu.actions(\"Likes berries\"))\n"
   ]
  },
  {
   "cell_type": "code",
   "execution_count": null,
   "id": "f65ee661-323f-438f-b799-878b8b502c4d",
   "metadata": {},
   "outputs": [],
   "source": [
    "class AreaCalculation:\n",
    "    pi \"3.1416\"\n",
    "     def menu(self):\n",
    "    user_input=int((\"\"\"\n",
    "    1. Press 1 to find the Area of a Circle.\n",
    "    2. Press 2 to find the area of a Triangle.\n",
    "    3. Press 3 to find the area of a rectangle\n",
    "    \"\"\")\n",
    "    if user_input==1:\n",
    "                   self.calculate_area_circle()\n",
    "                   \n",
    "                   \n",
    "                   \n",
    "                   \n",
    "\n",
    "        "
   ]
  },
  {
   "cell_type": "code",
   "execution_count": 13,
   "id": "28860381-674a-4509-9dd6-862b624f0eac",
   "metadata": {},
   "outputs": [
    {
     "ename": "RecursionError",
     "evalue": "maximum recursion depth exceeded",
     "output_type": "error",
     "traceback": [
      "\u001b[31m---------------------------------------------------------------------------\u001b[39m",
      "\u001b[31mRecursionError\u001b[39m                            Traceback (most recent call last)",
      "\u001b[36mCell\u001b[39m\u001b[36m \u001b[39m\u001b[32mIn[13]\u001b[39m\u001b[32m, line 19\u001b[39m\n\u001b[32m     16\u001b[39m         \u001b[38;5;28mself\u001b[39m.menu()\n\u001b[32m     18\u001b[39m \u001b[38;5;28mobject\u001b[39m=AreaCalculation(\u001b[32m1\u001b[39m,\u001b[32m2\u001b[39m,\u001b[32m3\u001b[39m)\n\u001b[32m---> \u001b[39m\u001b[32m19\u001b[39m \u001b[38;5;28;43mobject\u001b[39;49m\u001b[43m.\u001b[49m\u001b[43mmenu\u001b[49m\u001b[43m(\u001b[49m\u001b[43m)\u001b[49m\n",
      "\u001b[36mCell\u001b[39m\u001b[36m \u001b[39m\u001b[32mIn[13]\u001b[39m\u001b[32m, line 16\u001b[39m, in \u001b[36mAreaCalculation.menu\u001b[39m\u001b[34m(self)\u001b[39m\n\u001b[32m     14\u001b[39m \u001b[38;5;28;01mif\u001b[39;00m(user_input==\u001b[32m1\u001b[39m):\n\u001b[32m     15\u001b[39m     \u001b[38;5;28mprint\u001b[39m(\u001b[33m\"\u001b[39m\u001b[33mhello\u001b[39m\u001b[33m\"\u001b[39m)\n\u001b[32m---> \u001b[39m\u001b[32m16\u001b[39m \u001b[38;5;28;43mself\u001b[39;49m\u001b[43m.\u001b[49m\u001b[43mmenu\u001b[49m\u001b[43m(\u001b[49m\u001b[43m)\u001b[49m\n",
      "\u001b[36mCell\u001b[39m\u001b[36m \u001b[39m\u001b[32mIn[13]\u001b[39m\u001b[32m, line 16\u001b[39m, in \u001b[36mAreaCalculation.menu\u001b[39m\u001b[34m(self)\u001b[39m\n\u001b[32m     14\u001b[39m \u001b[38;5;28;01mif\u001b[39;00m(user_input==\u001b[32m1\u001b[39m):\n\u001b[32m     15\u001b[39m     \u001b[38;5;28mprint\u001b[39m(\u001b[33m\"\u001b[39m\u001b[33mhello\u001b[39m\u001b[33m\"\u001b[39m)\n\u001b[32m---> \u001b[39m\u001b[32m16\u001b[39m \u001b[38;5;28;43mself\u001b[39;49m\u001b[43m.\u001b[49m\u001b[43mmenu\u001b[49m\u001b[43m(\u001b[49m\u001b[43m)\u001b[49m\n",
      "    \u001b[31m[... skipping similar frames: AreaCalculation.menu at line 16 (2974 times)]\u001b[39m\n",
      "\u001b[36mCell\u001b[39m\u001b[36m \u001b[39m\u001b[32mIn[13]\u001b[39m\u001b[32m, line 16\u001b[39m, in \u001b[36mAreaCalculation.menu\u001b[39m\u001b[34m(self)\u001b[39m\n\u001b[32m     14\u001b[39m \u001b[38;5;28;01mif\u001b[39;00m(user_input==\u001b[32m1\u001b[39m):\n\u001b[32m     15\u001b[39m     \u001b[38;5;28mprint\u001b[39m(\u001b[33m\"\u001b[39m\u001b[33mhello\u001b[39m\u001b[33m\"\u001b[39m)\n\u001b[32m---> \u001b[39m\u001b[32m16\u001b[39m \u001b[38;5;28;43mself\u001b[39;49m\u001b[43m.\u001b[49m\u001b[43mmenu\u001b[49m\u001b[43m(\u001b[49m\u001b[43m)\u001b[49m\n",
      "\u001b[31mRecursionError\u001b[39m: maximum recursion depth exceeded"
     ]
    }
   ],
   "source": [
    "class AreaCalculation:\n",
    "    pi = 3.1416\n",
    "    def __init__(self,length1,length2,radius):\n",
    "        self.length1=length1\n",
    "        self.length2=length2\n",
    "        self.radius=radius\n",
    "    def menu(self):\n",
    "        user_input=(\"\"\"\n",
    "        1. Press 1 to find the Area of a Circle.\n",
    "        2. Press 2 to find the area of a Triangle.\n",
    "        3. Press \n",
    "        3 to find the area of a rectangle\n",
    "        \"\"\")\n",
    "        if(user_input==1):\n",
    "            print(\"hello\")\n",
    "        self.menu()\n",
    "\n",
    "object=AreaCalculation(1,2,3)\n",
    "object.menu()\n",
    "    "
   ]
  },
  {
   "cell_type": "code",
   "execution_count": 16,
   "id": "66d1900e-175b-4f66-8e01-63ea0794b640",
   "metadata": {},
   "outputs": [
    {
     "name": "stdout",
     "output_type": "stream",
     "text": [
      "\n",
      "1. Press 1 to find the Area of a Circle.\n",
      "2. Press 2 to find the Area of a Triangle.\n",
      "3. Press 3 to find the Area of a Rectangle.\n",
      "0. Press 0 to Exit.\n",
      "\n",
      "\n"
     ]
    },
    {
     "name": "stdin",
     "output_type": "stream",
     "text": [
      "Enter your choice:  2\n"
     ]
    },
    {
     "name": "stdout",
     "output_type": "stream",
     "text": [
      "Area of Triangle: 1.0\n",
      "\n",
      "1. Press 1 to find the Area of a Circle.\n",
      "2. Press 2 to find the Area of a Triangle.\n",
      "3. Press 3 to find the Area of a Rectangle.\n",
      "0. Press 0 to Exit.\n",
      "\n",
      "\n"
     ]
    },
    {
     "name": "stdin",
     "output_type": "stream",
     "text": [
      "Enter your choice:  0\n"
     ]
    },
    {
     "name": "stdout",
     "output_type": "stream",
     "text": [
      "Goodbye!\n"
     ]
    }
   ],
   "source": [
    "class AreaCalculation:\n",
    "    pi = 3.1416\n",
    "\n",
    "    def __init__(self, length1, length2, radius):\n",
    "        self.length1 = length1\n",
    "        self.length2 = length2\n",
    "        self.radius = radius\n",
    "\n",
    "    def menu(self):\n",
    "        while True:\n",
    "            print(\"\"\"\n",
    "1. Press 1 to find the Area of a Circle.\n",
    "2. Press 2 to find the Area of a Triangle.\n",
    "3. Press 3 to find the Area of a Rectangle.\n",
    "0. Press 0 to Exit.\n",
    "\n",
    "\"\"\")\n",
    "            \n",
    "            user_input = int(input(\"Enter your choice: \"))\n",
    "\n",
    "            if user_input == 1:\n",
    "                area = AreaCalculation.pi * self.radius ** 2\n",
    "                print(f\"Area of Circle: {area}\")\n",
    "            elif user_input == 2:\n",
    "                area = 0.5 * self.length1 * self.length2\n",
    "                print(f\"Area of Triangle: {area}\")\n",
    "            elif user_input == 3:\n",
    "                area = self.length1 * self.length2\n",
    "                print(f\"Area of Rectangle: {area}\")\n",
    "            elif user_input == 0:\n",
    "                print(\"Goodbye!\")\n",
    "                break\n",
    "            else:\n",
    "                print(\"Invalid choice, try again.\")\n",
    "\n",
    "obj = AreaCalculation(1, 2, 3)\n",
    "obj.menu()\n"
   ]
  },
  {
   "cell_type": "code",
   "execution_count": 20,
   "id": "a4726b23-9a45-4a23-b021-1919b38a2cd9",
   "metadata": {},
   "outputs": [
    {
     "name": "stdout",
     "output_type": "stream",
     "text": [
      "\n",
      "1. Press 1 to find the Area of a Circle.\n",
      "2. Press 2 to find the Area of a Triangle.\n",
      "3. Press 3 to find the Area of a Rectangle.\n",
      "0. Press 0 to Exit.\n",
      "\n",
      "\n"
     ]
    },
    {
     "name": "stdin",
     "output_type": "stream",
     "text": [
      "Enter your choice:  1\n"
     ]
    },
    {
     "ename": "AttributeError",
     "evalue": "type object 'AreaCalculation' has no attribute 'self'",
     "output_type": "error",
     "traceback": [
      "\u001b[31m---------------------------------------------------------------------------\u001b[39m",
      "\u001b[31mAttributeError\u001b[39m                            Traceback (most recent call last)",
      "\u001b[36mCell\u001b[39m\u001b[36m \u001b[39m\u001b[32mIn[20]\u001b[39m\u001b[32m, line 44\u001b[39m\n\u001b[32m     38\u001b[39m         \u001b[38;5;28mprint\u001b[39m(\u001b[33mf\u001b[39m\u001b[33m\"\u001b[39m\u001b[33mArea of Circle: \u001b[39m\u001b[38;5;132;01m{\u001b[39;00marea\u001b[38;5;132;01m}\u001b[39;00m\u001b[33m\"\u001b[39m)\n\u001b[32m     43\u001b[39m obj = AreaCalculation()\n\u001b[32m---> \u001b[39m\u001b[32m44\u001b[39m \u001b[43mobj\u001b[49m\u001b[43m.\u001b[49m\u001b[43mmenu\u001b[49m\u001b[43m(\u001b[49m\u001b[43m)\u001b[49m\n",
      "\u001b[36mCell\u001b[39m\u001b[36m \u001b[39m\u001b[32mIn[20]\u001b[39m\u001b[32m, line 23\u001b[39m, in \u001b[36mAreaCalculation.menu\u001b[39m\u001b[34m(self)\u001b[39m\n\u001b[32m     20\u001b[39m user_input = \u001b[38;5;28mint\u001b[39m(\u001b[38;5;28minput\u001b[39m(\u001b[33m\"\u001b[39m\u001b[33mEnter your choice: \u001b[39m\u001b[33m\"\u001b[39m))\n\u001b[32m     22\u001b[39m \u001b[38;5;28;01mif\u001b[39;00m user_input == \u001b[32m1\u001b[39m:\n\u001b[32m---> \u001b[39m\u001b[32m23\u001b[39m     \u001b[38;5;28;43mself\u001b[39;49m\u001b[43m.\u001b[49m\u001b[43mcalculate_area_circle\u001b[49m\u001b[43m(\u001b[49m\u001b[43m)\u001b[49m\n",
      "\u001b[36mCell\u001b[39m\u001b[36m \u001b[39m\u001b[32mIn[20]\u001b[39m\u001b[32m, line 37\u001b[39m, in \u001b[36mAreaCalculation.calculate_area_circle\u001b[39m\u001b[34m(self)\u001b[39m\n\u001b[32m     36\u001b[39m \u001b[38;5;28;01mdef\u001b[39;00m\u001b[38;5;250m \u001b[39m\u001b[34mcalculate_area_circle\u001b[39m(\u001b[38;5;28mself\u001b[39m):\n\u001b[32m---> \u001b[39m\u001b[32m37\u001b[39m     \u001b[38;5;28mself\u001b[39m.area = \u001b[43mAreaCalculation\u001b[49m\u001b[43m.\u001b[49m\u001b[43mself\u001b[49m.pi * \u001b[38;5;28mself\u001b[39m.radius ** \u001b[32m2\u001b[39m\n\u001b[32m     38\u001b[39m     \u001b[38;5;28mprint\u001b[39m(\u001b[33mf\u001b[39m\u001b[33m\"\u001b[39m\u001b[33mArea of Circle: \u001b[39m\u001b[38;5;132;01m{\u001b[39;00marea\u001b[38;5;132;01m}\u001b[39;00m\u001b[33m\"\u001b[39m)\n",
      "\u001b[31mAttributeError\u001b[39m: type object 'AreaCalculation' has no attribute 'self'"
     ]
    }
   ],
   "source": [
    "class AreaCalculation:\n",
    "    \n",
    "    pi = 3.1416\n",
    "\n",
    "    def __init__(self):\n",
    "        self.length1 = \"\"\n",
    "        self.length2 = \"\"\n",
    "        self.radius = \"\"\n",
    "        self.area=\"\"\n",
    "    def menu(self):\n",
    "        while True:\n",
    "            print(\"\"\"\n",
    "1. Press 1 to find the Area of a Circle.\n",
    "2. Press 2 to find the Area of a Triangle.\n",
    "3. Press 3 to find the Area of a Rectangle.\n",
    "0. Press 0 to Exit.\n",
    "\n",
    "\"\"\")\n",
    "            \n",
    "            user_input = int(input(\"Enter your choice: \"))\n",
    "\n",
    "            if user_input == 1:\n",
    "                self.calculate_area_circle()\n",
    "            # elif user_input == 2:\n",
    "            #     area = 0.5 * self.length1 * self.length2\n",
    "            #     print(f\"Area of Triangle: {area}\")\n",
    "            # elif user_input == 3:\n",
    "            #     area = self.length1 * self.length2\n",
    "            #     print(f\"Area of Rectangle: {area}\")\n",
    "            # elif user_input == 0:\n",
    "            #     print(\"Goodbye!\")\n",
    "            #     break\n",
    "            # else:\n",
    "            #     print(\"Invalid choice, try again.\")\n",
    "                \n",
    "    def calculate_area_circle(self):\n",
    "        self.area = AreaCalculation.self.pi * self.radius ** 2\n",
    "        print(f\"Area of Circle: {area}\")\n",
    "        \n",
    "                \n",
    "        \n",
    "\n",
    "obj = AreaCalculation()\n",
    "obj.menu()\n"
   ]
  },
  {
   "cell_type": "code",
   "execution_count": 21,
   "id": "27564a5a-0984-4e32-b84e-032ec2a14ed7",
   "metadata": {},
   "outputs": [
    {
     "name": "stdout",
     "output_type": "stream",
     "text": [
      "\n",
      "1. Press 1 to find the Area of a Circle.\n",
      "2. Press 2 to find the Area of a Triangle.\n",
      "3. Press 3 to find the Area of a Rectangle.\n",
      "0. Press 0 to Exit.\n",
      "\n"
     ]
    },
    {
     "name": "stdin",
     "output_type": "stream",
     "text": [
      "Enter your choice:  1\n",
      "Enter radius:  1\n"
     ]
    },
    {
     "name": "stdout",
     "output_type": "stream",
     "text": [
      "Area of Circle: 3.1416\n",
      "\n",
      "1. Press 1 to find the Area of a Circle.\n",
      "2. Press 2 to find the Area of a Triangle.\n",
      "3. Press 3 to find the Area of a Rectangle.\n",
      "0. Press 0 to Exit.\n",
      "\n"
     ]
    },
    {
     "ename": "KeyboardInterrupt",
     "evalue": "Interrupted by user",
     "output_type": "error",
     "traceback": [
      "\u001b[31m---------------------------------------------------------------------------\u001b[39m",
      "\u001b[31mKeyboardInterrupt\u001b[39m                         Traceback (most recent call last)",
      "\u001b[36mCell\u001b[39m\u001b[36m \u001b[39m\u001b[32mIn[21]\u001b[39m\u001b[32m, line 35\u001b[39m\n\u001b[32m     32\u001b[39m         \u001b[38;5;28mprint\u001b[39m(\u001b[33mf\u001b[39m\u001b[33m\"\u001b[39m\u001b[33mArea of Circle: \u001b[39m\u001b[38;5;132;01m{\u001b[39;00m\u001b[38;5;28mself\u001b[39m.area\u001b[38;5;132;01m}\u001b[39;00m\u001b[33m\"\u001b[39m)\n\u001b[32m     34\u001b[39m obj = AreaCalculation()\n\u001b[32m---> \u001b[39m\u001b[32m35\u001b[39m \u001b[43mobj\u001b[49m\u001b[43m.\u001b[49m\u001b[43mmenu\u001b[49m\u001b[43m(\u001b[49m\u001b[43m)\u001b[49m\n",
      "\u001b[36mCell\u001b[39m\u001b[36m \u001b[39m\u001b[32mIn[21]\u001b[39m\u001b[32m, line 19\u001b[39m, in \u001b[36mAreaCalculation.menu\u001b[39m\u001b[34m(self)\u001b[39m\n\u001b[32m     11\u001b[39m         \u001b[38;5;28;01mwhile\u001b[39;00m \u001b[38;5;28;01mTrue\u001b[39;00m:\n\u001b[32m     12\u001b[39m             \u001b[38;5;28mprint\u001b[39m(\u001b[33m\"\"\"\u001b[39m\n\u001b[32m     13\u001b[39m \u001b[33m1. Press 1 to find the Area of a Circle.\u001b[39m\n\u001b[32m     14\u001b[39m \u001b[33m2. Press 2 to find the Area of a Triangle.\u001b[39m\n\u001b[32m     15\u001b[39m \u001b[33m3. Press 3 to find the Area of a Rectangle.\u001b[39m\n\u001b[32m     16\u001b[39m \u001b[33m0. Press 0 to Exit.\u001b[39m\n\u001b[32m     17\u001b[39m \u001b[33m\"\"\"\u001b[39m)\n\u001b[32m---> \u001b[39m\u001b[32m19\u001b[39m             user_input = \u001b[38;5;28mint\u001b[39m(\u001b[38;5;28;43minput\u001b[39;49m\u001b[43m(\u001b[49m\u001b[33;43m\"\u001b[39;49m\u001b[33;43mEnter your choice: \u001b[39;49m\u001b[33;43m\"\u001b[39;49m\u001b[43m)\u001b[49m)\n\u001b[32m     21\u001b[39m             \u001b[38;5;28;01mif\u001b[39;00m user_input == \u001b[32m1\u001b[39m:\n\u001b[32m     22\u001b[39m                 \u001b[38;5;28mself\u001b[39m.calculate_area_circle()\n",
      "\u001b[36mFile \u001b[39m\u001b[32m~\\AppData\\Roaming\\Python\\Python312\\site-packages\\ipykernel\\kernelbase.py:1282\u001b[39m, in \u001b[36mKernel.raw_input\u001b[39m\u001b[34m(self, prompt)\u001b[39m\n\u001b[32m   1280\u001b[39m     msg = \u001b[33m\"\u001b[39m\u001b[33mraw_input was called, but this frontend does not support input requests.\u001b[39m\u001b[33m\"\u001b[39m\n\u001b[32m   1281\u001b[39m     \u001b[38;5;28;01mraise\u001b[39;00m StdinNotImplementedError(msg)\n\u001b[32m-> \u001b[39m\u001b[32m1282\u001b[39m \u001b[38;5;28;01mreturn\u001b[39;00m \u001b[38;5;28;43mself\u001b[39;49m\u001b[43m.\u001b[49m\u001b[43m_input_request\u001b[49m\u001b[43m(\u001b[49m\n\u001b[32m   1283\u001b[39m \u001b[43m    \u001b[49m\u001b[38;5;28;43mstr\u001b[39;49m\u001b[43m(\u001b[49m\u001b[43mprompt\u001b[49m\u001b[43m)\u001b[49m\u001b[43m,\u001b[49m\n\u001b[32m   1284\u001b[39m \u001b[43m    \u001b[49m\u001b[38;5;28;43mself\u001b[39;49m\u001b[43m.\u001b[49m\u001b[43m_parent_ident\u001b[49m\u001b[43m[\u001b[49m\u001b[33;43m\"\u001b[39;49m\u001b[33;43mshell\u001b[39;49m\u001b[33;43m\"\u001b[39;49m\u001b[43m]\u001b[49m\u001b[43m,\u001b[49m\n\u001b[32m   1285\u001b[39m \u001b[43m    \u001b[49m\u001b[38;5;28;43mself\u001b[39;49m\u001b[43m.\u001b[49m\u001b[43mget_parent\u001b[49m\u001b[43m(\u001b[49m\u001b[33;43m\"\u001b[39;49m\u001b[33;43mshell\u001b[39;49m\u001b[33;43m\"\u001b[39;49m\u001b[43m)\u001b[49m\u001b[43m,\u001b[49m\n\u001b[32m   1286\u001b[39m \u001b[43m    \u001b[49m\u001b[43mpassword\u001b[49m\u001b[43m=\u001b[49m\u001b[38;5;28;43;01mFalse\u001b[39;49;00m\u001b[43m,\u001b[49m\n\u001b[32m   1287\u001b[39m \u001b[43m\u001b[49m\u001b[43m)\u001b[49m\n",
      "\u001b[36mFile \u001b[39m\u001b[32m~\\AppData\\Roaming\\Python\\Python312\\site-packages\\ipykernel\\kernelbase.py:1325\u001b[39m, in \u001b[36mKernel._input_request\u001b[39m\u001b[34m(self, prompt, ident, parent, password)\u001b[39m\n\u001b[32m   1322\u001b[39m \u001b[38;5;28;01mexcept\u001b[39;00m \u001b[38;5;167;01mKeyboardInterrupt\u001b[39;00m:\n\u001b[32m   1323\u001b[39m     \u001b[38;5;66;03m# re-raise KeyboardInterrupt, to truncate traceback\u001b[39;00m\n\u001b[32m   1324\u001b[39m     msg = \u001b[33m\"\u001b[39m\u001b[33mInterrupted by user\u001b[39m\u001b[33m\"\u001b[39m\n\u001b[32m-> \u001b[39m\u001b[32m1325\u001b[39m     \u001b[38;5;28;01mraise\u001b[39;00m \u001b[38;5;167;01mKeyboardInterrupt\u001b[39;00m(msg) \u001b[38;5;28;01mfrom\u001b[39;00m\u001b[38;5;250m \u001b[39m\u001b[38;5;28;01mNone\u001b[39;00m\n\u001b[32m   1326\u001b[39m \u001b[38;5;28;01mexcept\u001b[39;00m \u001b[38;5;167;01mException\u001b[39;00m:\n\u001b[32m   1327\u001b[39m     \u001b[38;5;28mself\u001b[39m.log.warning(\u001b[33m\"\u001b[39m\u001b[33mInvalid Message:\u001b[39m\u001b[33m\"\u001b[39m, exc_info=\u001b[38;5;28;01mTrue\u001b[39;00m)\n",
      "\u001b[31mKeyboardInterrupt\u001b[39m: Interrupted by user"
     ]
    },
    {
     "name": "stdin",
     "output_type": "stream",
     "text": [
      "Enter your choice:  1\n"
     ]
    }
   ],
   "source": [
    "class AreaCalculation:\n",
    "    pi = 3.1416\n",
    "\n",
    "    def __init__(self):\n",
    "        self.length1 = 0\n",
    "        self.length2 = 0\n",
    "        self.radius = 0\n",
    "        self.area = 0\n",
    "\n",
    "    def menu(self):\n",
    "        while True:\n",
    "            print(\"\"\"\n",
    "1. Press 1 to find the Area of a Circle.\n",
    "2. Press 2 to find the Area of a Triangle.\n",
    "3. Press 3 to find the Area of a Rectangle.\n",
    "0. Press 0 to Exit.\n",
    "\"\"\")\n",
    "            \n",
    "            user_input = int(input(\"Enter your choice: \"))\n",
    "\n",
    "            if user_input == 1:\n",
    "                self.calculate_area_circle()\n",
    "            elif user_input == 0:\n",
    "                print(\"Goodbye!\")\n",
    "                break\n",
    "            else:\n",
    "                print(\"Invalid choice, try again.\")\n",
    "\n",
    "    def calculate_area_circle(self):\n",
    "        self.radius = float(input(\"Enter radius: \"))\n",
    "        self.area = self.pi * (self.radius ** 2)\n",
    "        print(f\"Area of Circle: {self.area}\")\n",
    "\n",
    "obj = AreaCalculation()\n",
    "obj.menu()\n"
   ]
  },
  {
   "cell_type": "code",
   "execution_count": null,
   "id": "171d6121-03a4-447c-824b-76a48eaf51f6",
   "metadata": {},
   "outputs": [],
   "source": [
    "class Area:\n",
    "    pi=3.1416\n",
    "    def __init__(self):\n",
    "        self.length1=0\n",
    "        self.length2=0\n",
    "        self.result=0\n",
    "    def menu(self):\n",
    "        while True:\n",
    "            print(\"\"\"1. Print 1: Find the area of Circle\n",
    "            2. Find the area of Triangle\"\"\")\n",
    "            user_input = int(input(\"Enter your choice: \"))\n",
    "            if(user_input==1):\n",
    "                self.calculate_area_circle()\n",
    "    def calculate_area_circle(self):\n",
    "        self.radius = float(input(\"Enter radius: \"))\n",
    "        self.area = self.pi * (self.radius ** 2)\n",
    "        print(f\"Area of Circle: {self.area}\")\n",
    "    \n",
    "                \n",
    "            \n",
    "    \n",
    "        "
   ]
  }
 ],
 "metadata": {
  "kernelspec": {
   "display_name": "Python 3 (ipykernel)",
   "language": "python",
   "name": "python3"
  },
  "language_info": {
   "codemirror_mode": {
    "name": "ipython",
    "version": 3
   },
   "file_extension": ".py",
   "mimetype": "text/x-python",
   "name": "python",
   "nbconvert_exporter": "python",
   "pygments_lexer": "ipython3",
   "version": "3.12.3"
  },
  "widgets": {
   "application/vnd.jupyter.widget-state+json": {
    "state": {},
    "version_major": 2,
    "version_minor": 0
   }
  }
 },
 "nbformat": 4,
 "nbformat_minor": 5
}
