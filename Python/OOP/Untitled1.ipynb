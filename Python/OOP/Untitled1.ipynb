{
 "cells": [
  {
   "cell_type": "code",
   "execution_count": 1,
   "id": "44623f3a-3b9d-45d5-8504-f2d082697120",
   "metadata": {},
   "outputs": [],
   "source": [
    "class Student:\n",
    "    name=\"Rahul Kumar\"\n",
    "\n",
    "\n",
    "s1=Student()"
   ]
  },
  {
   "cell_type": "code",
   "execution_count": 2,
   "id": "9bc1408d-a059-47c9-95d0-6bc51c8d5842",
   "metadata": {},
   "outputs": [
    {
     "name": "stdout",
     "output_type": "stream",
     "text": [
      "Rahul Kumar\n"
     ]
    }
   ],
   "source": [
    "rahul=s1.name\n",
    "\n",
    "print(rahul)"
   ]
  },
  {
   "cell_type": "code",
   "execution_count": 12,
   "id": "ade4e82a-53f1-421e-9bdd-a8528def5aef",
   "metadata": {},
   "outputs": [
    {
     "name": "stdout",
     "output_type": "stream",
     "text": [
      "Hello World Rahul 45\n",
      "None\n"
     ]
    }
   ],
   "source": [
    "class Student:\n",
    "    college_name=\"ABC College\"\n",
    "    name=\"Rahul Kumar\"\n",
    "    def __init__(self,fullName,fullMarks):\n",
    "        self.name=fullName\n",
    "        self.marks=fullMarks\n",
    "    def hello(self):\n",
    "        print(\"Hello World\",  self.name,  self.marks)\n",
    "\n",
    "s1=Student(\"Rahul\",45)\n",
    "print(s1.hello())\n",
    "\n",
    "        "
   ]
  },
  {
   "cell_type": "code",
   "execution_count": 5,
   "id": "f6ec8bc9-69bd-4769-ae3e-20e01de1ba87",
   "metadata": {},
   "outputs": [
    {
     "name": "stdout",
     "output_type": "stream",
     "text": [
      "('The average is', 82.0)\n"
     ]
    }
   ],
   "source": [
    "class Student:\n",
    "    def __init__(self, fullName, fullMarks):\n",
    "        self.name = fullName\n",
    "        self.marks = fullMarks\n",
    "\n",
    "    def average_marks(self):\n",
    "        summation = 0\n",
    "        for value in self.marks:\n",
    "            summation += value\n",
    "        average = \"The average is\", summation / 3\n",
    "        return average\n",
    "\n",
    "s1 = Student(\"Tony Stark\", [67, 89, 90])\n",
    "print(s1.average_marks())\n"
   ]
  },
  {
   "cell_type": "code",
   "execution_count": 6,
   "id": "ceb1d631-d4f9-47d4-8298-331eab08c5c4",
   "metadata": {},
   "outputs": [],
   "source": [
    "class AtmMachine:\n",
    "    def __init__(self):\n",
    "        self.pin=''\n",
    "        self.balance=0\n",
    "    def menu(self):\n",
    "        userInput=input(\"\"\"\n",
    "        Hi! How can I help you?\n",
    "        1.Press 1 to create Pin\n",
    "        2.Press 2 to change Pin\n",
    "        3.Press 3 to check Balance\n",
    "        4.Press 4 to withdraw\n",
    "        5. Anything else to exit\n",
    "        \"\"\")\n",
    "        if userInput=='1':\n",
    "            self.create_pin()\n",
    "    def create_pin(self,user_pin,balance):\n",
    "        user_pin=input(\"Enter your Pin\")\n",
    "        self.pin=user_pin\n",
    "        # user_balance=int(input(\"Enter your Balance\"))\n",
    "        self.balancebalance\n",
    "        print(\"Pin Created Succesfully\")\n",
    "        self.menu()"
   ]
  },
  {
   "cell_type": "code",
   "execution_count": 7,
   "id": "60686a0f-2734-445a-b3c8-211b9f1bfd2a",
   "metadata": {},
   "outputs": [],
   "source": [
    "obj1=AtmMachine()"
   ]
  },
  {
   "cell_type": "code",
   "execution_count": 8,
   "id": "4e65fa1a-8b97-4a13-b5a4-26f560944e8c",
   "metadata": {},
   "outputs": [
    {
     "name": "stdin",
     "output_type": "stream",
     "text": [
      "\n",
      "        Hi! How can I help you?\n",
      "        1.Press 1 to create Pin\n",
      "        2.Press 2 to change Pin\n",
      "        3.Press 3 to check Balance\n",
      "        4.Press 4 to withdraw\n",
      "        5. Anything else to exit\n",
      "         1\n"
     ]
    },
    {
     "ename": "TypeError",
     "evalue": "AtmMachine.create_pin() missing 2 required positional arguments: 'user_pin' and 'balance'",
     "output_type": "error",
     "traceback": [
      "\u001b[31m---------------------------------------------------------------------------\u001b[39m",
      "\u001b[31mTypeError\u001b[39m                                 Traceback (most recent call last)",
      "\u001b[36mCell\u001b[39m\u001b[36m \u001b[39m\u001b[32mIn[8]\u001b[39m\u001b[32m, line 1\u001b[39m\n\u001b[32m----> \u001b[39m\u001b[32m1\u001b[39m \u001b[43mobj1\u001b[49m\u001b[43m.\u001b[49m\u001b[43mmenu\u001b[49m\u001b[43m(\u001b[49m\u001b[43m)\u001b[49m\n",
      "\u001b[36mCell\u001b[39m\u001b[36m \u001b[39m\u001b[32mIn[6]\u001b[39m\u001b[32m, line 15\u001b[39m, in \u001b[36mAtmMachine.menu\u001b[39m\u001b[34m(self)\u001b[39m\n\u001b[32m      6\u001b[39m userInput=\u001b[38;5;28minput\u001b[39m(\u001b[33m\"\"\"\u001b[39m\n\u001b[32m      7\u001b[39m \u001b[33mHi! How can I help you?\u001b[39m\n\u001b[32m      8\u001b[39m \u001b[33m1.Press 1 to create Pin\u001b[39m\n\u001b[32m   (...)\u001b[39m\u001b[32m     12\u001b[39m \u001b[33m5. Anything else to exit\u001b[39m\n\u001b[32m     13\u001b[39m \u001b[33m\u001b[39m\u001b[33m\"\"\"\u001b[39m)\n\u001b[32m     14\u001b[39m \u001b[38;5;28;01mif\u001b[39;00m userInput==\u001b[33m'\u001b[39m\u001b[33m1\u001b[39m\u001b[33m'\u001b[39m:\n\u001b[32m---> \u001b[39m\u001b[32m15\u001b[39m     \u001b[38;5;28;43mself\u001b[39;49m\u001b[43m.\u001b[49m\u001b[43mcreate_pin\u001b[49m\u001b[43m(\u001b[49m\u001b[43m)\u001b[49m\n",
      "\u001b[31mTypeError\u001b[39m: AtmMachine.create_pin() missing 2 required positional arguments: 'user_pin' and 'balance'"
     ]
    }
   ],
   "source": [
    "obj1.menu()"
   ]
  },
  {
   "cell_type": "code",
   "execution_count": 26,
   "id": "3f4e4293-b10a-460f-b292-69e8b73eac5a",
   "metadata": {},
   "outputs": [
    {
     "ename": "NameError",
     "evalue": "name 'radius' is not defined",
     "output_type": "error",
     "traceback": [
      "\u001b[31m---------------------------------------------------------------------------\u001b[39m",
      "\u001b[31mNameError\u001b[39m                                 Traceback (most recent call last)",
      "\u001b[36mCell\u001b[39m\u001b[36m \u001b[39m\u001b[32mIn[26]\u001b[39m\u001b[32m, line 9\u001b[39m\n\u001b[32m      5\u001b[39m         circumferenceValue=\u001b[32m2\u001b[39m*pieValue*(\u001b[38;5;28mself\u001b[39m.radius)\n\u001b[32m      6\u001b[39m         \u001b[38;5;28;01mreturn\u001b[39;00m circumferenceValue\n\u001b[32m----> \u001b[39m\u001b[32m9\u001b[39m circumferenceOfCircle1=\u001b[43mCircle\u001b[49m\u001b[43m.\u001b[49m\u001b[43mcircumference\u001b[49m\u001b[43m(\u001b[49m\u001b[32;43m245\u001b[39;49m\u001b[43m)\u001b[49m\n",
      "\u001b[36mCell\u001b[39m\u001b[36m \u001b[39m\u001b[32mIn[26]\u001b[39m\u001b[32m, line 4\u001b[39m, in \u001b[36mCircle.circumference\u001b[39m\u001b[34m(self)\u001b[39m\n\u001b[32m      3\u001b[39m \u001b[38;5;28;01mdef\u001b[39;00m\u001b[38;5;250m \u001b[39m\u001b[34mcircumference\u001b[39m(\u001b[38;5;28mself\u001b[39m):\n\u001b[32m----> \u001b[39m\u001b[32m4\u001b[39m     \u001b[38;5;28mself\u001b[39m.radius=\u001b[43mradius\u001b[49m\n\u001b[32m      5\u001b[39m     circumferenceValue=\u001b[32m2\u001b[39m*pieValue*(\u001b[38;5;28mself\u001b[39m.radius)\n\u001b[32m      6\u001b[39m     \u001b[38;5;28;01mreturn\u001b[39;00m circumferenceValue\n",
      "\u001b[31mNameError\u001b[39m: name 'radius' is not defined"
     ]
    }
   ],
   "source": [
    "class Circle:\n",
    "    pieValue=3.1416\n",
    "    def circumference(self):\n",
    "        self.radius=radius\n",
    "        circumferenceValue=2*pieValue*(self.radius)\n",
    "        return circumferenceValue\n",
    "\n",
    "\n",
    "circumferenceOfCircle1=Circle.circumference(245)\n",
    "    \n",
    "    "
   ]
  },
  {
   "cell_type": "code",
   "execution_count": 11,
   "id": "4ea5e101-136e-46aa-b96a-8e82ad168422",
   "metadata": {},
   "outputs": [
    {
     "name": "stdout",
     "output_type": "stream",
     "text": [
      "1539.384\n"
     ]
    }
   ],
   "source": [
    "class Circle:\n",
    "    pieValue = 3.1416\n",
    "\n",
    "    def __init__(self, radius):\n",
    "        self.radius = radius\n",
    "\n",
    "    def circumference(self):\n",
    "        circumferenceValue = 2 * self.pieValue * self.radius\n",
    "        return circumferenceValue\n",
    "\n",
    "# Create a Circle object with radius 245\n",
    "circle1 = Circle(245)\n",
    "\n",
    "# Call circumference method on the object\n",
    "circumferenceOfCircle1 = circle1.circumference()\n",
    "\n",
    "print(circumferenceOfCircle1)\n"
   ]
  },
  {
   "cell_type": "code",
   "execution_count": 14,
   "id": "1d868d48-2126-4aa9-99ff-28abdd6279ed",
   "metadata": {},
   "outputs": [],
   "source": [
    "class AtmMachine:\n",
    "    def __init__(self):\n",
    "        self.pin=''\n",
    "        self.balance=0\n",
    "    def menu(self):\n",
    "        userInput=input(\"\"\"\n",
    "        Hi! How can I help you?\n",
    "        1.Press 1 to create Pin\n",
    "        2.Press 2 to change Pin\n",
    "        3.Press 3 to check Balance\n",
    "        4.Press 4 to withdraw\n",
    "        5. Anything else to exit\n",
    "        \"\"\")\n",
    "        if userInput=='1':\n",
    "            self.create_pin()\n",
    "    def create_pin(self):\n",
    "        user_pin=input(\"Enter your Pin\")\n",
    "        self.pin=user_pin\n",
    "        user_balance=int(input(\"Enter your Balance\"))\n",
    "        self.balance=user_balance\n",
    "        print(f\"Pin created Succesfully Pin is {self.pin} and balance is {self.balancen}\")\n",
    "        \n",
    "        self.menu()"
   ]
  },
  {
   "cell_type": "code",
   "execution_count": 15,
   "id": "c29c5147-9e39-4afe-9795-2cb361608ddc",
   "metadata": {},
   "outputs": [],
   "source": [
    "obj1=AtmMachine()"
   ]
  },
  {
   "cell_type": "code",
   "execution_count": 16,
   "id": "999ba37c-b5ea-4f0a-bfcb-b4d9bfef2729",
   "metadata": {},
   "outputs": [
    {
     "name": "stdin",
     "output_type": "stream",
     "text": [
      "\n",
      "        Hi! How can I help you?\n",
      "        1.Press 1 to create Pin\n",
      "        2.Press 2 to change Pin\n",
      "        3.Press 3 to check Balance\n",
      "        4.Press 4 to withdraw\n",
      "        5. Anything else to exit\n",
      "         1\n",
      "Enter your Pin 13456\n",
      "Enter your Balance 1000\n"
     ]
    },
    {
     "name": "stdout",
     "output_type": "stream",
     "text": [
      "Pin Created Succesfully\n"
     ]
    },
    {
     "name": "stdin",
     "output_type": "stream",
     "text": [
      "\n",
      "        Hi! How can I help you?\n",
      "        1.Press 1 to create Pin\n",
      "        2.Press 2 to change Pin\n",
      "        3.Press 3 to check Balance\n",
      "        4.Press 4 to withdraw\n",
      "        5. Anything else to exit\n",
      "         1\n",
      "Enter your Pin 134345\n",
      "Enter your Balance 10000000\n"
     ]
    },
    {
     "name": "stdout",
     "output_type": "stream",
     "text": [
      "Pin Created Succesfully\n"
     ]
    },
    {
     "name": "stdin",
     "output_type": "stream",
     "text": [
      "\n",
      "        Hi! How can I help you?\n",
      "        1.Press 1 to create Pin\n",
      "        2.Press 2 to change Pin\n",
      "        3.Press 3 to check Balance\n",
      "        4.Press 4 to withdraw\n",
      "        5. Anything else to exit\n",
      "         5\n"
     ]
    }
   ],
   "source": [
    "obj1.menu()"
   ]
  },
  {
   "cell_type": "code",
   "execution_count": 20,
   "id": "15f12f15-055e-4c6b-9377-e6ae5931cdca",
   "metadata": {},
   "outputs": [],
   "source": [
    "class AtmMachine:\n",
    "    def __init__(self):\n",
    "        self.pin=''\n",
    "        self.balance=0\n",
    "    def menu(self):\n",
    "        userInput=input(\"\"\"\n",
    "        Hi! How can I help you?\n",
    "        1.Press 1 to create Pin\n",
    "        2.Press 2 to change Pin\n",
    "        3.Press 3 to check Balance\n",
    "        4.Press 4 to withdraw\n",
    "        5. Anything else to exit\n",
    "        \"\"\")\n",
    "        if userInput=='1':\n",
    "            self.create_pin()\n",
    "    def create_pin(self):\n",
    "        user_pin=input(\"Enter your Pin\")\n",
    "        self.pin=user_pin\n",
    "        user_balance=int(input(\"Enter your Balance\"))\n",
    "        self.balance=user_balance\n",
    "        print(f\"Pin created Succesfully Pin is {self.pin} and balance is {self.balance}\")\n",
    "        \n",
    "        self.menu()"
   ]
  },
  {
   "cell_type": "code",
   "execution_count": 21,
   "id": "40c65842-14ad-42c6-8c6a-f66054c7b776",
   "metadata": {},
   "outputs": [],
   "source": [
    "obj1=AtmMachine()"
   ]
  },
  {
   "cell_type": "code",
   "execution_count": 22,
   "id": "d7cb6d56-7dab-4523-af36-dd16be75cde4",
   "metadata": {},
   "outputs": [
    {
     "name": "stdin",
     "output_type": "stream",
     "text": [
      "\n",
      "        Hi! How can I help you?\n",
      "        1.Press 1 to create Pin\n",
      "        2.Press 2 to change Pin\n",
      "        3.Press 3 to check Balance\n",
      "        4.Press 4 to withdraw\n",
      "        5. Anything else to exit\n",
      "         1\n",
      "Enter your Pin 1234\n",
      "Enter your Balance 100000\n"
     ]
    },
    {
     "name": "stdout",
     "output_type": "stream",
     "text": [
      "Pin created Succesfully Pin is 1234 and balance is 100000\n"
     ]
    },
    {
     "name": "stdin",
     "output_type": "stream",
     "text": [
      "\n",
      "        Hi! How can I help you?\n",
      "        1.Press 1 to create Pin\n",
      "        2.Press 2 to change Pin\n",
      "        3.Press 3 to check Balance\n",
      "        4.Press 4 to withdraw\n",
      "        5. Anything else to exit\n",
      "         5\n"
     ]
    }
   ],
   "source": [
    "obj1.menu()"
   ]
  },
  {
   "cell_type": "code",
   "execution_count": 27,
   "id": "b9005d2b-9983-4093-914b-63fb31da771a",
   "metadata": {},
   "outputs": [],
   "source": [
    "class AtmMachine:\n",
    "    def __init__(self):\n",
    "        self.pin=''\n",
    "        self.balance=0\n",
    "    def menu(self):\n",
    "        userInput=input(\"\"\"\n",
    "        Hi! How can I help you?\n",
    "        1.Press 1 to create Pin\n",
    "        2.Press 2 to change Pin\n",
    "        3.Press 3 to check Balance\n",
    "        4.Press 4 to withdraw\n",
    "        5. Anything else to exit\n",
    "        \"\"\")\n",
    "        if userInput=='1':\n",
    "            self.create_pin()\n",
    "        elif userInput==\"2\":\n",
    "            self.change_pin()\n",
    "    def create_pin(self):\n",
    "        user_pin=input(\"Enter your Pin\")\n",
    "        self.pin=user_pin\n",
    "        user_balance=int(input(\"Enter your Balance\"))\n",
    "        self.balance=user_balance\n",
    "        print(f\"Pin created Succesfully Pin is {self.pin} and balance is {self.balance}\")\n",
    "        \n",
    "        self.menu()\n",
    "    def change_pin(self):\n",
    "        old_pin=input(\"Enter Old Pin\")\n",
    "        if old_pin==self.pin:\n",
    "            new_pin=input(\"Enter New Pin\")\n",
    "            self.pin=new_pin\n",
    "            print(\"Pin Change Successfully Done\")\n",
    "            self.menu()"
   ]
  },
  {
   "cell_type": "code",
   "execution_count": 28,
   "id": "17005956-729b-4133-9a1c-9ef7e59609dd",
   "metadata": {},
   "outputs": [],
   "source": [
    "obj1=AtmMachine()"
   ]
  },
  {
   "cell_type": "code",
   "execution_count": null,
   "id": "2453a720-f15a-48ad-b2fb-e86b9e2b5c66",
   "metadata": {},
   "outputs": [
    {
     "name": "stdin",
     "output_type": "stream",
     "text": [
      "\n",
      "        Hi! How can I help you?\n",
      "        1.Press 1 to create Pin\n",
      "        2.Press 2 to change Pin\n",
      "        3.Press 3 to check Balance\n",
      "        4.Press 4 to withdraw\n",
      "        5. Anything else to exit\n",
      "         2\n",
      "Enter Old Pin \n",
      "Enter New Pin 1234567890\n"
     ]
    },
    {
     "name": "stdout",
     "output_type": "stream",
     "text": [
      "Pin Change Successfully Done\n"
     ]
    }
   ],
   "source": [
    "obj1.menu()"
   ]
  },
  {
   "cell_type": "code",
   "execution_count": null,
   "id": "ac51162b-762c-4059-af7a-5aad2a6920ca",
   "metadata": {},
   "outputs": [],
   "source": []
  }
 ],
 "metadata": {
  "kernelspec": {
   "display_name": "Python 3 (ipykernel)",
   "language": "python",
   "name": "python3"
  },
  "language_info": {
   "codemirror_mode": {
    "name": "ipython",
    "version": 3
   },
   "file_extension": ".py",
   "mimetype": "text/x-python",
   "name": "python",
   "nbconvert_exporter": "python",
   "pygments_lexer": "ipython3",
   "version": "3.12.3"
  },
  "widgets": {
   "application/vnd.jupyter.widget-state+json": {
    "state": {},
    "version_major": 2,
    "version_minor": 0
   }
  }
 },
 "nbformat": 4,
 "nbformat_minor": 5
}
