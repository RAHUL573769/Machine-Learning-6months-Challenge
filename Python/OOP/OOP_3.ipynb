{
 "cells": [
  {
   "cell_type": "code",
   "execution_count": 2,
   "id": "5dee8fc0-6c36-4004-a226-48f91ec07e4c",
   "metadata": {},
   "outputs": [
    {
     "name": "stdout",
     "output_type": "stream",
     "text": [
      "<__main__.Point object at 0x000001FFB2AB7E30>\n"
     ]
    }
   ],
   "source": [
    "class Point:\n",
    "    def __init__(self,x,y):\n",
    "        self.x_code=x\n",
    "        self.y_code=y\n",
    "\n",
    "p1=Point(0,0)\n",
    "print(p1)\n",
    "        "
   ]
  },
  {
   "cell_type": "code",
   "execution_count": 4,
   "id": "24f4d106-0719-476f-be0e-07bbe5b6b97e",
   "metadata": {},
   "outputs": [
    {
     "name": "stdout",
     "output_type": "stream",
     "text": [
      "<2 -1>\n"
     ]
    }
   ],
   "source": [
    "class Point:\n",
    "    def __init__(self,x,y):\n",
    "        self.x_code=x\n",
    "        self.y_code=y\n",
    "    def __str__(self):\n",
    "        return \"<{} {}>\".format(self.x_code,self.y_code)\n",
    "p1=Point(2,-1)\n",
    "\n",
    "\n",
    "print(p1)"
   ]
  },
  {
   "cell_type": "code",
   "execution_count": 5,
   "id": "b288a2fc-39e9-4e5c-ae5c-fd46afbee4fe",
   "metadata": {},
   "outputs": [
    {
     "data": {
      "text/plain": [
       "2.23606797749979"
      ]
     },
     "execution_count": 5,
     "metadata": {},
     "output_type": "execute_result"
    }
   ],
   "source": [
    "class Point:\n",
    "    def __init__(self,x,y):\n",
    "        self.x_code=x\n",
    "        self.y_code=y\n",
    "    def __str__(self):\n",
    "        return \"<{} {}>\".format(self.x_code,self.y_code)\n",
    "    def euculidean_distance(self,other):\n",
    "        return ((self.x_code-other.x_code)**2+(self.y_code-other.y_code)**2)**0.5\n",
    "    \n",
    "p1=Point(2,-1)\n",
    "p2=Point(1,1)\n",
    "\n",
    "\n",
    "p1.euculidean_distance(p2)\n"
   ]
  },
  {
   "cell_type": "code",
   "execution_count": 10,
   "id": "c64191ca-1b3f-4cd2-a31a-8e5e2f0ce735",
   "metadata": {},
   "outputs": [
    {
     "data": {
      "text/plain": [
       "8.06225774829855"
      ]
     },
     "execution_count": 10,
     "metadata": {},
     "output_type": "execute_result"
    }
   ],
   "source": [
    "class Point:\n",
    "    def __init__(self,x,y):\n",
    "        self.x_code=x\n",
    "        self.y_code=y\n",
    "    def __str__(self):\n",
    "        return \"<{} {}>\".format(self.x_code,self.y_code)\n",
    "    def euculidean_distance(self,other):\n",
    "        return ((self.x_code-other.x_code)**2+(self.y_code-other.y_code)**2)**0.5\n",
    "    def distance_from_origin(self):\n",
    "        return self.euculidean_distance(Point(10,0))\n",
    "p1=Point(2,-1)\n",
    "p2=Point(1,1)\n",
    "\n",
    "\n",
    "# p1.euculidean_distance(p2)\n",
    "p1.distance_from_origin()\n"
   ]
  },
  {
   "cell_type": "code",
   "execution_count": 24,
   "id": "5bef0ace-9d95-468e-a23f-396447998504",
   "metadata": {},
   "outputs": [],
   "source": [
    "class Line:\n",
    "    def __init__(self,A,B,C):\n",
    "        self.A=A\n",
    "        self.B=B\n",
    "        self.C=C\n",
    "    def __str__(self):\n",
    "        return '{}x+{}y+{}'.format(self.A,self.B,self.C)\n",
    "    def point_on_line(line,point):\n",
    "        if (line.A*point.x_cod+line.B*point.y_cod+line.C==0):\n",
    "            return \"Line lies in a line\"\n",
    "        else:\n",
    "            return \"Line doesnot lie on Line\"\n",
    "        "
   ]
  },
  {
   "cell_type": "code",
   "execution_count": 25,
   "id": "0bd11def-18e5-438d-a3ee-1eb0bae3c2dc",
   "metadata": {},
   "outputs": [
    {
     "name": "stdout",
     "output_type": "stream",
     "text": [
      "1x+2y+-2\n",
      "10x+2y+-2\n"
     ]
    }
   ],
   "source": [
    "l1=Line(1,2,-2)\n",
    "\n",
    "\n",
    "l2=Line(10,2,-2)\n",
    "p1=Point(1,2)\n",
    "l1.point_on_line(p1)\n",
    "print(l1)\n",
    "print(l2)"
   ]
  },
  {
   "cell_type": "code",
   "execution_count": 26,
   "id": "f28410f4-fec9-4448-82e9-86ac24da6491",
   "metadata": {},
   "outputs": [],
   "source": [
    "class Point:\n",
    "    def __init__(self, x, y):\n",
    "        self.x_cod = x\n",
    "        self.y_cod = y\n",
    "\n",
    "class Line:\n",
    "    def __init__(self, A, B, C):\n",
    "        self.A = A\n",
    "        self.B = B\n",
    "        self.C = C\n",
    "\n",
    "    def __str__(self):\n",
    "        return '{}x + {}y + {}'.format(self.A, self.B, self.C)\n",
    "\n",
    "    def point_on_line(self, point):  # instance method\n",
    "        if self.A * point.x_cod + self.B * point.y_cod + self.C == 0:\n",
    "            return \"Point lies on the line\"\n",
    "        else:\n",
    "            return \"Point does not lie on the line\"\n"
   ]
  },
  {
   "cell_type": "code",
   "execution_count": 27,
   "id": "5e79cee1-0b05-45da-935f-0474bd2309d6",
   "metadata": {},
   "outputs": [
    {
     "name": "stdout",
     "output_type": "stream",
     "text": [
      "1x + 2y + -2\n",
      "10x + 2y + -2\n"
     ]
    }
   ],
   "source": [
    "l1=Line(1,2,-2)\n",
    "\n",
    "\n",
    "l2=Line(10,2,-2)\n",
    "p1=Point(1,2)\n",
    "l1.point_on_line(p1)\n",
    "print(l1)\n",
    "print(l2)"
   ]
  },
  {
   "cell_type": "code",
   "execution_count": 29,
   "id": "9397b3ba-44ed-4176-905c-b0ae9e0c4cb4",
   "metadata": {},
   "outputs": [],
   "source": [
    "class Person:\n",
    "    def __init__(self,name_input,country_input):\n",
    "        self.name=name_input\n",
    "        self.country=country_input\n",
    "    def greet(self):\n",
    "        if (self.country==\"india\"):\n",
    "            print(\"Namaste\", self.name)\n",
    "        else:\n",
    "            print(\"Hi\", self.name)\n",
    "\n",
    "# object with reference\n",
    "            "
   ]
  },
  {
   "cell_type": "code",
   "execution_count": 31,
   "id": "adf49ad2-97a5-4c75-8ba7-78ddb4bb7b5e",
   "metadata": {},
   "outputs": [
    {
     "name": "stdout",
     "output_type": "stream",
     "text": [
      "Hi Rahul\n"
     ]
    }
   ],
   "source": [
    "p=Person(\"Rahul\", \"Bangladesh\")\n",
    "p.greet()"
   ]
  },
  {
   "cell_type": "code",
   "execution_count": 33,
   "id": "d47d857d-afd0-4a03-98ed-e7e7bd0da597",
   "metadata": {},
   "outputs": [
    {
     "ename": "NameError",
     "evalue": "name 'name_input' is not defined",
     "output_type": "error",
     "traceback": [
      "\u001b[31m---------------------------------------------------------------------------\u001b[39m",
      "\u001b[31mNameError\u001b[39m                                 Traceback (most recent call last)",
      "\u001b[36mCell\u001b[39m\u001b[36m \u001b[39m\u001b[32mIn[33]\u001b[39m\u001b[32m, line 10\u001b[39m\n\u001b[32m      8\u001b[39m         \u001b[38;5;28;01melse\u001b[39;00m:\n\u001b[32m      9\u001b[39m             \u001b[38;5;28mprint\u001b[39m(\u001b[33m\"\u001b[39m\u001b[33mHi\u001b[39m\u001b[33m\"\u001b[39m, \u001b[38;5;28mself\u001b[39m.name)\n\u001b[32m---> \u001b[39m\u001b[32m10\u001b[39m p=\u001b[43mPerson\u001b[49m\u001b[43m(\u001b[49m\u001b[43m)\u001b[49m\n",
      "\u001b[36mCell\u001b[39m\u001b[36m \u001b[39m\u001b[32mIn[33]\u001b[39m\u001b[32m, line 3\u001b[39m, in \u001b[36mPerson.__init__\u001b[39m\u001b[34m(self)\u001b[39m\n\u001b[32m      2\u001b[39m \u001b[38;5;28;01mdef\u001b[39;00m\u001b[38;5;250m \u001b[39m\u001b[34m__init__\u001b[39m(\u001b[38;5;28mself\u001b[39m):\n\u001b[32m----> \u001b[39m\u001b[32m3\u001b[39m     \u001b[38;5;28mself\u001b[39m.name=\u001b[43mname_input\u001b[49m\n\u001b[32m      4\u001b[39m     \u001b[38;5;28mself\u001b[39m.country=country_input\n",
      "\u001b[31mNameError\u001b[39m: name 'name_input' is not defined"
     ]
    }
   ],
   "source": [
    "class Person:\n",
    "    def __init__(self):\n",
    "        self.name=name_input\n",
    "        self.country=country_input\n",
    "    def greet(self):\n",
    "        if (self.country==\"india\"):\n",
    "            print(\"Namaste\", self.name)\n",
    "        else:\n",
    "            print(\"Hi\", self.name)\n",
    "p=Person()\n",
    "\n",
    "\n",
    "\n",
    "\n",
    "\n",
    "\n",
    "\n",
    "# ❌ What’s wrong?\n",
    "# The error is in the constructor __init__:\n",
    "\n",
    "# python\n",
    "# Copy\n",
    "# Edit\n",
    "# self.name = name_input\n",
    "# self.country = country_input\n",
    "# You're using name_input and country_input without defining them anywhere. Python will raise a NameError like:\n",
    "\n",
    "# pgsql\n",
    "# Copy\n",
    "# Edit\n",
    "# NameError: name 'name_input' is not defined"
   ]
  },
  {
   "cell_type": "code",
   "execution_count": 34,
   "id": "122f0788-bec6-4893-8ff5-394c00b9bac7",
   "metadata": {},
   "outputs": [
    {
     "name": "stdin",
     "output_type": "stream",
     "text": [
      "Enter your name:  RAHU\n",
      "Enter your country:  India\n"
     ]
    },
    {
     "name": "stdout",
     "output_type": "stream",
     "text": [
      "Namaste RAHU\n"
     ]
    }
   ],
   "source": [
    "class Person:\n",
    "    def __init__(self):\n",
    "        self.name = input(\"Enter your name: \")\n",
    "        self.country = input(\"Enter your country: \")\n",
    "\n",
    "    def greet(self):\n",
    "        if self.country.lower() == \"india\":\n",
    "            print(\"Namaste\", self.name)\n",
    "        else:\n",
    "            print(\"Hi\", self.name)\n",
    "\n",
    "p = Person()\n",
    "p.greet()\n"
   ]
  },
  {
   "cell_type": "code",
   "execution_count": 35,
   "id": "d27cd762-e306-4b98-b953-eed257e3ced0",
   "metadata": {},
   "outputs": [
    {
     "ename": "NameError",
     "evalue": "name 'greet' is not defined",
     "output_type": "error",
     "traceback": [
      "\u001b[31m---------------------------------------------------------------------------\u001b[39m",
      "\u001b[31mNameError\u001b[39m                                 Traceback (most recent call last)",
      "\u001b[36mCell\u001b[39m\u001b[36m \u001b[39m\u001b[32mIn[35]\u001b[39m\u001b[32m, line 10\u001b[39m\n\u001b[32m      6\u001b[39m         \u001b[38;5;28mprint\u001b[39m( Student.name ,Student.gender)\n\u001b[32m      8\u001b[39m p=Student(\u001b[33m\"\u001b[39m\u001b[33mRahul\u001b[39m\u001b[33m\"\u001b[39m,\u001b[33m\"\u001b[39m\u001b[33mMale\u001b[39m\u001b[33m\"\u001b[39m)\n\u001b[32m---> \u001b[39m\u001b[32m10\u001b[39m x=\u001b[43mgreet\u001b[49m()\n",
      "\u001b[31mNameError\u001b[39m: name 'greet' is not defined"
     ]
    }
   ],
   "source": [
    "class Student:\n",
    "    def __init__(self,name,gender):\n",
    "        self.name=name\n",
    "        self.gender=gender\n",
    "    def greet(Student):\n",
    "        print( Student.name ,Student.gender)\n",
    "\n",
    "p=Student(\"Rahul\",\"Male\")\n",
    "\n",
    "x=greet()"
   ]
  },
  {
   "cell_type": "code",
   "execution_count": 36,
   "id": "7c4354c9-69a6-4081-8f96-925ee082d714",
   "metadata": {},
   "outputs": [
    {
     "ename": "NameError",
     "evalue": "name 'greet' is not defined",
     "output_type": "error",
     "traceback": [
      "\u001b[31m---------------------------------------------------------------------------\u001b[39m",
      "\u001b[31mNameError\u001b[39m                                 Traceback (most recent call last)",
      "\u001b[36mCell\u001b[39m\u001b[36m \u001b[39m\u001b[32mIn[36]\u001b[39m\u001b[32m, line 10\u001b[39m\n\u001b[32m      6\u001b[39m         \u001b[38;5;28mprint\u001b[39m( Student.name ,Student.gender)\n\u001b[32m      8\u001b[39m p=Student(\u001b[33m\"\u001b[39m\u001b[33mRahul\u001b[39m\u001b[33m\"\u001b[39m,\u001b[33m\"\u001b[39m\u001b[33mMale\u001b[39m\u001b[33m\"\u001b[39m)\n\u001b[32m---> \u001b[39m\u001b[32m10\u001b[39m x=\u001b[43mgreet\u001b[49m(p)\n",
      "\u001b[31mNameError\u001b[39m: name 'greet' is not defined"
     ]
    }
   ],
   "source": [
    "class Student:\n",
    "    def __init__(self,name,gender):\n",
    "        self.name=name\n",
    "        self.gender=gender\n",
    "    def greet(Student):\n",
    "        print( Student.name ,Student.gender)\n",
    "\n",
    "p=Student(\"Rahul\",\"Male\")\n",
    "\n",
    "❌ The Problem Code\n",
    "python\n",
    "Copy\n",
    "Edit\n",
    "class Student:\n",
    "    def __init__(self,name,gender):\n",
    "        self.name = name\n",
    "        self.gender = gender\n",
    "\n",
    "    def greet(Student):   # <--- PROBLEM HERE\n",
    "        print(Student.name, Student.gender)\n",
    "\n",
    "p = Student(\"Rahul\", \"Male\")\n",
    "\n",
    "# x = greet(p)  # <--- ERROR HERE\n",
    "# 🧠 What are the problems?\n",
    "# 🔴 Problem 1: Wrong function call — greet(p)\n",
    "# You're calling greet(p) as if it were a global function, but it's actually a method inside the Student class. You should call it using the object:\n",
    "\n",
    "# python\n",
    "# Copy\n",
    "# Edit\n",
    "# p.greet()\n",
    "# 🔴 Problem 2: Wrong parameter name in greet() method\n",
    "# Although this won’t cause an error, it’s confusing and unprofessional to name the first parameter Student. By convention, the first parameter in instance methods should be self, because it refers to the current object.\n",
    "\n",
    "# So this:\n",
    "\n",
    "# python\n",
    "# Copy\n",
    "# Edit\n",
    "# def greet(Student):\n",
    "#     print(Student.name, Student.gender)\n",
    "# Should be:\n",
    "\n",
    "# python\n",
    "# Copy\n",
    "# Edit\n",
    "# def greet(self):\n",
    "#     print(self.name, self.gender)\n",
    "# ✅ Corrected Code\n",
    "# python\n",
    "# Copy\n",
    "# Edit\n",
    "# class Student:\n",
    "#     def __init__(self, name, gender):\n",
    "#         self.name = name\n",
    "#         self.gender = gender\n",
    "\n",
    "#     def greet(self):\n",
    "#         print(self.name, self.gender)\n",
    "\n",
    "# p = Student(\"Rahul\", \"Male\")\n",
    "# p.greet()\n",
    "# ✅ Output:\n",
    "# nginx\n",
    "# Copy\n",
    "# Edit\n",
    "# Rahul Male\n",
    "# 🧠 Summary\n",
    "# Issue\tFix\n",
    "# ❌ Calling greet(p) like a normal function\t✅ Use p.greet() instead\n",
    "# ❌ Using Student as the first parameter\n",
    "\n",
    "\n",
    "\n",
    "\n",
    "\n",
    "\n",
    "\n",
    "\n",
    "\n",
    "\n",
    "\n",
    "\n",
    "\n",
    "\n",
    "\n",
    "\n",
    "\n",
    "\n",
    "\n",
    "x=greet(p)"
   ]
  },
  {
   "cell_type": "code",
   "execution_count": 37,
   "id": "06decf6b-e7d8-417e-9bd1-1de2d10f9b8e",
   "metadata": {},
   "outputs": [
    {
     "name": "stdout",
     "output_type": "stream",
     "text": [
      "Rahul Male\n"
     ]
    }
   ],
   "source": [
    "class Student:\n",
    "    def __init__(self, name, gender):\n",
    "        self.name = name\n",
    "        self.gender = gender\n",
    "\n",
    "    def greet(self):\n",
    "        print(self.name, self.gender)\n",
    "\n",
    "p = Student(\"Rahul\", \"Male\")\n",
    "p.greet()\n"
   ]
  },
  {
   "cell_type": "code",
   "execution_count": 39,
   "id": "c0933bb7-6a45-4ba2-84d6-b6f9ea6cf7f9",
   "metadata": {},
   "outputs": [
    {
     "name": "stdout",
     "output_type": "stream",
     "text": [
      "Rahul Male\n"
     ]
    }
   ],
   "source": [
    "class Student:\n",
    "    def __init__(self,name,gender):\n",
    "        \n",
    "        self.name=name\n",
    "        self.gender=gender\n",
    "\n",
    "# outside class Function\n",
    "def greet(Student):\n",
    "        print( Student.name ,Student.gender)\n",
    "\n",
    "p=Student(\"Rahul\",\"Male\")\n",
    "\n",
    "x=greet(p)"
   ]
  },
  {
   "cell_type": "code",
   "execution_count": null,
   "id": "a825a871-88f4-4a79-8957-a9f06913ea8b",
   "metadata": {},
   "outputs": [],
   "source": []
  }
 ],
 "metadata": {
  "kernelspec": {
   "display_name": "Python 3 (ipykernel)",
   "language": "python",
   "name": "python3"
  },
  "language_info": {
   "codemirror_mode": {
    "name": "ipython",
    "version": 3
   },
   "file_extension": ".py",
   "mimetype": "text/x-python",
   "name": "python",
   "nbconvert_exporter": "python",
   "pygments_lexer": "ipython3",
   "version": "3.12.3"
  },
  "widgets": {
   "application/vnd.jupyter.widget-state+json": {
    "state": {},
    "version_major": 2,
    "version_minor": 0
   }
  }
 },
 "nbformat": 4,
 "nbformat_minor": 5
}
