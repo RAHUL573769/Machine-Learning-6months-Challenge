{
 "cells": [
  {
   "cell_type": "code",
   "execution_count": 2,
   "id": "5dee8fc0-6c36-4004-a226-48f91ec07e4c",
   "metadata": {},
   "outputs": [
    {
     "name": "stdout",
     "output_type": "stream",
     "text": [
      "<__main__.Point object at 0x000001FFB2AB7E30>\n"
     ]
    }
   ],
   "source": [
    "class Point:\n",
    "    def __init__(self,x,y):\n",
    "        self.x_code=x\n",
    "        self.y_code=y\n",
    "\n",
    "p1=Point(0,0)\n",
    "print(p1)\n",
    "        "
   ]
  },
  {
   "cell_type": "code",
   "execution_count": 4,
   "id": "24f4d106-0719-476f-be0e-07bbe5b6b97e",
   "metadata": {},
   "outputs": [
    {
     "name": "stdout",
     "output_type": "stream",
     "text": [
      "<2 -1>\n"
     ]
    }
   ],
   "source": [
    "class Point:\n",
    "    def __init__(self,x,y):\n",
    "        self.x_code=x\n",
    "        self.y_code=y\n",
    "    def __str__(self):\n",
    "        return \"<{} {}>\".format(self.x_code,self.y_code)\n",
    "p1=Point(2,-1)\n",
    "\n",
    "\n",
    "print(p1)"
   ]
  },
  {
   "cell_type": "code",
   "execution_count": 5,
   "id": "b288a2fc-39e9-4e5c-ae5c-fd46afbee4fe",
   "metadata": {},
   "outputs": [
    {
     "data": {
      "text/plain": [
       "2.23606797749979"
      ]
     },
     "execution_count": 5,
     "metadata": {},
     "output_type": "execute_result"
    }
   ],
   "source": [
    "class Point:\n",
    "    def __init__(self,x,y):\n",
    "        self.x_code=x\n",
    "        self.y_code=y\n",
    "    def __str__(self):\n",
    "        return \"<{} {}>\".format(self.x_code,self.y_code)\n",
    "    def euculidean_distance(self,other):\n",
    "        return ((self.x_code-other.x_code)**2+(self.y_code-other.y_code)**2)**0.5\n",
    "    \n",
    "p1=Point(2,-1)\n",
    "p2=Point(1,1)\n",
    "\n",
    "\n",
    "p1.euculidean_distance(p2)\n"
   ]
  },
  {
   "cell_type": "code",
   "execution_count": 10,
   "id": "c64191ca-1b3f-4cd2-a31a-8e5e2f0ce735",
   "metadata": {},
   "outputs": [
    {
     "data": {
      "text/plain": [
       "8.06225774829855"
      ]
     },
     "execution_count": 10,
     "metadata": {},
     "output_type": "execute_result"
    }
   ],
   "source": [
    "class Point:\n",
    "    def __init__(self,x,y):\n",
    "        self.x_code=x\n",
    "        self.y_code=y\n",
    "    def __str__(self):\n",
    "        return \"<{} {}>\".format(self.x_code,self.y_code)\n",
    "    def euculidean_distance(self,other):\n",
    "        return ((self.x_code-other.x_code)**2+(self.y_code-other.y_code)**2)**0.5\n",
    "    def distance_from_origin(self):\n",
    "        return self.euculidean_distance(Point(10,0))\n",
    "p1=Point(2,-1)\n",
    "p2=Point(1,1)\n",
    "\n",
    "\n",
    "# p1.euculidean_distance(p2)\n",
    "p1.distance_from_origin()\n"
   ]
  },
  {
   "cell_type": "code",
   "execution_count": 18,
   "id": "5bef0ace-9d95-468e-a23f-396447998504",
   "metadata": {},
   "outputs": [],
   "source": [
    "class Line:\n",
    "    def __init__(self,A,B,C):\n",
    "        self.A=A\n",
    "        self.B=B\n",
    "        self.C=C\n",
    "    def __str__(self):\n",
    "        return '{}x+{}y+{}'.format(self.A,self.B,self.C)\n",
    "    def point_on_line(line,point):\n",
    "        if (line.A*point.x_cod+line.B*point.y_cod+line.C==0):\n",
    "            return \"Line lies in a line\"\n",
    "        else:\n",
    "            return \"Line doesnot lie on Line\"\n",
    "        "
   ]
  },
  {
   "cell_type": "code",
   "execution_count": 20,
   "id": "0bd11def-18e5-438d-a3ee-1eb0bae3c2dc",
   "metadata": {},
   "outputs": [
    {
     "name": "stdout",
     "output_type": "stream",
     "text": [
      "1x + 2y + -2\n",
      "10x + 2y + -2\n"
     ]
    }
   ],
   "source": [
    "l1=Line(1,2,-2)\n",
    "\n",
    "\n",
    "l2=Line(10,2,-2)\n",
    "p1=Point(1,2)\n",
    "l1.point_on_line(p1)\n",
    "print(l1)\n",
    "print(l2)"
   ]
  },
  {
   "cell_type": "code",
   "execution_count": 21,
   "id": "f28410f4-fec9-4448-82e9-86ac24da6491",
   "metadata": {},
   "outputs": [],
   "source": [
    "class Point:\n",
    "    def __init__(self, x, y):\n",
    "        self.x_cod = x\n",
    "        self.y_cod = y\n",
    "\n",
    "class Line:\n",
    "    def __init__(self, A, B, C):\n",
    "        self.A = A\n",
    "        self.B = B\n",
    "        self.C = C\n",
    "\n",
    "    def __str__(self):\n",
    "        return '{}x + {}y + {}'.format(self.A, self.B, self.C)\n",
    "\n",
    "    def point_on_line(self, point):  # instance method\n",
    "        if self.A * point.x_cod + self.B * point.y_cod + self.C == 0:\n",
    "            return \"Point lies on the line\"\n",
    "        else:\n",
    "            return \"Point does not lie on the line\"\n"
   ]
  },
  {
   "cell_type": "code",
   "execution_count": 22,
   "id": "5e79cee1-0b05-45da-935f-0474bd2309d6",
   "metadata": {},
   "outputs": [
    {
     "name": "stdout",
     "output_type": "stream",
     "text": [
      "1x + 2y + -2\n",
      "10x + 2y + -2\n"
     ]
    }
   ],
   "source": [
    "l1=Line(1,2,-2)\n",
    "\n",
    "\n",
    "l2=Line(10,2,-2)\n",
    "p1=Point(1,2)\n",
    "l1.point_on_line(p1)\n",
    "print(l1)\n",
    "print(l2)"
   ]
  },
  {
   "cell_type": "code",
   "execution_count": null,
   "id": "9397b3ba-44ed-4176-905c-b0ae9e0c4cb4",
   "metadata": {},
   "outputs": [],
   "source": []
  }
 ],
 "metadata": {
  "kernelspec": {
   "display_name": "Python 3 (ipykernel)",
   "language": "python",
   "name": "python3"
  },
  "language_info": {
   "codemirror_mode": {
    "name": "ipython",
    "version": 3
   },
   "file_extension": ".py",
   "mimetype": "text/x-python",
   "name": "python",
   "nbconvert_exporter": "python",
   "pygments_lexer": "ipython3",
   "version": "3.12.3"
  },
  "widgets": {
   "application/vnd.jupyter.widget-state+json": {
    "state": {},
    "version_major": 2,
    "version_minor": 0
   }
  }
 },
 "nbformat": 4,
 "nbformat_minor": 5
}
