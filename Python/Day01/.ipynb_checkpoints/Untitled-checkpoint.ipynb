{
 "cells": [
  {
   "cell_type": "code",
   "execution_count": 1,
   "id": "2f8fcebd-e2bb-498e-9ba8-4c44220cfe11",
   "metadata": {},
   "outputs": [
    {
     "name": "stdout",
     "output_type": "stream",
     "text": [
      "Hello World\n"
     ]
    }
   ],
   "source": [
    "print(\"Hello World\")"
   ]
  },
  {
   "cell_type": "code",
   "execution_count": 2,
   "id": "4e10ace0-31e9-4afb-9321-882e2012d433",
   "metadata": {},
   "outputs": [
    {
     "name": "stdout",
     "output_type": "stream",
     "text": [
      "First Program -Python Print Function\n"
     ]
    }
   ],
   "source": [
    "print(\"First Program -Python Print Function\")"
   ]
  },
  {
   "cell_type": "code",
   "execution_count": 3,
   "id": "1fe81561-f89c-4cfe-a634-8be7ca2d0f00",
   "metadata": {},
   "outputs": [
    {
     "name": "stdout",
     "output_type": "stream",
     "text": [
      "What to Print\n"
     ]
    }
   ],
   "source": [
    "print(\"What to Print\")"
   ]
  },
  {
   "cell_type": "code",
   "execution_count": 4,
   "id": "d8ee236d-8f61-41a2-a6db-3c62623ce609",
   "metadata": {},
   "outputs": [
    {
     "ename": "SyntaxError",
     "evalue": "invalid syntax. Perhaps you forgot a comma? (3700308702.py, line 1)",
     "output_type": "error",
     "traceback": [
      "  \u001b[36mCell\u001b[39m\u001b[36m \u001b[39m\u001b[32mIn[4]\u001b[39m\u001b[32m, line 1\u001b[39m\n\u001b[31m    \u001b[39m\u001b[31mprint(\"print(\"that to print\")\")\u001b[39m\n          ^\n\u001b[31mSyntaxError\u001b[39m\u001b[31m:\u001b[39m invalid syntax. Perhaps you forgot a comma?\n"
     ]
    }
   ],
   "source": [
    "print(\"print(\"that to print\")\")"
   ]
  },
  {
   "cell_type": "code",
   "execution_count": 5,
   "id": "748a1757-1de3-43a9-8e4e-93a5e842b1b3",
   "metadata": {},
   "outputs": [
    {
     "name": "stdout",
     "output_type": "stream",
     "text": [
      "print('that to print')\n"
     ]
    }
   ],
   "source": [
    "print(\"print('that to print')\")"
   ]
  },
  {
   "cell_type": "code",
   "execution_count": 6,
   "id": "1dbdb5f6-a382-4bd4-b5d4-428488cdf15e",
   "metadata": {},
   "outputs": [
    {
     "ename": "SyntaxError",
     "evalue": "invalid syntax. Perhaps you forgot a comma? (1636439231.py, line 1)",
     "output_type": "error",
     "traceback": [
      "  \u001b[36mCell\u001b[39m\u001b[36m \u001b[39m\u001b[32mIn[6]\u001b[39m\u001b[32m, line 1\u001b[39m\n\u001b[31m    \u001b[39m\u001b[31mprint('print('that to print')')\u001b[39m\n          ^\n\u001b[31mSyntaxError\u001b[39m\u001b[31m:\u001b[39m invalid syntax. Perhaps you forgot a comma?\n"
     ]
    }
   ],
   "source": [
    "print('print('that to print')')"
   ]
  },
  {
   "cell_type": "code",
   "execution_count": 7,
   "id": "c438c202-4db3-4d27-989b-1bedaab98cfc",
   "metadata": {},
   "outputs": [
    {
     "name": "stdout",
     "output_type": "stream",
     "text": [
      "print('that to print')\n"
     ]
    }
   ],
   "source": [
    "print(\"print('that to print')\")"
   ]
  },
  {
   "cell_type": "code",
   "execution_count": 8,
   "id": "f9499a45-c14e-4b56-b8b4-4f98459b8c7f",
   "metadata": {},
   "outputs": [
    {
     "ename": "SyntaxError",
     "evalue": "unterminated string literal (detected at line 1) (337423007.py, line 1)",
     "output_type": "error",
     "traceback": [
      "  \u001b[36mCell\u001b[39m\u001b[36m \u001b[39m\u001b[32mIn[8]\u001b[39m\u001b[32m, line 1\u001b[39m\n\u001b[31m    \u001b[39m\u001b[31mprint('print(\"that to print\"))\u001b[39m\n          ^\n\u001b[31mSyntaxError\u001b[39m\u001b[31m:\u001b[39m unterminated string literal (detected at line 1)\n"
     ]
    }
   ],
   "source": [
    "print('print(\"that to print\"))"
   ]
  },
  {
   "cell_type": "code",
   "execution_count": 9,
   "id": "7251b105-dabc-4918-9df5-1f0d98b7fd26",
   "metadata": {},
   "outputs": [
    {
     "name": "stdout",
     "output_type": "stream",
     "text": [
      "hrlloJenny\n"
     ]
    }
   ],
   "source": [
    "print(\"hrllo\" +\"Jenny\")"
   ]
  },
  {
   "cell_type": "code",
   "execution_count": 11,
   "id": "e45921d0-52e0-44a6-8e17-5ac5ef50efd6",
   "metadata": {},
   "outputs": [
    {
     "name": "stdout",
     "output_type": "stream",
     "text": [
      "hrllo  Jenny\n"
     ]
    }
   ],
   "source": [
    "print(\"hrllo\" +\"  \"  +\"Jenny\")"
   ]
  },
  {
   "cell_type": "code",
   "execution_count": 12,
   "id": "11f1a130-befb-441f-a840-fdf373d91236",
   "metadata": {},
   "outputs": [
    {
     "name": "stdin",
     "output_type": "stream",
     "text": [
      "Enter your Name Rahul Rudra\n"
     ]
    },
    {
     "name": "stdout",
     "output_type": "stream",
     "text": [
      "Rahul Rudra\n"
     ]
    }
   ],
   "source": [
    "name=input(\"Enter your Name\")\n",
    "print(name)"
   ]
  },
  {
   "cell_type": "code",
   "execution_count": 13,
   "id": "346bdd0e-6bc3-4e84-9b34-09db2532991c",
   "metadata": {},
   "outputs": [
    {
     "name": "stdin",
     "output_type": "stream",
     "text": [
      "What is Your Name Rahul \n"
     ]
    },
    {
     "name": "stdout",
     "output_type": "stream",
     "text": [
      "Hello  Rahul \n"
     ]
    }
   ],
   "source": [
    "print(\"Hello\" + \"  \" + input(\"What is Your Name\"))"
   ]
  },
  {
   "cell_type": "code",
   "execution_count": 14,
   "id": "2ca45183-eb78-415d-a2f0-daac8762df5c",
   "metadata": {},
   "outputs": [
    {
     "name": "stdin",
     "output_type": "stream",
     "text": [
      "What is Your Name Rahul\n"
     ]
    },
    {
     "name": "stdout",
     "output_type": "stream",
     "text": [
      "Hello  Rahul,How are You\n"
     ]
    }
   ],
   "source": [
    "print(\"Hello\" + \"  \" + input(\"What is Your Name\")+ \",\" +\"How are You\")"
   ]
  },
  {
   "cell_type": "code",
   "execution_count": 15,
   "id": "ac6ccf55-2dba-4a61-93a5-f0f177bef29b",
   "metadata": {},
   "outputs": [
    {
     "name": "stdout",
     "output_type": "stream",
     "text": [
      "5801\n"
     ]
    }
   ],
   "source": [
    "variable1=2345\n",
    "variable2=3456\n",
    "\n",
    "print(variable1+variable2)"
   ]
  },
  {
   "cell_type": "code",
   "execution_count": 16,
   "id": "aa3e7238-237f-4ee8-9be3-23b863c04ce6",
   "metadata": {},
   "outputs": [],
   "source": [
    "var_1=123\n",
    "name_2='Rahul'\n",
    "var=True\n"
   ]
  },
  {
   "cell_type": "code",
   "execution_count": 17,
   "id": "99fdbfe6-c345-413c-a74f-43192bc75c0d",
   "metadata": {},
   "outputs": [
    {
     "name": "stdout",
     "output_type": "stream",
     "text": [
      "11\n"
     ]
    }
   ],
   "source": [
    "print(len(\"Rahul Rudra\"))"
   ]
  },
  {
   "cell_type": "code",
   "execution_count": 18,
   "id": "bbfce604-c547-45d4-aa71-7c187831b5a1",
   "metadata": {},
   "outputs": [
    {
     "ename": "TypeError",
     "evalue": "object of type 'int' has no len()",
     "output_type": "error",
     "traceback": [
      "\u001b[31m---------------------------------------------------------------------------\u001b[39m",
      "\u001b[31mTypeError\u001b[39m                                 Traceback (most recent call last)",
      "\u001b[36mCell\u001b[39m\u001b[36m \u001b[39m\u001b[32mIn[18]\u001b[39m\u001b[32m, line 1\u001b[39m\n\u001b[32m----> \u001b[39m\u001b[32m1\u001b[39m \u001b[38;5;28mprint\u001b[39m(\u001b[38;5;28;43mlen\u001b[39;49m\u001b[43m(\u001b[49m\u001b[32;43m123445\u001b[39;49m\u001b[43m)\u001b[49m)\n",
      "\u001b[31mTypeError\u001b[39m: object of type 'int' has no len()"
     ]
    }
   ],
   "source": [
    "print(len(123445))"
   ]
  },
  {
   "cell_type": "code",
   "execution_count": null,
   "id": "5cb4db3a-6b52-4d01-a4d1-e99189b1b220",
   "metadata": {},
   "outputs": [],
   "source": []
  }
 ],
 "metadata": {
  "kernelspec": {
   "display_name": "Python 3 (ipykernel)",
   "language": "python",
   "name": "python3"
  },
  "language_info": {
   "codemirror_mode": {
    "name": "ipython",
    "version": 3
   },
   "file_extension": ".py",
   "mimetype": "text/x-python",
   "name": "python",
   "nbconvert_exporter": "python",
   "pygments_lexer": "ipython3",
   "version": "3.12.3"
  },
  "widgets": {
   "application/vnd.jupyter.widget-state+json": {
    "state": {},
    "version_major": 2,
    "version_minor": 0
   }
  }
 },
 "nbformat": 4,
 "nbformat_minor": 5
}
