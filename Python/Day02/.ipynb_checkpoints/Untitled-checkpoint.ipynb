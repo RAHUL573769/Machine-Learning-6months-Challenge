{
 "cells": [
  {
   "cell_type": "code",
   "execution_count": 1,
   "id": "c08dc35a-f431-40de-981b-654c0effb737",
   "metadata": {},
   "outputs": [
    {
     "name": "stdout",
     "output_type": "stream",
     "text": [
      "Hello World\n"
     ]
    }
   ],
   "source": [
    "def greet():\n",
    "    print(\"Hello World\")\n",
    "greet()"
   ]
  },
  {
   "cell_type": "code",
   "execution_count": 2,
   "id": "e5ebb553-c533-43d4-89cf-8a702fe9ebb5",
   "metadata": {},
   "outputs": [
    {
     "name": "stdout",
     "output_type": "stream",
     "text": [
      "hi\n",
      "Are you From CS departmet\n"
     ]
    }
   ],
   "source": [
    "# Function with Arguments\n",
    "\n",
    "def greet():\n",
    "    print(\"hi\")\n",
    "    print(\"Are you From CS departmet\")\n",
    "\n",
    "greet()\n"
   ]
  },
  {
   "cell_type": "code",
   "execution_count": 3,
   "id": "e47d3fbd-56a1-4836-9775-d8752574efe0",
   "metadata": {},
   "outputs": [
    {
     "name": "stdout",
     "output_type": "stream",
     "text": [
      "Hi Rahul Rurda\n"
     ]
    }
   ],
   "source": [
    "def greet(name):\n",
    "    print(f\"Hi {name}\")\n",
    "greet(\"Rahul Rurda\")"
   ]
  },
  {
   "cell_type": "code",
   "execution_count": 5,
   "id": "0dc0d3f5-dcd5-470f-ae21-f5d2f6acc32b",
   "metadata": {},
   "outputs": [
    {
     "name": "stdout",
     "output_type": "stream",
     "text": [
      "48\n"
     ]
    }
   ],
   "source": [
    "def add(num1,num2):\n",
    "    add=num1+num2\n",
    "    return add\n",
    "result=add(12,36)\n",
    "print(result)"
   ]
  },
  {
   "cell_type": "code",
   "execution_count": null,
   "id": "9ddffeec-56f7-43bd-8ece-7c2d5ceb6abc",
   "metadata": {},
   "outputs": [],
   "source": []
  }
 ],
 "metadata": {
  "kernelspec": {
   "display_name": "Python 3 (ipykernel)",
   "language": "python",
   "name": "python3"
  },
  "language_info": {
   "codemirror_mode": {
    "name": "ipython",
    "version": 3
   },
   "file_extension": ".py",
   "mimetype": "text/x-python",
   "name": "python",
   "nbconvert_exporter": "python",
   "pygments_lexer": "ipython3",
   "version": "3.12.3"
  },
  "widgets": {
   "application/vnd.jupyter.widget-state+json": {
    "state": {},
    "version_major": 2,
    "version_minor": 0
   }
  }
 },
 "nbformat": 4,
 "nbformat_minor": 5
}
