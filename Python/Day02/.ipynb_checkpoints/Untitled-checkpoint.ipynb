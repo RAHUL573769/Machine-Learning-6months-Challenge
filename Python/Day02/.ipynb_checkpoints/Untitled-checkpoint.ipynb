{
 "cells": [
  {
   "cell_type": "code",
   "execution_count": 1,
   "id": "c08dc35a-f431-40de-981b-654c0effb737",
   "metadata": {},
   "outputs": [
    {
     "name": "stdout",
     "output_type": "stream",
     "text": [
      "Hello World\n"
     ]
    }
   ],
   "source": [
    "def greet():\n",
    "    print(\"Hello World\")\n",
    "greet()"
   ]
  },
  {
   "cell_type": "code",
   "execution_count": 2,
   "id": "e5ebb553-c533-43d4-89cf-8a702fe9ebb5",
   "metadata": {},
   "outputs": [
    {
     "name": "stdout",
     "output_type": "stream",
     "text": [
      "hi\n",
      "Are you From CS departmet\n"
     ]
    }
   ],
   "source": [
    "# Function with Arguments\n",
    "\n",
    "def greet():\n",
    "    print(\"hi\")\n",
    "    print(\"Are you From CS departmet\")\n",
    "\n",
    "greet()\n"
   ]
  },
  {
   "cell_type": "code",
   "execution_count": 3,
   "id": "e47d3fbd-56a1-4836-9775-d8752574efe0",
   "metadata": {},
   "outputs": [
    {
     "name": "stdout",
     "output_type": "stream",
     "text": [
      "Hi Rahul Rurda\n"
     ]
    }
   ],
   "source": [
    "def greet(name):\n",
    "    print(f\"Hi {name}\")\n",
    "greet(\"Rahul Rurda\")"
   ]
  },
  {
   "cell_type": "code",
   "execution_count": 5,
   "id": "0dc0d3f5-dcd5-470f-ae21-f5d2f6acc32b",
   "metadata": {},
   "outputs": [
    {
     "name": "stdout",
     "output_type": "stream",
     "text": [
      "48\n"
     ]
    }
   ],
   "source": [
    "def add(num1,num2):\n",
    "    add=num1+num2\n",
    "    return add\n",
    "result=add(12,36)\n",
    "print(result)"
   ]
  },
  {
   "cell_type": "code",
   "execution_count": 6,
   "id": "9ddffeec-56f7-43bd-8ece-7c2d5ceb6abc",
   "metadata": {},
   "outputs": [
    {
     "name": "stdout",
     "output_type": "stream",
     "text": [
      "Hi Rahul Rudra\n",
      "I am from CSE\n",
      "None\n"
     ]
    }
   ],
   "source": [
    "# Types of Arguments\n",
    "\n",
    "def greet(name,dep):\n",
    "    print(f\"Hi {name}\")\n",
    "    print(f\"I am from {dep}\")\n",
    "\n",
    "output=greet(name=\"Rahul Rudra\",dep=\"CSE\")\n",
    "\n",
    "print(output)"
   ]
  },
  {
   "cell_type": "code",
   "execution_count": 7,
   "id": "ec468e85-22b8-4300-86df-b95dd80c987c",
   "metadata": {},
   "outputs": [
    {
     "name": "stdout",
     "output_type": "stream",
     "text": [
      "Hi Rahul Rudra\n",
      "I am from CSE\n",
      "I am from Python\n",
      "None\n"
     ]
    }
   ],
   "source": [
    "def greet(name,dep,subject=\"Python\"):\n",
    "    print(f\"Hi {name}\")\n",
    "    print(f\"I am from {dep}\")\n",
    "    print(f\"I am from {subject}\")\n",
    "\n",
    "output=greet(name=\"Rahul Rudra\",dep=\"CSE\")\n",
    "\n",
    "print(output)"
   ]
  },
  {
   "cell_type": "code",
   "execution_count": 10,
   "id": "7bf2e39f-655c-4e7c-8e4e-8dc513922337",
   "metadata": {},
   "outputs": [
    {
     "ename": "NameError",
     "evalue": "name 'a' is not defined",
     "output_type": "error",
     "traceback": [
      "\u001b[31m---------------------------------------------------------------------------\u001b[39m",
      "\u001b[31mNameError\u001b[39m                                 Traceback (most recent call last)",
      "\u001b[36mCell\u001b[39m\u001b[36m \u001b[39m\u001b[32mIn[10]\u001b[39m\u001b[32m, line 5\u001b[39m\n\u001b[32m      2\u001b[39m     c=a*b+b+c\n\u001b[32m      3\u001b[39m     \u001b[38;5;28;01mreturn\u001b[39;00m c\n\u001b[32m----> \u001b[39m\u001b[32m5\u001b[39m output=\u001b[43madd\u001b[49m\u001b[43m(\u001b[49m\u001b[32;43m12\u001b[39;49m\u001b[43m,\u001b[49m\u001b[32;43m67\u001b[39;49m\u001b[43m)\u001b[49m\n\u001b[32m      6\u001b[39m \u001b[38;5;28mprint\u001b[39m(output)\n",
      "\u001b[36mCell\u001b[39m\u001b[36m \u001b[39m\u001b[32mIn[10]\u001b[39m\u001b[32m, line 2\u001b[39m, in \u001b[36madd\u001b[39m\u001b[34m(*numbers)\u001b[39m\n\u001b[32m      1\u001b[39m \u001b[38;5;28;01mdef\u001b[39;00m\u001b[38;5;250m \u001b[39m\u001b[34madd\u001b[39m(*numbers):\n\u001b[32m----> \u001b[39m\u001b[32m2\u001b[39m     c=\u001b[43ma\u001b[49m*b+b+c\n\u001b[32m      3\u001b[39m     \u001b[38;5;28;01mreturn\u001b[39;00m c\n",
      "\u001b[31mNameError\u001b[39m: name 'a' is not defined"
     ]
    }
   ],
   "source": [
    "def add(*numbers):\n",
    "    c=a*b+b+c\n",
    "    return c\n",
    "\n",
    "output=add(12,67)\n",
    "print(output)"
   ]
  },
  {
   "cell_type": "code",
   "execution_count": 11,
   "id": "91f73e71-d278-4c96-b9ce-6afbf0724c6b",
   "metadata": {},
   "outputs": [
    {
     "name": "stdout",
     "output_type": "stream",
     "text": [
      "79\n"
     ]
    }
   ],
   "source": [
    "def add(*numbers):\n",
    "    total = sum(numbers)\n",
    "    return total\n",
    "\n",
    "output = add(12, 67)\n",
    "print(output)\n"
   ]
  },
  {
   "cell_type": "code",
   "execution_count": 15,
   "id": "f96c0a2d-75de-4ed2-9bdc-f22a9c4278c2",
   "metadata": {},
   "outputs": [
    {
     "ename": "TypeError",
     "evalue": "add() takes 0 positional arguments but 3 were given",
     "output_type": "error",
     "traceback": [
      "\u001b[31m---------------------------------------------------------------------------\u001b[39m",
      "\u001b[31mTypeError\u001b[39m                                 Traceback (most recent call last)",
      "\u001b[36mCell\u001b[39m\u001b[36m \u001b[39m\u001b[32mIn[15]\u001b[39m\u001b[32m, line 6\u001b[39m\n\u001b[32m      4\u001b[39m         c=c+i\n\u001b[32m      5\u001b[39m     \u001b[38;5;28mprint\u001b[39m(\u001b[33mf\u001b[39m\u001b[33m\"\u001b[39m\u001b[33mSum is \u001b[39m\u001b[38;5;132;01m{\u001b[39;00mc\u001b[38;5;132;01m}\u001b[39;00m\u001b[33m\"\u001b[39m)\n\u001b[32m----> \u001b[39m\u001b[32m6\u001b[39m \u001b[43madd\u001b[49m\u001b[43m(\u001b[49m\u001b[32;43m12\u001b[39;49m\u001b[43m,\u001b[49m\u001b[32;43m45\u001b[39;49m\u001b[43m,\u001b[49m\u001b[32;43m78\u001b[39;49m\u001b[43m)\u001b[49m\n",
      "\u001b[31mTypeError\u001b[39m: add() takes 0 positional arguments but 3 were given"
     ]
    }
   ],
   "source": [
    "def add(**kargs):\n",
    "    c=0\n",
    "    for i in kargs:\n",
    "        c=c+i\n",
    "    print(f\"Sum is {c}\")\n",
    "add(12,45,78)\n",
    "        "
   ]
  },
  {
   "cell_type": "code",
   "execution_count": 20,
   "id": "3a6d3ad3-a358-4303-b63a-bda272fba004",
   "metadata": {},
   "outputs": [
    {
     "ename": "AttributeError",
     "evalue": "'str' object has no attribute 'name'",
     "output_type": "error",
     "traceback": [
      "\u001b[31m---------------------------------------------------------------------------\u001b[39m",
      "\u001b[31mAttributeError\u001b[39m                            Traceback (most recent call last)",
      "\u001b[36mCell\u001b[39m\u001b[36m \u001b[39m\u001b[32mIn[20]\u001b[39m\u001b[32m, line 7\u001b[39m\n\u001b[32m      4\u001b[39m         \u001b[38;5;28mprint\u001b[39m(\u001b[33m'\u001b[39m\u001b[33mValues\u001b[39m\u001b[33m'\u001b[39m, key.name,value)\n\u001b[32m      6\u001b[39m     \u001b[38;5;28mprint\u001b[39m(kwargs.items())\n\u001b[32m----> \u001b[39m\u001b[32m7\u001b[39m \u001b[43minfo\u001b[49m\u001b[43m(\u001b[49m\u001b[43mname\u001b[49m\u001b[43m=\u001b[49m\u001b[33;43m\"\u001b[39;49m\u001b[33;43mRahul Rudra\u001b[39;49m\u001b[33;43m\"\u001b[39;49m\u001b[43m,\u001b[49m\u001b[43mage\u001b[49m\u001b[43m=\u001b[49m\u001b[33;43m\"\u001b[39;49m\u001b[33;43m30\u001b[39;49m\u001b[33;43m\"\u001b[39;49m\u001b[43m)\u001b[49m\n",
      "\u001b[36mCell\u001b[39m\u001b[36m \u001b[39m\u001b[32mIn[20]\u001b[39m\u001b[32m, line 4\u001b[39m, in \u001b[36minfo\u001b[39m\u001b[34m(**kwargs)\u001b[39m\n\u001b[32m      1\u001b[39m \u001b[38;5;28;01mdef\u001b[39;00m\u001b[38;5;250m \u001b[39m\u001b[34minfo\u001b[39m(**kwargs):\n\u001b[32m      3\u001b[39m     \u001b[38;5;28;01mfor\u001b[39;00m key, value \u001b[38;5;129;01min\u001b[39;00m kwargs.items():\n\u001b[32m----> \u001b[39m\u001b[32m4\u001b[39m         \u001b[38;5;28mprint\u001b[39m(\u001b[33m'\u001b[39m\u001b[33mValues\u001b[39m\u001b[33m'\u001b[39m, \u001b[43mkey\u001b[49m\u001b[43m.\u001b[49m\u001b[43mname\u001b[49m,value)\n\u001b[32m      6\u001b[39m     \u001b[38;5;28mprint\u001b[39m(kwargs.items())\n",
      "\u001b[31mAttributeError\u001b[39m: 'str' object has no attribute 'name'"
     ]
    }
   ],
   "source": [
    "def info(**kwargs):\n",
    "\n",
    "    for key, value in kwargs.items():\n",
    "        print('Values', key.name,value)\n",
    "        \n",
    "    print(kwargs.items())\n",
    "info(name=\"Rahul Rudra\",age=\"30\")"
   ]
  },
  {
   "cell_type": "code",
   "execution_count": 22,
   "id": "0bc13c9e-ed78-48b3-841b-ea8b9374ba96",
   "metadata": {},
   "outputs": [
    {
     "name": "stdout",
     "output_type": "stream",
     "text": [
      "10\n",
      "30\n",
      "Values a 1\n",
      "Values b 2\n",
      "Values c 3\n"
     ]
    }
   ],
   "source": [
    "# *args example\n",
    "def fun(*args):\n",
    "    return sum(args)\n",
    "\n",
    "print(fun(1, 2, 3, 4)) \n",
    "print(fun(5, 10, 15))   \n",
    "\n",
    "# **kwargs example\n",
    "def fun(**kwargs):\n",
    "    for k, val in kwargs.items():\n",
    "        print('Values',k, val)\n",
    "\n",
    "fun(a=1, b=2, c=3)"
   ]
  },
  {
   "cell_type": "code",
   "execution_count": 23,
   "id": "f2a5c0f9-fe53-4aeb-b86d-4d327fad0e7c",
   "metadata": {},
   "outputs": [
    {
     "name": "stdin",
     "output_type": "stream",
     "text": [
      "Enter the height of wall in meters 10\n",
      "Enter the width of wall in meters 20\n",
      "Enter the Cover 7\n"
     ]
    },
    {
     "name": "stdout",
     "output_type": "stream",
     "text": [
      "You will need 10.0 \n",
      "None\n"
     ]
    }
   ],
   "source": [
    "def paint_calculation(height,width,cover):\n",
    "    area=height*width\n",
    "    noOfCans=area/width\n",
    "    print(f\"You will need {noOfCans} \")\n",
    "\n",
    "h=int(input(\"Enter the height of wall in meters\"))\n",
    "w=int(input(\"Enter the width of wall in meters\"))\n",
    "c=int(input(\"Enter the Cover\"))\n",
    "\n",
    "requiredValue=paint_calculation(width=w, height=h,cover=c)\n",
    "print(requiredValue)\n"
   ]
  },
  {
   "cell_type": "code",
   "execution_count": 25,
   "id": "8db9fbb2-9af1-4876-98b7-bbc3f16c1add",
   "metadata": {},
   "outputs": [
    {
     "name": "stdin",
     "output_type": "stream",
     "text": [
      "Enter the height of wall in meters 12\n",
      "Enter the width of wall in meters 12\n",
      "Enter the Cover 6\n"
     ]
    },
    {
     "name": "stdout",
     "output_type": "stream",
     "text": [
      "You will need 12 \n",
      "None\n"
     ]
    }
   ],
   "source": [
    "import math\n",
    "\n",
    "\n",
    "def paint_calculation(height,width,cover):\n",
    "    area=height*width\n",
    "    noOfCans=math.ceil(area/width)\n",
    "    print(f\"You will need {noOfCans} \")\n",
    "\n",
    "h=int(input(\"Enter the height of wall in meters\"))\n",
    "w=int(input(\"Enter the width of wall in meters\"))\n",
    "c=int(input(\"Enter the Cover\"))\n",
    "\n",
    "requiredValue=paint_calculation(width=w, height=h,cover=c)\n",
    "print(requiredValue)\n"
   ]
  },
  {
   "cell_type": "code",
   "execution_count": 26,
   "id": "c7d34daa-f838-4157-af3c-39549be4f7cb",
   "metadata": {},
   "outputs": [
    {
     "name": "stdin",
     "output_type": "stream",
     "text": [
      "Enter the height of wall in meters:  12\n",
      "Enter the width of wall in meters:  12\n",
      "Enter the coverage area per can in square meters:  6\n"
     ]
    },
    {
     "name": "stdout",
     "output_type": "stream",
     "text": [
      "You will need 24 cans of paint\n"
     ]
    }
   ],
   "source": [
    "import math\n",
    "\n",
    "def paint_calculation(height, width, cover):\n",
    "    area = height * width\n",
    "    noOfCans = math.ceil(area / cover)\n",
    "    return noOfCans\n",
    "\n",
    "h = int(input(\"Enter the height of wall in meters: \"))\n",
    "w = int(input(\"Enter the width of wall in meters: \"))\n",
    "c = int(input(\"Enter the coverage area per can in square meters: \"))\n",
    "\n",
    "requiredValue = paint_calculation(height=h, width=w, cover=c)\n",
    "print(f\"You will need {requiredValue} cans of paint\")\n"
   ]
  },
  {
   "cell_type": "code",
   "execution_count": null,
   "id": "09db7953-ac8d-4394-9f4a-b06dd7949975",
   "metadata": {},
   "outputs": [],
   "source": [
    "def prime_checker(number):\n",
    "    is_prime=True\n",
    "    if number==1:\n",
    "        is_prime=False\n",
    "    for i in range(2,number):\n",
    "        if number%i==0:\n",
    "            is_prime=False\n",
    "    if is_prime==True:\n",
    "        print(\"Its a prime number\")\n",
    "    else:\n",
    "        print(\"Not prime\")\n",
    "            "
   ]
  }
 ],
 "metadata": {
  "kernelspec": {
   "display_name": "Python 3 (ipykernel)",
   "language": "python",
   "name": "python3"
  },
  "language_info": {
   "codemirror_mode": {
    "name": "ipython",
    "version": 3
   },
   "file_extension": ".py",
   "mimetype": "text/x-python",
   "name": "python",
   "nbconvert_exporter": "python",
   "pygments_lexer": "ipython3",
   "version": "3.12.3"
  },
  "widgets": {
   "application/vnd.jupyter.widget-state+json": {
    "state": {},
    "version_major": 2,
    "version_minor": 0
   }
  }
 },
 "nbformat": 4,
 "nbformat_minor": 5
}
