{
 "cells": [
  {
   "cell_type": "code",
   "execution_count": 1,
   "id": "fcdf6256-838a-4eab-9453-d5405a75118d",
   "metadata": {},
   "outputs": [
    {
     "name": "stdout",
     "output_type": "stream",
     "text": [
      "[[[1, 3, [1, 23, 6]]]]\n"
     ]
    }
   ],
   "source": [
    "L1=[[[1,3,[1,23,6]]]]\n",
    "print(L1)"
   ]
  },
  {
   "cell_type": "code",
   "execution_count": 2,
   "id": "81053e5f-057a-4e31-93fc-38c2ae79e804",
   "metadata": {},
   "outputs": [
    {
     "data": {
      "text/plain": [
       "6"
      ]
     },
     "execution_count": 2,
     "metadata": {},
     "output_type": "execute_result"
    }
   ],
   "source": [
    "L1[0]         # => [[1, 3, [1, 23, 6]]]\n",
    "L1[0][0]      # => [1, 3, [1, 23, 6]]\n",
    "L1[0][0][2]   # => [1, 23, 6]\n",
    "L1[0][0][2][2]  # => 6\n"
   ]
  },
  {
   "cell_type": "code",
   "execution_count": 7,
   "id": "725fc130-84d2-4fc2-bd43-3fa0d1f24c4d",
   "metadata": {},
   "outputs": [],
   "source": [
    "L=[1,2,3,4,5,6]\n",
    "L.append([12,5])"
   ]
  },
  {
   "cell_type": "code",
   "execution_count": 8,
   "id": "b881701e-8e97-4f85-a8dc-5f693cd9e2e1",
   "metadata": {},
   "outputs": [
    {
     "name": "stdout",
     "output_type": "stream",
     "text": [
      "[1, 2, 3, 4, 5, 6, [12, 5]]\n"
     ]
    }
   ],
   "source": [
    "print(L)"
   ]
  },
  {
   "cell_type": "code",
   "execution_count": 9,
   "id": "60fb65ef-d998-4e50-bba8-0f055a335872",
   "metadata": {},
   "outputs": [
    {
     "ename": "TypeError",
     "evalue": "'<' not supported between instances of 'list' and 'int'",
     "output_type": "error",
     "traceback": [
      "\u001b[31m---------------------------------------------------------------------------\u001b[39m",
      "\u001b[31mTypeError\u001b[39m                                 Traceback (most recent call last)",
      "\u001b[36mCell\u001b[39m\u001b[36m \u001b[39m\u001b[32mIn[9]\u001b[39m\u001b[32m, line 1\u001b[39m\n\u001b[32m----> \u001b[39m\u001b[32m1\u001b[39m \u001b[38;5;28;43msorted\u001b[39;49m\u001b[43m(\u001b[49m\u001b[43mL\u001b[49m\u001b[43m)\u001b[49m\n",
      "\u001b[31mTypeError\u001b[39m: '<' not supported between instances of 'list' and 'int'"
     ]
    }
   ],
   "source": [
    "sorted(L)"
   ]
  },
  {
   "cell_type": "code",
   "execution_count": 16,
   "id": "6439250b-1001-47e5-a6bf-5297ed85a992",
   "metadata": {},
   "outputs": [],
   "source": [
    "L1=[10,2,3,4,5,6]\n",
    "L1.sort()"
   ]
  },
  {
   "cell_type": "code",
   "execution_count": null,
   "id": "7afc8082-1b79-466c-aa1d-db9125dbbc8f",
   "metadata": {},
   "outputs": [],
   "source": []
  },
  {
   "cell_type": "code",
   "execution_count": 17,
   "id": "24935ea9-ed31-4358-98d1-c9b88bffb988",
   "metadata": {},
   "outputs": [
    {
     "name": "stdout",
     "output_type": "stream",
     "text": [
      "[2, 3, 4, 5, 6, 10]\n"
     ]
    }
   ],
   "source": [
    "print(L1)"
   ]
  },
  {
   "cell_type": "code",
   "execution_count": 18,
   "id": "92a1dacc-ca09-4803-a76a-2ce40e6bcc7b",
   "metadata": {},
   "outputs": [
    {
     "data": {
      "text/plain": [
       "[2, 3, 4, 5, 6, 10]"
      ]
     },
     "execution_count": 18,
     "metadata": {},
     "output_type": "execute_result"
    }
   ],
   "source": [
    "sorted(L1)"
   ]
  },
  {
   "cell_type": "code",
   "execution_count": 19,
   "id": "6b183442-aeda-484b-bcfc-6b2d3923209d",
   "metadata": {},
   "outputs": [
    {
     "data": {
      "text/plain": [
       "[2, 3, 4, 5, 6, 10]"
      ]
     },
     "execution_count": 19,
     "metadata": {},
     "output_type": "execute_result"
    }
   ],
   "source": [
    "L1"
   ]
  },
  {
   "cell_type": "code",
   "execution_count": 20,
   "id": "d31d7db8-2fa8-4aae-b7c7-46b84204e9a5",
   "metadata": {},
   "outputs": [
    {
     "data": {
      "text/plain": [
       "[2, 3, 4, 5, 6, 10]"
      ]
     },
     "execution_count": 20,
     "metadata": {},
     "output_type": "execute_result"
    }
   ],
   "source": [
    "L1=[10,2,3,4,5,6]\n",
    "sorted(L1)"
   ]
  },
  {
   "cell_type": "code",
   "execution_count": 21,
   "id": "1ce2eb65-21ca-4d0c-9f80-f36da1958f83",
   "metadata": {},
   "outputs": [
    {
     "data": {
      "text/plain": [
       "[10, 2, 3, 4, 5, 6]"
      ]
     },
     "execution_count": 21,
     "metadata": {},
     "output_type": "execute_result"
    }
   ],
   "source": [
    "L1"
   ]
  },
  {
   "cell_type": "code",
   "execution_count": null,
   "id": "04d5e8b9-f0b1-430d-9c1a-92fc01338ef8",
   "metadata": {},
   "outputs": [],
   "source": []
  }
 ],
 "metadata": {
  "kernelspec": {
   "display_name": "Python 3 (ipykernel)",
   "language": "python",
   "name": "python3"
  },
  "language_info": {
   "codemirror_mode": {
    "name": "ipython",
    "version": 3
   },
   "file_extension": ".py",
   "mimetype": "text/x-python",
   "name": "python",
   "nbconvert_exporter": "python",
   "pygments_lexer": "ipython3",
   "version": "3.12.3"
  },
  "widgets": {
   "application/vnd.jupyter.widget-state+json": {
    "state": {},
    "version_major": 2,
    "version_minor": 0
   }
  }
 },
 "nbformat": 4,
 "nbformat_minor": 5
}
