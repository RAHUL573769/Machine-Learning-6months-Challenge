{
 "cells": [
  {
   "cell_type": "code",
   "execution_count": 1,
   "id": "ff008778-4aac-47d6-8331-62f9668fda6a",
   "metadata": {},
   "outputs": [
    {
     "name": "stdout",
     "output_type": "stream",
     "text": [
      "Hello Wotld\n"
     ]
    }
   ],
   "source": [
    "print(\"Hello Wotld\")"
   ]
  },
  {
   "cell_type": "markdown",
   "id": "7d1ff914-55f1-4ac6-abb3-bb8dbf18337c",
   "metadata": {},
   "source": [
    "# Importing Data Set"
   ]
  },
  {
   "cell_type": "code",
   "execution_count": 1,
   "id": "20fcd44e-94c7-4f3f-9fae-208353c1be5a",
   "metadata": {},
   "outputs": [],
   "source": [
    "import numpy as np"
   ]
  },
  {
   "cell_type": "code",
   "execution_count": 2,
   "id": "11c0a21f-586d-45f0-aa75-372812abc039",
   "metadata": {},
   "outputs": [
    {
     "data": {
      "text/plain": [
       "array([1, 2, 4])"
      ]
     },
     "execution_count": 2,
     "metadata": {},
     "output_type": "execute_result"
    }
   ],
   "source": [
    "np.array([1,2,4])"
   ]
  },
  {
   "cell_type": "code",
   "execution_count": null,
   "id": "c9b93db1-5eb6-4fb1-a8ab-dd7c243c08d3",
   "metadata": {},
   "outputs": [],
   "source": []
  }
 ],
 "metadata": {
  "kernelspec": {
   "display_name": "Python 3 (ipykernel)",
   "language": "python",
   "name": "python3"
  },
  "language_info": {
   "codemirror_mode": {
    "name": "ipython",
    "version": 3
   },
   "file_extension": ".py",
   "mimetype": "text/x-python",
   "name": "python",
   "nbconvert_exporter": "python",
   "pygments_lexer": "ipython3",
   "version": "3.12.3"
  },
  "widgets": {
   "application/vnd.jupyter.widget-state+json": {
    "state": {},
    "version_major": 2,
    "version_minor": 0
   }
  }
 },
 "nbformat": 4,
 "nbformat_minor": 5
}
